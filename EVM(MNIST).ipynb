{
  "nbformat": 4,
  "nbformat_minor": 0,
  "metadata": {
    "colab": {
      "name": "EVM(MNIST).ipynb",
      "provenance": [],
      "collapsed_sections": [],
      "toc_visible": true,
      "include_colab_link": true
    },
    "kernelspec": {
      "name": "python3",
      "display_name": "Python 3"
    },
    "accelerator": "GPU"
  },
  "cells": [
    {
      "cell_type": "markdown",
      "metadata": {
        "id": "view-in-github",
        "colab_type": "text"
      },
      "source": [
        "<a href=\"https://colab.research.google.com/github/SHIVANSH-CHANDRA-TRIPATHI/Machine_Learning-Open_World_Classification_Problem/blob/master/EVM(MNIST).ipynb\" target=\"_parent\"><img src=\"https://colab.research.google.com/assets/colab-badge.svg\" alt=\"Open In Colab\"/></a>"
      ]
    },
    {
      "cell_type": "code",
      "metadata": {
        "id": "GcBeiutczti_",
        "colab_type": "code",
        "outputId": "4ac131ca-63e0-459b-a817-f54618cc58d3",
        "colab": {
          "base_uri": "https://localhost:8080/",
          "height": 126
        }
      },
      "source": [
        "# Run this cell to mount your Google Drive.\n",
        "from google.colab import drive\n",
        "drive.mount('/content/drive')"
      ],
      "execution_count": 0,
      "outputs": [
        {
          "output_type": "stream",
          "text": [
            "Go to this URL in a browser: https://accounts.google.com/o/oauth2/auth?client_id=947318989803-6bn6qk8qdgf4n4g3pfee6491hc0brc4i.apps.googleusercontent.com&redirect_uri=urn%3Aietf%3Awg%3Aoauth%3A2.0%3Aoob&scope=email%20https%3A%2F%2Fwww.googleapis.com%2Fauth%2Fdocs.test%20https%3A%2F%2Fwww.googleapis.com%2Fauth%2Fdrive%20https%3A%2F%2Fwww.googleapis.com%2Fauth%2Fdrive.photos.readonly%20https%3A%2F%2Fwww.googleapis.com%2Fauth%2Fpeopleapi.readonly&response_type=code\n",
            "\n",
            "Enter your authorization code:\n",
            "··········\n",
            "Mounted at /content/drive\n"
          ],
          "name": "stdout"
        }
      ]
    },
    {
      "cell_type": "code",
      "metadata": {
        "id": "QzF41EGYeuPj",
        "colab_type": "code",
        "outputId": "a50ed221-6663-4d9c-9d0b-3ba89f549d84",
        "colab": {
          "base_uri": "https://localhost:8080/",
          "height": 35
        }
      },
      "source": [
        "cd drive/My Drive/EVM/"
      ],
      "execution_count": 0,
      "outputs": [
        {
          "output_type": "stream",
          "text": [
            "/content/drive/My Drive/EVM\n"
          ],
          "name": "stdout"
        }
      ]
    },
    {
      "cell_type": "code",
      "metadata": {
        "id": "NcO_zw2PpqYg",
        "colab_type": "code",
        "outputId": "e60ab8fc-fa89-41a2-da09-059ddafe684c",
        "colab": {
          "base_uri": "https://localhost:8080/",
          "height": 71
        }
      },
      "source": [
        "from __future__ import print_function\n",
        "import keras\n",
        "from keras.datasets import mnist\n",
        "from keras.models import Sequential\n",
        "from keras.layers import Dense, Dropout, Flatten\n",
        "from keras.layers import Conv2D, MaxPooling2D\n",
        "from keras import backend as K\n",
        "import tensorflow as tf\n",
        "import numpy as np\n",
        "import matplotlib.pyplot as plt\n",
        "from keras.models import load_model\n",
        "from keras import models,layers\n",
        "import numpy as np\n",
        "\n",
        "(x_train, y_train), (x_test, y_test) = mnist.load_data()"
      ],
      "execution_count": 0,
      "outputs": [
        {
          "output_type": "stream",
          "text": [
            "Using TensorFlow backend.\n"
          ],
          "name": "stderr"
        },
        {
          "output_type": "stream",
          "text": [
            "Downloading data from https://s3.amazonaws.com/img-datasets/mnist.npz\n",
            "11493376/11490434 [==============================] - 0s 0us/step\n"
          ],
          "name": "stdout"
        }
      ]
    },
    {
      "cell_type": "markdown",
      "metadata": {
        "id": "zZkyRgkQxXP0",
        "colab_type": "text"
      },
      "source": [
        "## **Separating Different Digits of Mnist**"
      ]
    },
    {
      "cell_type": "code",
      "metadata": {
        "id": "vIoI_3x29XPW",
        "colab_type": "code",
        "colab": {}
      },
      "source": [
        "x0=x1=x2=x3=x4=x5=x6=x7=x8=x9=[]\n",
        "for i in range(60000):\n",
        "    if(y_train[i]==0):\n",
        "     x0 = np.append(x0,x_train[i])\n",
        "    elif(y_train[i]==1):\n",
        "     x1 = np.append(x1,x_train[i])\n",
        "    elif(y_train[i]==2):\n",
        "     x2 = np.append(x2,x_train[i])\n",
        "    elif(y_train[i]==3):\n",
        "     x3 = np.append(x3,x_train[i])\n",
        "    elif(y_train[i]==4):\n",
        "     x4 = np.append(x4,x_train[i])\n",
        "    elif(y_train[i]==5):\n",
        "     x5 = np.append(x5,x_train[i])\n",
        "    elif(y_train[i]==6):\n",
        "     x6 = np.append(x6,x_train[i])\n",
        "    elif(y_train[i]==7):\n",
        "     x7 = np.append(x7,x_train[i])\n",
        "    elif(y_train[i]==8):\n",
        "     x8 = np.append(x8,x_train[i])\n",
        "    elif(y_train[i]==9):\n",
        "     x9 = np.append(x9,x_train[i])"
      ],
      "execution_count": 0,
      "outputs": []
    },
    {
      "cell_type": "code",
      "metadata": {
        "colab_type": "code",
        "id": "dBXtyKmpCpnx",
        "colab": {}
      },
      "source": [
        "x0 = x0.reshape(x0.shape[0]//784,28,28,1)\n",
        "x1 = x1.reshape(x1.shape[0]//784,28,28,1)\n",
        "x2 = x2.reshape(x2.shape[0]//784,28,28,1)\n",
        "x3 = x3.reshape(x3.shape[0]//784,28,28,1)\n",
        "x4 = x4.reshape(x4.shape[0]//784,28,28,1)\n",
        "x5 = x5.reshape(x5.shape[0]//784,28,28,1)\n",
        "x6 = x6.reshape(x6.shape[0]//784,28,28,1)\n",
        "x7 = x7.reshape(x7.shape[0]//784,28,28,1)\n",
        "x8 = x8.reshape(x8.shape[0]//784,28,28,1)\n",
        "x9 = x9.reshape(x9.shape[0]//784,28,28,1)"
      ],
      "execution_count": 0,
      "outputs": []
    },
    {
      "cell_type": "code",
      "metadata": {
        "id": "LbLOru5JqSkP",
        "colab_type": "code",
        "colab": {}
      },
      "source": [
        "np.save(\"x0.npy\",x0)\n",
        "np.save(\"x1.npy\",x1)\n",
        "np.save(\"x2.npy\",x2)\n",
        "np.save(\"x3.npy\",x3)\n",
        "np.save(\"x4.npy\",x4)\n",
        "np.save(\"x5.npy\",x5)\n",
        "np.save(\"x6.npy\",x6)\n",
        "np.save(\"x7.npy\",x7)\n",
        "np.save(\"x8.npy\",x8)\n",
        "np.save(\"x9.npy\",x9)"
      ],
      "execution_count": 0,
      "outputs": []
    },
    {
      "cell_type": "code",
      "metadata": {
        "id": "sdTewbMs0jGx",
        "colab_type": "code",
        "colab": {}
      },
      "source": [
        "x0 = np.load(\"x0.npy\")\n",
        "x1 = np.load(\"x1.npy\")\n",
        "x2 = np.load(\"x2.npy\")\n",
        "x3 = np.load(\"x3.npy\")\n",
        "x4 = np.load(\"x4.npy\")\n",
        "x5 = np.load(\"x5.npy\")\n",
        "x6 = np.load(\"x6.npy\")\n",
        "x7 = np.load(\"x7.npy\")\n",
        "x8 = np.load(\"x8.npy\")\n",
        "x9 = np.load(\"x9.npy\")"
      ],
      "execution_count": 0,
      "outputs": []
    },
    {
      "cell_type": "code",
      "metadata": {
        "id": "Zl40QPxjkRl-",
        "colab_type": "code",
        "outputId": "5e84b2ba-536c-4687-ce5f-f2d228555991",
        "colab": {
          "base_uri": "https://localhost:8080/",
          "height": 35
        }
      },
      "source": [
        "x0.shape"
      ],
      "execution_count": 0,
      "outputs": [
        {
          "output_type": "execute_result",
          "data": {
            "text/plain": [
              "(5421, 28, 28, 1)"
            ]
          },
          "metadata": {
            "tags": []
          },
          "execution_count": 5
        }
      ]
    },
    {
      "cell_type": "code",
      "metadata": {
        "id": "cz52ikoa_Tel",
        "colab_type": "code",
        "outputId": "fd4d96d9-b46a-481f-e3ce-ff1076b7947d",
        "colab": {
          "base_uri": "https://localhost:8080/",
          "height": 287
        }
      },
      "source": [
        "plt.imshow(x5[0].reshape(28,28),cmap='gray')"
      ],
      "execution_count": 0,
      "outputs": [
        {
          "output_type": "execute_result",
          "data": {
            "text/plain": [
              "<matplotlib.image.AxesImage at 0x7fb9ba09b160>"
            ]
          },
          "metadata": {
            "tags": []
          },
          "execution_count": 12
        },
        {
          "output_type": "display_data",
          "data": {
            "image/png": "[encoded data removed]",
            "text/plain": [
              "<Figure size 432x288 with 1 Axes>"
            ]
          },
          "metadata": {
            "tags": []
          }
        }
      ]
    },
    {
      "cell_type": "code",
      "metadata": {
        "id": "tljAG9L4OIgb",
        "colab_type": "code",
        "colab": {}
      },
      "source": [
        "x0 = x0[:5421].astype(float)/255.0\n",
        "x1 = x1[:5421].astype(float)/255.0\n",
        "x2 = x2[:5421].astype(float)/255.0\n",
        "x3 = x3[:5421].astype(float)/255.0\n",
        "x4 = x4[:5421].astype(float)/255.0\n",
        "x5 = x5[:5421].astype(float)/255.0\n",
        "x6 = x6[:5421].astype(float)/255.0\n",
        "x7 = x7[:5421].astype(float)/255.0\n",
        "x8 = x8[:5421].astype(float)/255.0\n",
        "x9 = x9[:5421].astype(float)/255.0\n"
      ],
      "execution_count": 0,
      "outputs": []
    },
    {
      "cell_type": "code",
      "metadata": {
        "id": "bfpzz6Be1jW-",
        "colab_type": "code",
        "colab": {}
      },
      "source": [
        "x_norm = []\n",
        "for i in range(10):\n",
        "  x_norm = np.append(x_norm, vars()['x'+str(i)])"
      ],
      "execution_count": 0,
      "outputs": []
    },
    {
      "cell_type": "code",
      "metadata": {
        "id": "_zSw8TIqQHhE",
        "colab_type": "code",
        "colab": {}
      },
      "source": [
        "np.save(\"x_norm.npy\",x_norm)"
      ],
      "execution_count": 0,
      "outputs": []
    },
    {
      "cell_type": "code",
      "metadata": {
        "id": "P-2Za7po_02C",
        "colab_type": "code",
        "colab": {}
      },
      "source": [
        "x_norm = x_norm.reshape(x_norm.shape[0]//784,28,28,1)"
      ],
      "execution_count": 0,
      "outputs": []
    },
    {
      "cell_type": "code",
      "metadata": {
        "id": "gJdKzt7JOGbk",
        "colab_type": "code",
        "outputId": "199a4dd3-debb-470b-da81-f7d83d7c187d",
        "colab": {
          "base_uri": "https://localhost:8080/",
          "height": 35
        }
      },
      "source": [
        "x_norm.shape"
      ],
      "execution_count": 0,
      "outputs": [
        {
          "output_type": "execute_result",
          "data": {
            "text/plain": [
              "(54210, 28, 28, 1)"
            ]
          },
          "metadata": {
            "tags": []
          },
          "execution_count": 48
        }
      ]
    },
    {
      "cell_type": "code",
      "metadata": {
        "id": "D3ucxEXmNs3p",
        "colab_type": "code",
        "outputId": "e52577a9-6914-44d7-b8e9-b31cec2b2484",
        "colab": {
          "base_uri": "https://localhost:8080/",
          "height": 394
        }
      },
      "source": [
        "pip install evm"
      ],
      "execution_count": 0,
      "outputs": [
        {
          "output_type": "stream",
          "text": [
            "Collecting evm\n",
            "  Downloading https://files.pythonhosted.org/packages/a5/ee/187044f9158fcfd4cf808a5ca58115a987f79228b76bf230e1abac0c2636/EVM-0.1.2.zip\n",
            "Collecting libmr>=0.1.8 (from evm)\n",
            "  Downloading https://files.pythonhosted.org/packages/f3/48/f9d43abb742cbebec15933a052042da84d682da2142e803a0c1fa4524210/libmr-0.1.9.zip\n",
            "Requirement already satisfied: h5py in /usr/local/lib/python3.6/dist-packages (from evm) (2.8.0)\n",
            "Requirement already satisfied: scipy in /usr/local/lib/python3.6/dist-packages (from evm) (1.3.0)\n",
            "Requirement already satisfied: sklearn in /usr/local/lib/python3.6/dist-packages (from evm) (0.0)\n",
            "Requirement already satisfied: cython in /usr/local/lib/python3.6/dist-packages (from libmr>=0.1.8->evm) (0.29.10)\n",
            "Requirement already satisfied: numpy in /usr/local/lib/python3.6/dist-packages (from libmr>=0.1.8->evm) (1.16.4)\n",
            "Requirement already satisfied: six in /usr/local/lib/python3.6/dist-packages (from h5py->evm) (1.12.0)\n",
            "Requirement already satisfied: scikit-learn in /usr/local/lib/python3.6/dist-packages (from sklearn->evm) (0.21.2)\n",
            "Requirement already satisfied: joblib>=0.11 in /usr/local/lib/python3.6/dist-packages (from scikit-learn->sklearn->evm) (0.13.2)\n",
            "Building wheels for collected packages: evm, libmr\n",
            "  Building wheel for evm (setup.py) ... \u001b[?25l\u001b[?25hdone\n",
            "  Stored in directory: /root/.cache/pip/wheels/9d/d3/fb/342ec9af3d8b3d0d7159081e8205a70404d3d324a402d911d0\n",
            "  Building wheel for libmr (setup.py) ... \u001b[?25l\u001b[?25hdone\n",
            "  Stored in directory: /root/.cache/pip/wheels/68/59/1a/9f120c43e08929ccf17ed7aa1d38b86b55f82787ceecddb7ae\n",
            "Successfully built evm libmr\n",
            "Installing collected packages: libmr, evm\n",
            "Successfully installed evm-0.1.2 libmr-0.1.9\n"
          ],
          "name": "stdout"
        }
      ]
    },
    {
      "cell_type": "code",
      "metadata": {
        "id": "MA9g3g79Ns0b",
        "colab_type": "code",
        "colab": {}
      },
      "source": [
        "import EVM, numpy, scipy\n"
      ],
      "execution_count": 0,
      "outputs": []
    },
    {
      "cell_type": "code",
      "metadata": {
        "id": "tYN3jZCu0mrC",
        "colab_type": "code",
        "colab": {}
      },
      "source": [
        "evm5 = EVM.EVM(tailsize=100000, cover_threshold = 0.7, distance_function=scipy.spatial.distance.euclidean)"
      ],
      "execution_count": 0,
      "outputs": []
    },
    {
      "cell_type": "code",
      "metadata": {
        "id": "FhxVGMZ5Nsxq",
        "colab_type": "code",
        "colab": {}
      },
      "source": [
        "evm5.train(positives = x4 , negatives = numpy.concatenate((x7,x9)))"
      ],
      "execution_count": 0,
      "outputs": []
    },
    {
      "cell_type": "code",
      "metadata": {
        "colab_type": "code",
        "id": "_N7kncq_SeZO",
        "colab": {}
      },
      "source": [
        "import pickle\n",
        "#evm2 tailsize 100\n",
        "#evm3 tailsize 1000\n",
        "#evm4 tailsize 10000\n",
        "#evm5 tailsize 100000"
      ],
      "execution_count": 0,
      "outputs": []
    },
    {
      "cell_type": "code",
      "metadata": {
        "colab_type": "code",
        "id": "KDF-8HujSeZT",
        "outputId": "97a290e6-c8e5-420d-9a00-c899c18e71dc",
        "colab": {
          "base_uri": "https://localhost:8080/",
          "height": 169
        }
      },
      "source": [
        "pickle.dump(evm5, open('evm5', 'wb'))"
      ],
      "execution_count": 0,
      "outputs": [
        {
          "output_type": "error",
          "ename": "NameError",
          "evalue": "ignored",
          "traceback": [
            "\u001b[0;31m---------------------------------------------------------------------------\u001b[0m",
            "\u001b[0;31mNameError\u001b[0m                                 Traceback (most recent call last)",
            "\u001b[0;32m<ipython-input-1-b9afbc8dd261>\u001b[0m in \u001b[0;36m<module>\u001b[0;34m()\u001b[0m\n\u001b[0;32m----> 1\u001b[0;31m \u001b[0mpickle\u001b[0m\u001b[0;34m.\u001b[0m\u001b[0mdump\u001b[0m\u001b[0;34m(\u001b[0m\u001b[0mevm5\u001b[0m\u001b[0;34m,\u001b[0m \u001b[0mopen\u001b[0m\u001b[0;34m(\u001b[0m\u001b[0;34m'evm5'\u001b[0m\u001b[0;34m,\u001b[0m \u001b[0;34m'wb'\u001b[0m\u001b[0;34m)\u001b[0m\u001b[0;34m)\u001b[0m\u001b[0;34m\u001b[0m\u001b[0;34m\u001b[0m\u001b[0m\n\u001b[0m",
            "\u001b[0;31mNameError\u001b[0m: name 'pickle' is not defined"
          ]
        }
      ]
    },
    {
      "cell_type": "code",
      "metadata": {
        "colab_type": "code",
        "id": "xgRwi4GISeZY",
        "colab": {}
      },
      "source": [
        "evm1 = pickle.load(open('evm1', 'rb'))"
      ],
      "execution_count": 0,
      "outputs": []
    },
    {
      "cell_type": "code",
      "metadata": {
        "colab_type": "code",
        "id": "ms97W-X_fEQ7",
        "colab": {}
      },
      "source": [
        "xt0=xt1=xt2=xt3=xt4=xt5=xt6=xt7=xt8=xt9=[]\n",
        "for i in range(10000):\n",
        "  vars()['xt'+str(y_test[i])] = np.append(vars()['xt'+str(y_test[i])],x_test[i])"
      ],
      "execution_count": 0,
      "outputs": []
    },
    {
      "cell_type": "code",
      "metadata": {
        "id": "46XxZH8Jg6tz",
        "colab_type": "code",
        "outputId": "d1e6f566-514f-4a55-82fb-ba349bc0d2b1",
        "colab": {
          "base_uri": "https://localhost:8080/",
          "height": 55
        }
      },
      "source": [
        "print(xt0.shape, xt1.shape,xt2.shape,xt3.shape,xt4.shape,xt5.shape,xt6.shape,xt7.shape,xt8.shape,xt9.shape)"
      ],
      "execution_count": 0,
      "outputs": [
        {
          "output_type": "stream",
          "text": [
            "(892, 784) (892, 784) (892, 784) (892, 784) (892, 784) (892, 784) (892, 784) (892, 784) (892, 784) (892, 784)\n"
          ],
          "name": "stdout"
        }
      ]
    },
    {
      "cell_type": "code",
      "metadata": {
        "id": "sB8LwPcenEnO",
        "colab_type": "code",
        "outputId": "79c1fb1e-5602-4e73-d427-3707cf2a41bf",
        "colab": {
          "base_uri": "https://localhost:8080/",
          "height": 35
        }
      },
      "source": [
        "xt1.shape"
      ],
      "execution_count": 0,
      "outputs": [
        {
          "output_type": "execute_result",
          "data": {
            "text/plain": [
              "(892, 28, 28, 1)"
            ]
          },
          "metadata": {
            "tags": []
          },
          "execution_count": 33
        }
      ]
    },
    {
      "cell_type": "code",
      "metadata": {
        "colab_type": "code",
        "id": "JImYi7sMfERD",
        "colab": {}
      },
      "source": [
        "for i in range(10):\n",
        "  vars()['xt'+str(i)] = (vars()['xt'+str(i)].reshape(vars()['xt'+str(i)].shape[0]//784,28,28,1))[:892]/255"
      ],
      "execution_count": 0,
      "outputs": []
    },
    {
      "cell_type": "code",
      "metadata": {
        "colab_type": "code",
        "id": "0g7XpjZQfERG",
        "colab": {}
      },
      "source": [
        "for i in range(10):\n",
        " np.save(\"xt\"+str(i)+\".npy\",vars()['xt'+str(i)])"
      ],
      "execution_count": 0,
      "outputs": []
    },
    {
      "cell_type": "code",
      "metadata": {
        "id": "wzUeCjDmHni5",
        "colab_type": "code",
        "colab": {}
      },
      "source": [
        "x_normt = []\n",
        "for i in range(10):\n",
        "  x_normt = np.append(x_normt, vars()['xt'+str(i)])"
      ],
      "execution_count": 0,
      "outputs": []
    },
    {
      "cell_type": "code",
      "metadata": {
        "id": "ZAI5ZrN1cMQk",
        "colab_type": "code",
        "colab": {}
      },
      "source": [
        "np.save(\"x_normt.npy\",x_normt)"
      ],
      "execution_count": 0,
      "outputs": []
    },
    {
      "cell_type": "code",
      "metadata": {
        "id": "AchamKt3Hx2o",
        "colab_type": "code",
        "colab": {}
      },
      "source": [
        "x_normt = x_normt.reshape(8920,28,28,1)"
      ],
      "execution_count": 0,
      "outputs": []
    },
    {
      "cell_type": "code",
      "metadata": {
        "colab_type": "code",
        "id": "R6zD7D-7fERJ",
        "colab": {}
      },
      "source": [
        "for i in range(10):\n",
        " vars()['xt'+str(i)]= np.load(\"xt\"+str(i)+\".npy\")"
      ],
      "execution_count": 0,
      "outputs": []
    },
    {
      "cell_type": "code",
      "metadata": {
        "id": "cJXV6tql1Bgi",
        "colab_type": "code",
        "outputId": "456ae290-e0bd-4b15-f374-99d28c7ee2dc",
        "colab": {
          "base_uri": "https://localhost:8080/",
          "height": 35
        }
      },
      "source": [
        "xt2.shape"
      ],
      "execution_count": 0,
      "outputs": [
        {
          "output_type": "execute_result",
          "data": {
            "text/plain": [
              "(892, 784)"
            ]
          },
          "metadata": {
            "tags": []
          },
          "execution_count": 13
        }
      ]
    },
    {
      "cell_type": "code",
      "metadata": {
        "id": "qp24reQn8Mt6",
        "colab_type": "code",
        "outputId": "1af56f7a-612c-4657-84dc-7e7e3b628bac",
        "colab": {
          "base_uri": "https://localhost:8080/",
          "height": 409
        }
      },
      "source": [
        "pt0=pt1=pt2=pt3=pt4=pt5=pt6=pt7=pt8=pt9=[]\n",
        "for i in range(10):\n",
        "  x = vars()['xt'+str(i)]/255\n",
        "  p=[]\n",
        "  for j in x:\n",
        "    probability, evm_index= evm1.max_probabilities([j])\n",
        "    p = np.append(p,probability)\n",
        "  p = p.reshape(892,p.shape[0]//892)\n",
        "  vars()['pt'+str(i)]=p\n"
      ],
      "execution_count": 0,
      "outputs": [
        {
          "output_type": "error",
          "ename": "KeyboardInterrupt",
          "evalue": "ignored",
          "traceback": [
            "\u001b[0;31m---------------------------------------------------------------------------\u001b[0m",
            "\u001b[0;31mKeyboardInterrupt\u001b[0m                         Traceback (most recent call last)",
            "\u001b[0;32m<ipython-input-41-edafe097bb0f>\u001b[0m in \u001b[0;36m<module>\u001b[0;34m()\u001b[0m\n\u001b[1;32m      4\u001b[0m   \u001b[0mp\u001b[0m\u001b[0;34m=\u001b[0m\u001b[0;34m[\u001b[0m\u001b[0;34m]\u001b[0m\u001b[0;34m\u001b[0m\u001b[0;34m\u001b[0m\u001b[0m\n\u001b[1;32m      5\u001b[0m   \u001b[0;32mfor\u001b[0m \u001b[0mj\u001b[0m \u001b[0;32min\u001b[0m \u001b[0mx\u001b[0m\u001b[0;34m:\u001b[0m\u001b[0;34m\u001b[0m\u001b[0;34m\u001b[0m\u001b[0m\n\u001b[0;32m----> 6\u001b[0;31m     \u001b[0mprobability\u001b[0m\u001b[0;34m,\u001b[0m \u001b[0mevm_index\u001b[0m\u001b[0;34m=\u001b[0m \u001b[0mevm1\u001b[0m\u001b[0;34m.\u001b[0m\u001b[0mmax_probabilities\u001b[0m\u001b[0;34m(\u001b[0m\u001b[0;34m[\u001b[0m\u001b[0mj\u001b[0m\u001b[0;34m]\u001b[0m\u001b[0;34m)\u001b[0m\u001b[0;34m\u001b[0m\u001b[0;34m\u001b[0m\u001b[0m\n\u001b[0m\u001b[1;32m      7\u001b[0m     \u001b[0mp\u001b[0m \u001b[0;34m=\u001b[0m \u001b[0mnp\u001b[0m\u001b[0;34m.\u001b[0m\u001b[0mappend\u001b[0m\u001b[0;34m(\u001b[0m\u001b[0mp\u001b[0m\u001b[0;34m,\u001b[0m\u001b[0mprobability\u001b[0m\u001b[0;34m)\u001b[0m\u001b[0;34m\u001b[0m\u001b[0;34m\u001b[0m\u001b[0m\n\u001b[1;32m      8\u001b[0m   \u001b[0mp\u001b[0m \u001b[0;34m=\u001b[0m \u001b[0mp\u001b[0m\u001b[0;34m.\u001b[0m\u001b[0mreshape\u001b[0m\u001b[0;34m(\u001b[0m\u001b[0;36m892\u001b[0m\u001b[0;34m,\u001b[0m\u001b[0mp\u001b[0m\u001b[0;34m.\u001b[0m\u001b[0mshape\u001b[0m\u001b[0;34m[\u001b[0m\u001b[0;36m0\u001b[0m\u001b[0;34m]\u001b[0m\u001b[0;34m//\u001b[0m\u001b[0;36m892\u001b[0m\u001b[0;34m)\u001b[0m\u001b[0;34m\u001b[0m\u001b[0;34m\u001b[0m\u001b[0m\n",
            "\u001b[0;32m/usr/local/lib/python3.6/dist-packages/EVM/EVM.py\u001b[0m in \u001b[0;36mmax_probabilities\u001b[0;34m(self, points, distances, probabilities, parallel)\u001b[0m\n\u001b[1;32m    384\u001b[0m     \"\"\"\n\u001b[1;32m    385\u001b[0m \u001b[0;34m\u001b[0m\u001b[0m\n\u001b[0;32m--> 386\u001b[0;31m     \u001b[0;32mif\u001b[0m \u001b[0mprobabilities\u001b[0m \u001b[0;32mis\u001b[0m \u001b[0;32mNone\u001b[0m\u001b[0;34m:\u001b[0m \u001b[0mprobabilities\u001b[0m \u001b[0;34m=\u001b[0m \u001b[0mself\u001b[0m\u001b[0;34m.\u001b[0m\u001b[0mprobabilities\u001b[0m\u001b[0;34m(\u001b[0m\u001b[0mpoints\u001b[0m\u001b[0;34m,\u001b[0m \u001b[0mdistances\u001b[0m\u001b[0;34m,\u001b[0m \u001b[0mparallel\u001b[0m\u001b[0;34m)\u001b[0m\u001b[0;34m\u001b[0m\u001b[0;34m\u001b[0m\u001b[0m\n\u001b[0m\u001b[1;32m    387\u001b[0m     \u001b[0mindices\u001b[0m \u001b[0;34m=\u001b[0m \u001b[0mnumpy\u001b[0m\u001b[0;34m.\u001b[0m\u001b[0margmax\u001b[0m\u001b[0;34m(\u001b[0m\u001b[0mprobabilities\u001b[0m\u001b[0;34m,\u001b[0m \u001b[0maxis\u001b[0m\u001b[0;34m=\u001b[0m\u001b[0;36m1\u001b[0m\u001b[0;34m)\u001b[0m\u001b[0;34m\u001b[0m\u001b[0;34m\u001b[0m\u001b[0m\n\u001b[1;32m    388\u001b[0m     \u001b[0;32mreturn\u001b[0m \u001b[0;34m[\u001b[0m\u001b[0mprobabilities\u001b[0m\u001b[0;34m[\u001b[0m\u001b[0mi\u001b[0m\u001b[0;34m,\u001b[0m \u001b[0mj\u001b[0m\u001b[0;34m]\u001b[0m \u001b[0;32mfor\u001b[0m \u001b[0mi\u001b[0m\u001b[0;34m,\u001b[0m\u001b[0mj\u001b[0m \u001b[0;32min\u001b[0m \u001b[0menumerate\u001b[0m\u001b[0;34m(\u001b[0m\u001b[0mindices\u001b[0m\u001b[0;34m)\u001b[0m\u001b[0;34m]\u001b[0m\u001b[0;34m,\u001b[0m \u001b[0mindices\u001b[0m\u001b[0;34m\u001b[0m\u001b[0;34m\u001b[0m\u001b[0m\n",
            "\u001b[0;32m/usr/local/lib/python3.6/dist-packages/EVM/EVM.py\u001b[0m in \u001b[0;36mprobabilities\u001b[0;34m(self, points, distances, parallel)\u001b[0m\n\u001b[1;32m    321\u001b[0m       \u001b[0;31m# compute distances\u001b[0m\u001b[0;34m\u001b[0m\u001b[0;34m\u001b[0m\u001b[0;34m\u001b[0m\u001b[0m\n\u001b[1;32m    322\u001b[0m       \u001b[0;32mif\u001b[0m \u001b[0mparallel\u001b[0m \u001b[0;32mis\u001b[0m \u001b[0;32mNone\u001b[0m\u001b[0;34m:\u001b[0m\u001b[0;34m\u001b[0m\u001b[0;34m\u001b[0m\u001b[0m\n\u001b[0;32m--> 323\u001b[0;31m         \u001b[0mdistances\u001b[0m \u001b[0;34m=\u001b[0m \u001b[0;34m[\u001b[0m\u001b[0m_distance\u001b[0m\u001b[0;34m(\u001b[0m\u001b[0mself\u001b[0m\u001b[0;34m.\u001b[0m\u001b[0m_positives\u001b[0m\u001b[0;34m[\u001b[0m\u001b[0me\u001b[0m\u001b[0;34m]\u001b[0m\u001b[0;34m,\u001b[0m \u001b[0mpoints\u001b[0m\u001b[0;34m,\u001b[0m \u001b[0mself\u001b[0m\u001b[0;34m.\u001b[0m\u001b[0mdistance_function\u001b[0m\u001b[0;34m)\u001b[0m \u001b[0;32mfor\u001b[0m \u001b[0me\u001b[0m \u001b[0;32min\u001b[0m \u001b[0mself\u001b[0m\u001b[0;34m.\u001b[0m\u001b[0m_extreme_vectors\u001b[0m\u001b[0;34m]\u001b[0m\u001b[0;34m\u001b[0m\u001b[0;34m\u001b[0m\u001b[0m\n\u001b[0m\u001b[1;32m    324\u001b[0m       \u001b[0;32melse\u001b[0m\u001b[0;34m:\u001b[0m\u001b[0;34m\u001b[0m\u001b[0;34m\u001b[0m\u001b[0m\n\u001b[1;32m    325\u001b[0m         \u001b[0;31m# set global variables to avoid data copying before creating the pool\u001b[0m\u001b[0;34m\u001b[0m\u001b[0;34m\u001b[0m\u001b[0;34m\u001b[0m\u001b[0m\n",
            "\u001b[0;32m/usr/local/lib/python3.6/dist-packages/EVM/EVM.py\u001b[0m in \u001b[0;36m<listcomp>\u001b[0;34m(.0)\u001b[0m\n\u001b[1;32m    321\u001b[0m       \u001b[0;31m# compute distances\u001b[0m\u001b[0;34m\u001b[0m\u001b[0;34m\u001b[0m\u001b[0;34m\u001b[0m\u001b[0m\n\u001b[1;32m    322\u001b[0m       \u001b[0;32mif\u001b[0m \u001b[0mparallel\u001b[0m \u001b[0;32mis\u001b[0m \u001b[0;32mNone\u001b[0m\u001b[0;34m:\u001b[0m\u001b[0;34m\u001b[0m\u001b[0;34m\u001b[0m\u001b[0m\n\u001b[0;32m--> 323\u001b[0;31m         \u001b[0mdistances\u001b[0m \u001b[0;34m=\u001b[0m \u001b[0;34m[\u001b[0m\u001b[0m_distance\u001b[0m\u001b[0;34m(\u001b[0m\u001b[0mself\u001b[0m\u001b[0;34m.\u001b[0m\u001b[0m_positives\u001b[0m\u001b[0;34m[\u001b[0m\u001b[0me\u001b[0m\u001b[0;34m]\u001b[0m\u001b[0;34m,\u001b[0m \u001b[0mpoints\u001b[0m\u001b[0;34m,\u001b[0m \u001b[0mself\u001b[0m\u001b[0;34m.\u001b[0m\u001b[0mdistance_function\u001b[0m\u001b[0;34m)\u001b[0m \u001b[0;32mfor\u001b[0m \u001b[0me\u001b[0m \u001b[0;32min\u001b[0m \u001b[0mself\u001b[0m\u001b[0;34m.\u001b[0m\u001b[0m_extreme_vectors\u001b[0m\u001b[0;34m]\u001b[0m\u001b[0;34m\u001b[0m\u001b[0;34m\u001b[0m\u001b[0m\n\u001b[0m\u001b[1;32m    324\u001b[0m       \u001b[0;32melse\u001b[0m\u001b[0;34m:\u001b[0m\u001b[0;34m\u001b[0m\u001b[0;34m\u001b[0m\u001b[0m\n\u001b[1;32m    325\u001b[0m         \u001b[0;31m# set global variables to avoid data copying before creating the pool\u001b[0m\u001b[0;34m\u001b[0m\u001b[0;34m\u001b[0m\u001b[0;34m\u001b[0m\u001b[0m\n",
            "\u001b[0;32m/usr/local/lib/python3.6/dist-packages/EVM/EVM.py\u001b[0m in \u001b[0;36m_distance\u001b[0;34m(positive, negatives, distance_function)\u001b[0m\n\u001b[1;32m     12\u001b[0m \u001b[0;34m\u001b[0m\u001b[0m\n\u001b[1;32m     13\u001b[0m \u001b[0;32mdef\u001b[0m \u001b[0m_distance\u001b[0m\u001b[0;34m(\u001b[0m\u001b[0mpositive\u001b[0m\u001b[0;34m,\u001b[0m \u001b[0mnegatives\u001b[0m\u001b[0;34m,\u001b[0m \u001b[0mdistance_function\u001b[0m\u001b[0;34m)\u001b[0m\u001b[0;34m:\u001b[0m\u001b[0;34m\u001b[0m\u001b[0;34m\u001b[0m\u001b[0m\n\u001b[0;32m---> 14\u001b[0;31m   \u001b[0;32mreturn\u001b[0m \u001b[0;34m[\u001b[0m\u001b[0mdistance_function\u001b[0m\u001b[0;34m(\u001b[0m\u001b[0mpositive\u001b[0m\u001b[0;34m,\u001b[0m \u001b[0mn\u001b[0m\u001b[0;34m)\u001b[0m \u001b[0;32mfor\u001b[0m \u001b[0mn\u001b[0m \u001b[0;32min\u001b[0m \u001b[0mnegatives\u001b[0m\u001b[0;34m]\u001b[0m\u001b[0;34m\u001b[0m\u001b[0;34m\u001b[0m\u001b[0m\n\u001b[0m\u001b[1;32m     15\u001b[0m \u001b[0;34m\u001b[0m\u001b[0m\n\u001b[1;32m     16\u001b[0m \u001b[0;32mdef\u001b[0m \u001b[0m_distance_parallel\u001b[0m\u001b[0;34m(\u001b[0m\u001b[0margs\u001b[0m\u001b[0;34m)\u001b[0m\u001b[0;34m:\u001b[0m\u001b[0;34m\u001b[0m\u001b[0;34m\u001b[0m\u001b[0m\n",
            "\u001b[0;32m/usr/local/lib/python3.6/dist-packages/EVM/EVM.py\u001b[0m in \u001b[0;36m<listcomp>\u001b[0;34m(.0)\u001b[0m\n\u001b[1;32m     12\u001b[0m \u001b[0;34m\u001b[0m\u001b[0m\n\u001b[1;32m     13\u001b[0m \u001b[0;32mdef\u001b[0m \u001b[0m_distance\u001b[0m\u001b[0;34m(\u001b[0m\u001b[0mpositive\u001b[0m\u001b[0;34m,\u001b[0m \u001b[0mnegatives\u001b[0m\u001b[0;34m,\u001b[0m \u001b[0mdistance_function\u001b[0m\u001b[0;34m)\u001b[0m\u001b[0;34m:\u001b[0m\u001b[0;34m\u001b[0m\u001b[0;34m\u001b[0m\u001b[0m\n\u001b[0;32m---> 14\u001b[0;31m   \u001b[0;32mreturn\u001b[0m \u001b[0;34m[\u001b[0m\u001b[0mdistance_function\u001b[0m\u001b[0;34m(\u001b[0m\u001b[0mpositive\u001b[0m\u001b[0;34m,\u001b[0m \u001b[0mn\u001b[0m\u001b[0;34m)\u001b[0m \u001b[0;32mfor\u001b[0m \u001b[0mn\u001b[0m \u001b[0;32min\u001b[0m \u001b[0mnegatives\u001b[0m\u001b[0;34m]\u001b[0m\u001b[0;34m\u001b[0m\u001b[0;34m\u001b[0m\u001b[0m\n\u001b[0m\u001b[1;32m     15\u001b[0m \u001b[0;34m\u001b[0m\u001b[0m\n\u001b[1;32m     16\u001b[0m \u001b[0;32mdef\u001b[0m \u001b[0m_distance_parallel\u001b[0m\u001b[0;34m(\u001b[0m\u001b[0margs\u001b[0m\u001b[0;34m)\u001b[0m\u001b[0;34m:\u001b[0m\u001b[0;34m\u001b[0m\u001b[0;34m\u001b[0m\u001b[0m\n",
            "\u001b[0;32m/usr/local/lib/python3.6/dist-packages/scipy/spatial/distance.py\u001b[0m in \u001b[0;36meuclidean\u001b[0;34m(u, v, w)\u001b[0m\n\u001b[1;32m    618\u001b[0m \u001b[0;34m\u001b[0m\u001b[0m\n\u001b[1;32m    619\u001b[0m     \"\"\"\n\u001b[0;32m--> 620\u001b[0;31m     \u001b[0;32mreturn\u001b[0m \u001b[0mminkowski\u001b[0m\u001b[0;34m(\u001b[0m\u001b[0mu\u001b[0m\u001b[0;34m,\u001b[0m \u001b[0mv\u001b[0m\u001b[0;34m,\u001b[0m \u001b[0mp\u001b[0m\u001b[0;34m=\u001b[0m\u001b[0;36m2\u001b[0m\u001b[0;34m,\u001b[0m \u001b[0mw\u001b[0m\u001b[0;34m=\u001b[0m\u001b[0mw\u001b[0m\u001b[0;34m)\u001b[0m\u001b[0;34m\u001b[0m\u001b[0;34m\u001b[0m\u001b[0m\n\u001b[0m\u001b[1;32m    621\u001b[0m \u001b[0;34m\u001b[0m\u001b[0m\n\u001b[1;32m    622\u001b[0m \u001b[0;34m\u001b[0m\u001b[0m\n",
            "\u001b[0;32m/usr/local/lib/python3.6/dist-packages/scipy/spatial/distance.py\u001b[0m in \u001b[0;36mminkowski\u001b[0;34m(u, v, p, w)\u001b[0m\n\u001b[1;32m    506\u001b[0m \u001b[0;34m\u001b[0m\u001b[0m\n\u001b[1;32m    507\u001b[0m     \"\"\"\n\u001b[0;32m--> 508\u001b[0;31m     \u001b[0mu\u001b[0m \u001b[0;34m=\u001b[0m \u001b[0m_validate_vector\u001b[0m\u001b[0;34m(\u001b[0m\u001b[0mu\u001b[0m\u001b[0;34m)\u001b[0m\u001b[0;34m\u001b[0m\u001b[0;34m\u001b[0m\u001b[0m\n\u001b[0m\u001b[1;32m    509\u001b[0m     \u001b[0mv\u001b[0m \u001b[0;34m=\u001b[0m \u001b[0m_validate_vector\u001b[0m\u001b[0;34m(\u001b[0m\u001b[0mv\u001b[0m\u001b[0;34m)\u001b[0m\u001b[0;34m\u001b[0m\u001b[0;34m\u001b[0m\u001b[0m\n\u001b[1;32m    510\u001b[0m     \u001b[0;32mif\u001b[0m \u001b[0mp\u001b[0m \u001b[0;34m<\u001b[0m \u001b[0;36m1\u001b[0m\u001b[0;34m:\u001b[0m\u001b[0;34m\u001b[0m\u001b[0;34m\u001b[0m\u001b[0m\n",
            "\u001b[0;32m/usr/local/lib/python3.6/dist-packages/scipy/spatial/distance.py\u001b[0m in \u001b[0;36m_validate_vector\u001b[0;34m(u, dtype)\u001b[0m\n\u001b[1;32m    332\u001b[0m \u001b[0;32mdef\u001b[0m \u001b[0m_validate_vector\u001b[0m\u001b[0;34m(\u001b[0m\u001b[0mu\u001b[0m\u001b[0;34m,\u001b[0m \u001b[0mdtype\u001b[0m\u001b[0;34m=\u001b[0m\u001b[0;32mNone\u001b[0m\u001b[0;34m)\u001b[0m\u001b[0;34m:\u001b[0m\u001b[0;34m\u001b[0m\u001b[0;34m\u001b[0m\u001b[0m\n\u001b[1;32m    333\u001b[0m     \u001b[0;31m# XXX Is order='c' really necessary?\u001b[0m\u001b[0;34m\u001b[0m\u001b[0;34m\u001b[0m\u001b[0;34m\u001b[0m\u001b[0m\n\u001b[0;32m--> 334\u001b[0;31m     \u001b[0mu\u001b[0m \u001b[0;34m=\u001b[0m \u001b[0mnp\u001b[0m\u001b[0;34m.\u001b[0m\u001b[0masarray\u001b[0m\u001b[0;34m(\u001b[0m\u001b[0mu\u001b[0m\u001b[0;34m,\u001b[0m \u001b[0mdtype\u001b[0m\u001b[0;34m=\u001b[0m\u001b[0mdtype\u001b[0m\u001b[0;34m,\u001b[0m \u001b[0morder\u001b[0m\u001b[0;34m=\u001b[0m\u001b[0;34m'c'\u001b[0m\u001b[0;34m)\u001b[0m\u001b[0;34m.\u001b[0m\u001b[0msqueeze\u001b[0m\u001b[0;34m(\u001b[0m\u001b[0;34m)\u001b[0m\u001b[0;34m\u001b[0m\u001b[0;34m\u001b[0m\u001b[0m\n\u001b[0m\u001b[1;32m    335\u001b[0m     \u001b[0;31m# Ensure values such as u=1 and u=[1] still return 1-D arrays.\u001b[0m\u001b[0;34m\u001b[0m\u001b[0;34m\u001b[0m\u001b[0;34m\u001b[0m\u001b[0m\n\u001b[1;32m    336\u001b[0m     \u001b[0mu\u001b[0m \u001b[0;34m=\u001b[0m \u001b[0mnp\u001b[0m\u001b[0;34m.\u001b[0m\u001b[0matleast_1d\u001b[0m\u001b[0;34m(\u001b[0m\u001b[0mu\u001b[0m\u001b[0;34m)\u001b[0m\u001b[0;34m\u001b[0m\u001b[0;34m\u001b[0m\u001b[0m\n",
            "\u001b[0;32m/usr/local/lib/python3.6/dist-packages/numpy/core/numeric.py\u001b[0m in \u001b[0;36masarray\u001b[0;34m(a, dtype, order)\u001b[0m\n\u001b[1;32m    536\u001b[0m \u001b[0;34m\u001b[0m\u001b[0m\n\u001b[1;32m    537\u001b[0m     \"\"\"\n\u001b[0;32m--> 538\u001b[0;31m     \u001b[0;32mreturn\u001b[0m \u001b[0marray\u001b[0m\u001b[0;34m(\u001b[0m\u001b[0ma\u001b[0m\u001b[0;34m,\u001b[0m \u001b[0mdtype\u001b[0m\u001b[0;34m,\u001b[0m \u001b[0mcopy\u001b[0m\u001b[0;34m=\u001b[0m\u001b[0;32mFalse\u001b[0m\u001b[0;34m,\u001b[0m \u001b[0morder\u001b[0m\u001b[0;34m=\u001b[0m\u001b[0morder\u001b[0m\u001b[0;34m)\u001b[0m\u001b[0;34m\u001b[0m\u001b[0;34m\u001b[0m\u001b[0m\n\u001b[0m\u001b[1;32m    539\u001b[0m \u001b[0;34m\u001b[0m\u001b[0m\n\u001b[1;32m    540\u001b[0m \u001b[0;34m\u001b[0m\u001b[0m\n",
            "\u001b[0;31mKeyboardInterrupt\u001b[0m: "
          ]
        }
      ]
    },
    {
      "cell_type": "code",
      "metadata": {
        "id": "_Co84QrdS28x",
        "colab_type": "code",
        "colab": {}
      },
      "source": [
        "for i in range(10):\n",
        " np.save(\"pt\"+str(i)+\".npy\",vars()['pt'+str(i)])"
      ],
      "execution_count": 0,
      "outputs": []
    },
    {
      "cell_type": "code",
      "metadata": {
        "id": "OuJGbLnOx0sV",
        "colab_type": "code",
        "colab": {}
      },
      "source": [
        "for i in range(10):\n",
        "  p=vars()['pt'+str(i)]\n",
        "  #plt.plot(p,color='red',marker='.', linestyle='dashed',linewidth =0.1, markersize=2)\n",
        "  plt.hist(p,color='orange',edgecolor = 'white',bins=50)\n",
        "  plt.title(\"EVM-(Mnist)\")\n",
        "  plt.xlabel(\"Images-\\\"\"+str(i)+\"\\\"\")\n",
        "  plt.ylabel(\"Probabilities of belonging to Images-\\\"4\\\"\")\n",
        "  #plt.text(2500,-0.08, 'EVM trained using Images-\"4\" as positive and Images-\"7\" and Images-\"9\" as negatives',horizontalalignment='center',verticalalignment='center')\n",
        "  plt.savefig(\"Graphs/Graphsnotflatten/\"+'xth'+str(i)+\".png\")\n",
        "  plt.show()\n",
        "  #xxt was for tailsize = 100\n",
        "  #xxxt was for tailsize = 1000\n",
        "  #xxxxt was for tailsize = 10000\n",
        "  #xxxxxt was for tailsize = 100000"
      ],
      "execution_count": 0,
      "outputs": []
    },
    {
      "cell_type": "code",
      "metadata": {
        "colab_type": "code",
        "id": "d9ErwaWSCykn",
        "colab": {}
      },
      "source": [
        "p0=p1=p2=p3=p4=p5=p6=p7=p8=p9=[]\n",
        "for i in range(10):\n",
        "  x = vars()['x'+str(i)]/255\n",
        "  p=[]\n",
        "  for j in x:\n",
        "    probability, evm_index= evm2.max_probabilities([j])\n",
        "    p = np.append(p,probability)\n",
        "  vars()['p'+str(i)]=p\n"
      ],
      "execution_count": 0,
      "outputs": []
    },
    {
      "cell_type": "code",
      "metadata": {
        "id": "Mf7_mpKdXsr9",
        "colab_type": "code",
        "outputId": "aeef1cfe-4a47-4fc6-b562-fa03f72be14e",
        "colab": {
          "base_uri": "https://localhost:8080/",
          "height": 35
        }
      },
      "source": [
        "np.array(p0).shape"
      ],
      "execution_count": 0,
      "outputs": [
        {
          "output_type": "execute_result",
          "data": {
            "text/plain": [
              "(0,)"
            ]
          },
          "metadata": {
            "tags": []
          },
          "execution_count": 52
        }
      ]
    },
    {
      "cell_type": "code",
      "metadata": {
        "colab_type": "code",
        "id": "nzrhp-BTCyk7",
        "colab": {}
      },
      "source": [
        "for i in range(10):\n",
        " np.save(\"p\"+str(i)+\".npy\",vars()['p'+str(i)])"
      ],
      "execution_count": 0,
      "outputs": []
    },
    {
      "cell_type": "code",
      "metadata": {
        "colab_type": "code",
        "id": "hMv7KlQ5Cyk_",
        "colab": {}
      },
      "source": [
        "for i in range(10):\n",
        "  p=vars()['p'+str(i)]\n",
        "  plt.plot(p,color='red',marker='.', linestyle='dashed',linewidth =0.1, markersize=2)\n",
        "  plt.title(\"EVM-(Mnist)\")\n",
        "  plt.xlabel(\"Images-\\\"\"+str(i)+\"\\\"\")\n",
        "  plt.ylabel(\"Probabilities of belonging to Images-\\\"4\\\"\")\n",
        "  #plt.text(2500,-0.08, 'EVM trained using Images-\"4\" as positive and Images-\"7\" and Images-\"9\" as negatives',horizontalalignment='center',verticalalignment='center')\n",
        "  plt.savefig(\"Graphs/\"+'xx'+str(i)+\".png\")\n",
        "  plt.show()\n",
        "  #xxt was for tailsize = 100\n",
        "  #xxxt was for tailsize = 1000\n",
        "  #xxxxt was for tailsize = 10000\n",
        "  #xxxxxt was for tailsize = 100000"
      ],
      "execution_count": 0,
      "outputs": []
    },
    {
      "cell_type": "code",
      "metadata": {
        "id": "cGfQNhiGsbQD",
        "colab_type": "code",
        "colab": {}
      },
      "source": [
        "y_testinds = y_test.argsort()\n",
        "y_test = y_test[y_testinds[::-1]]"
      ],
      "execution_count": 0,
      "outputs": []
    },
    {
      "cell_type": "code",
      "metadata": {
        "id": "YzMo27josygs",
        "colab_type": "code",
        "colab": {}
      },
      "source": [
        "y_test = np.negative(y_test,dtype = 'int')"
      ],
      "execution_count": 0,
      "outputs": []
    },
    {
      "cell_type": "code",
      "metadata": {
        "id": "eWHUySxztfAw",
        "colab_type": "code",
        "outputId": "519d0094-b7a8-40cc-961e-ecc5af5ad685",
        "colab": {
          "base_uri": "https://localhost:8080/",
          "height": 35
        }
      },
      "source": [
        "y_test"
      ],
      "execution_count": 0,
      "outputs": [
        {
          "output_type": "execute_result",
          "data": {
            "text/plain": [
              "array([-9, -9, -9, ...,  0,  0,  0])"
            ]
          },
          "metadata": {
            "tags": []
          },
          "execution_count": 16
        }
      ]
    },
    {
      "cell_type": "code",
      "metadata": {
        "id": "WGRuEZtzsdMn",
        "colab_type": "code",
        "colab": {}
      },
      "source": [
        "#Sorting x_test based on y_test\n",
        "#arr1inds = arr1.argsort()\n",
        "#sorted_arr1 = arr1[arr1inds[::-1]]\n",
        "x_test = x_test[y_testinds[::-1]]"
      ],
      "execution_count": 0,
      "outputs": []
    },
    {
      "cell_type": "code",
      "metadata": {
        "id": "J2lSA7IKwFGs",
        "colab_type": "code",
        "colab": {}
      },
      "source": [
        "x_test = x_test.reshape(10000,784)"
      ],
      "execution_count": 0,
      "outputs": []
    },
    {
      "cell_type": "code",
      "metadata": {
        "id": "WE1cCZPZwVyp",
        "colab_type": "code",
        "colab": {}
      },
      "source": [
        "x_test = x_test/255"
      ],
      "execution_count": 0,
      "outputs": []
    },
    {
      "cell_type": "code",
      "metadata": {
        "colab_type": "code",
        "id": "1j0aLUvkxBTt",
        "colab": {}
      },
      "source": [
        "p=[]\n",
        "for i in x_test:\n",
        "  probability, evm_index= evm0.max_probabilities([i])\n",
        "  p = np.append(p,probability)\n"
      ],
      "execution_count": 0,
      "outputs": []
    },
    {
      "cell_type": "code",
      "metadata": {
        "colab_type": "code",
        "id": "L3EoN9TjxBT0",
        "colab": {}
      },
      "source": [
        "p_test = p"
      ],
      "execution_count": 0,
      "outputs": []
    },
    {
      "cell_type": "code",
      "metadata": {
        "id": "FVn8h8CveM2c",
        "colab_type": "code",
        "colab": {}
      },
      "source": [
        "np.save(\"p_test.npy\",p_test)"
      ],
      "execution_count": 0,
      "outputs": []
    },
    {
      "cell_type": "code",
      "metadata": {
        "id": "QW9Ap4zTeJ2Q",
        "colab_type": "code",
        "outputId": "448d1a01-2f92-434b-e0f3-9962c9516d80",
        "colab": {
          "base_uri": "https://localhost:8080/",
          "height": 35
        }
      },
      "source": [
        "p_test.shape"
      ],
      "execution_count": 0,
      "outputs": [
        {
          "output_type": "execute_result",
          "data": {
            "text/plain": [
              "(10000,)"
            ]
          },
          "metadata": {
            "tags": []
          },
          "execution_count": 33
        }
      ]
    },
    {
      "cell_type": "code",
      "metadata": {
        "id": "FY8siHttwzWT",
        "colab_type": "code",
        "outputId": "242ce8d8-cb4e-4cba-97f4-94360c2f5b4d",
        "colab": {
          "base_uri": "https://localhost:8080/",
          "height": 295
        }
      },
      "source": [
        "plt.plot(p_test,color='blue',marker='.', linestyle='dashed',linewidth =0.1, markersize=2)\n",
        "plt.title(\"EVM-(Mnist)\")\n",
        "plt.xlabel(\"Images-(0 to 9)\")\n",
        "plt.ylabel(\"Probabilities of belonging to Images-\\\"4\\\"\")\n",
        "#plt.text(2500,-0.08, 'EVM trained using Images-\"4\" as positive and Images-\"7\" and Images-\"9\" as negatives',horizontalalignment='center',verticalalignment='center')\n",
        "plt.savefig(\"Graphs/p_test.png\")\n",
        "plt.show()"
      ],
      "execution_count": 0,
      "outputs": [
        {
          "output_type": "display_data",
          "data": {
            "image/png": "[encoded data removed]",
            "text/plain": [
              "<Figure size 432x288 with 1 Axes>"
            ]
          },
          "metadata": {
            "tags": []
          }
        }
      ]
    },
    {
      "cell_type": "markdown",
      "metadata": {
        "id": "zfnPjlyn0SRk",
        "colab_type": "text"
      },
      "source": [
        "# **Training and Testing EVM after flattening with CNN**"
      ]
    },
    {
      "cell_type": "code",
      "metadata": {
        "id": "1PttSWXSxck0",
        "colab_type": "code",
        "colab": {}
      },
      "source": [
        "(x_train, y_train), (x_test, y_test) = mnist.load_data()"
      ],
      "execution_count": 0,
      "outputs": []
    },
    {
      "cell_type": "code",
      "metadata": {
        "id": "owlMQFDfBo3M",
        "colab_type": "code",
        "colab": {}
      },
      "source": [
        "def flatten_layer(x_train,y_train):\n",
        "  batch_size = 128\n",
        "  num_classes = 10\n",
        "  epochs = 12\n",
        "  img_rows, img_cols = 28, 28\n",
        "  if K.image_data_format() == 'channels_first':\n",
        "    x_train = x_train.reshape(x_train.shape[0], 1, img_rows, img_cols)\n",
        "    input_shape = (1, img_rows, img_cols)\n",
        "  else:\n",
        "    x_train = x_train.reshape(x_train.shape[0], img_rows, img_cols, 1)\n",
        "    input_shape = (img_rows, img_cols, 1)\n",
        "\n",
        "  x_train = x_train.astype('float32')\n",
        "  x_train /= 255\n",
        "  y_train = keras.utils.to_categorical(y_train, num_classes)\n",
        "  model = Sequential()\n",
        "  model.add(Conv2D(32, kernel_size=(3, 3),\n",
        "                 activation='relu',\n",
        "                 input_shape=input_shape))\n",
        "  model.add(Conv2D(64, (3, 3), activation='relu'))\n",
        "  model.add(MaxPooling2D(pool_size=(2, 2)))\n",
        "  model.add(Dropout(0.25))\n",
        "  model.add(Flatten())\n",
        "  model.add(Dense(128, activation='relu'))\n",
        "  model.add(Dropout(0.5))\n",
        "  model.add(Dense(num_classes, activation='softmax'))\n",
        "\n",
        "  model.compile(loss=keras.losses.categorical_crossentropy,\n",
        "              optimizer=keras.optimizers.Adadelta(),\n",
        "              metrics=['accuracy'])\n",
        "\n",
        "  model.fit(x_train, y_train,\n",
        "          batch_size=batch_size,\n",
        "          epochs=epochs,\n",
        "          verbose=1)\n",
        "  return model"
      ],
      "execution_count": 0,
      "outputs": []
    },
    {
      "cell_type": "code",
      "metadata": {
        "id": "U-JcZ-lZAnel",
        "colab_type": "code",
        "outputId": "8044c8a2-1928-45b9-ebcd-0d2334f2b179",
        "colab": {
          "base_uri": "https://localhost:8080/",
          "height": 35
        }
      },
      "source": [
        "K.image_data_format()"
      ],
      "execution_count": 0,
      "outputs": [
        {
          "output_type": "execute_result",
          "data": {
            "text/plain": [
              "'channels_last'"
            ]
          },
          "metadata": {
            "tags": []
          },
          "execution_count": 71
        }
      ]
    },
    {
      "cell_type": "code",
      "metadata": {
        "id": "-OebJl1rAcJw",
        "colab_type": "code",
        "colab": {}
      },
      "source": [
        ""
      ],
      "execution_count": 0,
      "outputs": []
    },
    {
      "cell_type": "code",
      "metadata": {
        "id": "_9b81LNJhpB0",
        "colab_type": "code",
        "outputId": "6eb01312-c351-4e94-bfc6-5164ab12bbb5",
        "colab": {
          "base_uri": "https://localhost:8080/",
          "height": 840
        }
      },
      "source": [
        "model_train = flatten_layer(x_train, y_train)\n",
        "model_train.save('model_train.h5')"
      ],
      "execution_count": 0,
      "outputs": [
        {
          "output_type": "stream",
          "text": [
            "WARNING: Logging before flag parsing goes to stderr.\n",
            "W0701 14:41:17.315023 140658452100992 deprecation_wrapper.py:119] From /usr/local/lib/python3.6/dist-packages/keras/backend/tensorflow_backend.py:74: The name tf.get_default_graph is deprecated. Please use tf.compat.v1.get_default_graph instead.\n",
            "\n",
            "W0701 14:41:17.353697 140658452100992 deprecation_wrapper.py:119] From /usr/local/lib/python3.6/dist-packages/keras/backend/tensorflow_backend.py:517: The name tf.placeholder is deprecated. Please use tf.compat.v1.placeholder instead.\n",
            "\n",
            "W0701 14:41:17.360975 140658452100992 deprecation_wrapper.py:119] From /usr/local/lib/python3.6/dist-packages/keras/backend/tensorflow_backend.py:4138: The name tf.random_uniform is deprecated. Please use tf.random.uniform instead.\n",
            "\n",
            "W0701 14:41:17.407341 140658452100992 deprecation_wrapper.py:119] From /usr/local/lib/python3.6/dist-packages/keras/backend/tensorflow_backend.py:3976: The name tf.nn.max_pool is deprecated. Please use tf.nn.max_pool2d instead.\n",
            "\n",
            "W0701 14:41:17.413038 140658452100992 deprecation_wrapper.py:119] From /usr/local/lib/python3.6/dist-packages/keras/backend/tensorflow_backend.py:133: The name tf.placeholder_with_default is deprecated. Please use tf.compat.v1.placeholder_with_default instead.\n",
            "\n",
            "W0701 14:41:17.423951 140658452100992 deprecation.py:506] From /usr/local/lib/python3.6/dist-packages/keras/backend/tensorflow_backend.py:3445: calling dropout (from tensorflow.python.ops.nn_ops) with keep_prob is deprecated and will be removed in a future version.\n",
            "Instructions for updating:\n",
            "Please use `rate` instead of `keep_prob`. Rate should be set to `rate = 1 - keep_prob`.\n",
            "W0701 14:41:17.510323 140658452100992 deprecation_wrapper.py:119] From /usr/local/lib/python3.6/dist-packages/keras/optimizers.py:790: The name tf.train.Optimizer is deprecated. Please use tf.compat.v1.train.Optimizer instead.\n",
            "\n",
            "W0701 14:41:17.522106 140658452100992 deprecation_wrapper.py:119] From /usr/local/lib/python3.6/dist-packages/keras/backend/tensorflow_backend.py:3295: The name tf.log is deprecated. Please use tf.math.log instead.\n",
            "\n",
            "W0701 14:41:17.659850 140658452100992 deprecation.py:323] From /usr/local/lib/python3.6/dist-packages/tensorflow/python/ops/math_grad.py:1250: add_dispatch_support.<locals>.wrapper (from tensorflow.python.ops.array_ops) is deprecated and will be removed in a future version.\n",
            "Instructions for updating:\n",
            "Use tf.where in 2.0, which has the same broadcast rule as np.where\n"
          ],
          "name": "stderr"
        },
        {
          "output_type": "stream",
          "text": [
            "Epoch 1/12\n",
            "60000/60000 [==============================] - 14s 240us/step - loss: 0.2573 - acc: 0.9205\n",
            "Epoch 2/12\n",
            "60000/60000 [==============================] - 8s 140us/step - loss: 0.0856 - acc: 0.9740\n",
            "Epoch 3/12\n",
            "60000/60000 [==============================] - 8s 139us/step - loss: 0.0638 - acc: 0.9811\n",
            "Epoch 4/12\n",
            "60000/60000 [==============================] - 8s 140us/step - loss: 0.0523 - acc: 0.9837\n",
            "Epoch 5/12\n",
            "60000/60000 [==============================] - 8s 140us/step - loss: 0.0462 - acc: 0.9858\n",
            "Epoch 6/12\n",
            "60000/60000 [==============================] - 8s 139us/step - loss: 0.0394 - acc: 0.9880\n",
            "Epoch 7/12\n",
            "60000/60000 [==============================] - 8s 140us/step - loss: 0.0365 - acc: 0.9889\n",
            "Epoch 8/12\n",
            "60000/60000 [==============================] - 8s 140us/step - loss: 0.0328 - acc: 0.9898\n",
            "Epoch 9/12\n",
            "60000/60000 [==============================] - 8s 140us/step - loss: 0.0317 - acc: 0.9899\n",
            "Epoch 10/12\n",
            "60000/60000 [==============================] - 8s 140us/step - loss: 0.0288 - acc: 0.9908\n",
            "Epoch 11/12\n",
            "60000/60000 [==============================] - 8s 140us/step - loss: 0.0259 - acc: 0.9921\n",
            "Epoch 12/12\n",
            "60000/60000 [==============================] - 8s 139us/step - loss: 0.0265 - acc: 0.9919\n"
          ],
          "name": "stdout"
        }
      ]
    },
    {
      "cell_type": "code",
      "metadata": {
        "id": "RSsNDT4E1tHh",
        "colab_type": "code",
        "outputId": "59165968-2911-44f4-c12f-0e3f921c20cf",
        "colab": {
          "base_uri": "https://localhost:8080/",
          "height": 126
        }
      },
      "source": [
        "model_train = load_model('model_train.h5')"
      ],
      "execution_count": 0,
      "outputs": [
        {
          "output_type": "stream",
          "text": [
            "W0706 06:48:03.920775 139702201845632 deprecation_wrapper.py:119] From /usr/local/lib/python3.6/dist-packages/keras/backend/tensorflow_backend.py:3976: The name tf.nn.max_pool is deprecated. Please use tf.nn.max_pool2d instead.\n",
            "\n",
            "W0706 06:48:03.931602 139702201845632 deprecation.py:506] From /usr/local/lib/python3.6/dist-packages/keras/backend/tensorflow_backend.py:3445: calling dropout (from tensorflow.python.ops.nn_ops) with keep_prob is deprecated and will be removed in a future version.\n",
            "Instructions for updating:\n",
            "Please use `rate` instead of `keep_prob`. Rate should be set to `rate = 1 - keep_prob`.\n"
          ],
          "name": "stderr"
        }
      ]
    },
    {
      "cell_type": "code",
      "metadata": {
        "id": "Bj50Fvirrm90",
        "colab_type": "code",
        "outputId": "7db2ea5c-2243-4c13-9ef7-637e6165d7de",
        "colab": {
          "base_uri": "https://localhost:8080/",
          "height": 385
        }
      },
      "source": [
        ""
      ],
      "execution_count": 0,
      "outputs": [
        {
          "output_type": "error",
          "ename": "KeyboardInterrupt",
          "evalue": "ignored",
          "traceback": [
            "\u001b[0;31m---------------------------------------------------------------------------\u001b[0m",
            "\u001b[0;31mKeyboardInterrupt\u001b[0m                         Traceback (most recent call last)",
            "\u001b[0;32m<ipython-input-20-7790c745a09e>\u001b[0m in \u001b[0;36m<module>\u001b[0;34m()\u001b[0m\n\u001b[1;32m      5\u001b[0m \u001b[0;32mfor\u001b[0m \u001b[0mi\u001b[0m \u001b[0;32min\u001b[0m \u001b[0mx_norm\u001b[0m\u001b[0;34m:\u001b[0m\u001b[0;34m\u001b[0m\u001b[0;34m\u001b[0m\u001b[0m\n\u001b[1;32m      6\u001b[0m   \u001b[0mactivations\u001b[0m \u001b[0;34m=\u001b[0m \u001b[0mactivation_model\u001b[0m\u001b[0;34m.\u001b[0m\u001b[0mpredict\u001b[0m\u001b[0;34m(\u001b[0m\u001b[0mi\u001b[0m\u001b[0;34m.\u001b[0m\u001b[0mreshape\u001b[0m\u001b[0;34m(\u001b[0m\u001b[0;36m1\u001b[0m\u001b[0;34m,\u001b[0m\u001b[0;36m28\u001b[0m\u001b[0;34m,\u001b[0m\u001b[0;36m28\u001b[0m\u001b[0;34m,\u001b[0m\u001b[0;36m1\u001b[0m\u001b[0;34m)\u001b[0m\u001b[0;34m)\u001b[0m\u001b[0;34m\u001b[0m\u001b[0;34m\u001b[0m\u001b[0m\n\u001b[0;32m----> 7\u001b[0;31m   \u001b[0mx\u001b[0m\u001b[0;34m=\u001b[0m\u001b[0mnp\u001b[0m\u001b[0;34m.\u001b[0m\u001b[0mappend\u001b[0m\u001b[0;34m(\u001b[0m\u001b[0mx\u001b[0m\u001b[0;34m,\u001b[0m\u001b[0mactivations\u001b[0m\u001b[0;34m[\u001b[0m\u001b[0;36m4\u001b[0m\u001b[0;34m]\u001b[0m\u001b[0;34m)\u001b[0m\u001b[0;34m\u001b[0m\u001b[0;34m\u001b[0m\u001b[0m\n\u001b[0m\u001b[1;32m      8\u001b[0m \u001b[0mx\u001b[0m \u001b[0;34m=\u001b[0m \u001b[0mx\u001b[0m\u001b[0;34m.\u001b[0m\u001b[0mreshape\u001b[0m\u001b[0;34m(\u001b[0m\u001b[0mx_norm\u001b[0m\u001b[0;34m.\u001b[0m\u001b[0mshape\u001b[0m\u001b[0;34m[\u001b[0m\u001b[0;36m0\u001b[0m\u001b[0;34m]\u001b[0m\u001b[0;34m,\u001b[0m\u001b[0mx\u001b[0m\u001b[0;34m.\u001b[0m\u001b[0mshape\u001b[0m\u001b[0;34m[\u001b[0m\u001b[0;36m0\u001b[0m\u001b[0;34m]\u001b[0m\u001b[0;34m//\u001b[0m\u001b[0mx_norm\u001b[0m\u001b[0;34m.\u001b[0m\u001b[0mshape\u001b[0m\u001b[0;34m[\u001b[0m\u001b[0;36m0\u001b[0m\u001b[0;34m]\u001b[0m\u001b[0;34m)\u001b[0m\u001b[0;34m\u001b[0m\u001b[0;34m\u001b[0m\u001b[0m\n\u001b[1;32m      9\u001b[0m \u001b[0mx_normf\u001b[0m \u001b[0;34m=\u001b[0m \u001b[0mx\u001b[0m \u001b[0;31m#f -> flatten\u001b[0m\u001b[0;34m\u001b[0m\u001b[0;34m\u001b[0m\u001b[0m\n",
            "\u001b[0;32m/usr/local/lib/python3.6/dist-packages/numpy/lib/function_base.py\u001b[0m in \u001b[0;36mappend\u001b[0;34m(arr, values, axis)\u001b[0m\n\u001b[1;32m   4692\u001b[0m         \u001b[0mvalues\u001b[0m \u001b[0;34m=\u001b[0m \u001b[0mravel\u001b[0m\u001b[0;34m(\u001b[0m\u001b[0mvalues\u001b[0m\u001b[0;34m)\u001b[0m\u001b[0;34m\u001b[0m\u001b[0;34m\u001b[0m\u001b[0m\n\u001b[1;32m   4693\u001b[0m         \u001b[0maxis\u001b[0m \u001b[0;34m=\u001b[0m \u001b[0marr\u001b[0m\u001b[0;34m.\u001b[0m\u001b[0mndim\u001b[0m\u001b[0;34m-\u001b[0m\u001b[0;36m1\u001b[0m\u001b[0;34m\u001b[0m\u001b[0;34m\u001b[0m\u001b[0m\n\u001b[0;32m-> 4694\u001b[0;31m     \u001b[0;32mreturn\u001b[0m \u001b[0mconcatenate\u001b[0m\u001b[0;34m(\u001b[0m\u001b[0;34m(\u001b[0m\u001b[0marr\u001b[0m\u001b[0;34m,\u001b[0m \u001b[0mvalues\u001b[0m\u001b[0;34m)\u001b[0m\u001b[0;34m,\u001b[0m \u001b[0maxis\u001b[0m\u001b[0;34m=\u001b[0m\u001b[0maxis\u001b[0m\u001b[0;34m)\u001b[0m\u001b[0;34m\u001b[0m\u001b[0;34m\u001b[0m\u001b[0m\n\u001b[0m\u001b[1;32m   4695\u001b[0m \u001b[0;34m\u001b[0m\u001b[0m\n\u001b[1;32m   4696\u001b[0m \u001b[0;34m\u001b[0m\u001b[0m\n",
            "\u001b[0;31mKeyboardInterrupt\u001b[0m: "
          ]
        }
      ]
    },
    {
      "cell_type": "code",
      "metadata": {
        "id": "WlYdg8K9TPYH",
        "colab_type": "code",
        "outputId": "6d1a382a-c697-4a6c-f099-f64e6de2d735",
        "colab": {
          "base_uri": "https://localhost:8080/",
          "height": 314
        }
      },
      "source": [
        "x_normf = np.load(\"x_normf.npy\")"
      ],
      "execution_count": 0,
      "outputs": [
        {
          "output_type": "error",
          "ename": "FileNotFoundError",
          "evalue": "ignored",
          "traceback": [
            "\u001b[0;31m---------------------------------------------------------------------------\u001b[0m",
            "\u001b[0;31mFileNotFoundError\u001b[0m                         Traceback (most recent call last)",
            "\u001b[0;32m<ipython-input-11-48022c47819b>\u001b[0m in \u001b[0;36m<module>\u001b[0;34m()\u001b[0m\n\u001b[0;32m----> 1\u001b[0;31m \u001b[0mx_normf\u001b[0m \u001b[0;34m=\u001b[0m \u001b[0mnp\u001b[0m\u001b[0;34m.\u001b[0m\u001b[0mload\u001b[0m\u001b[0;34m(\u001b[0m\u001b[0;34m\"x_normf.npy\"\u001b[0m\u001b[0;34m)\u001b[0m\u001b[0;34m\u001b[0m\u001b[0;34m\u001b[0m\u001b[0m\n\u001b[0m",
            "\u001b[0;32m/usr/local/lib/python3.6/dist-packages/numpy/lib/npyio.py\u001b[0m in \u001b[0;36mload\u001b[0;34m(file, mmap_mode, allow_pickle, fix_imports, encoding)\u001b[0m\n\u001b[1;32m    420\u001b[0m         \u001b[0mown_fid\u001b[0m \u001b[0;34m=\u001b[0m \u001b[0;32mFalse\u001b[0m\u001b[0;34m\u001b[0m\u001b[0;34m\u001b[0m\u001b[0m\n\u001b[1;32m    421\u001b[0m     \u001b[0;32melse\u001b[0m\u001b[0;34m:\u001b[0m\u001b[0;34m\u001b[0m\u001b[0;34m\u001b[0m\u001b[0m\n\u001b[0;32m--> 422\u001b[0;31m         \u001b[0mfid\u001b[0m \u001b[0;34m=\u001b[0m \u001b[0mopen\u001b[0m\u001b[0;34m(\u001b[0m\u001b[0mos_fspath\u001b[0m\u001b[0;34m(\u001b[0m\u001b[0mfile\u001b[0m\u001b[0;34m)\u001b[0m\u001b[0;34m,\u001b[0m \u001b[0;34m\"rb\"\u001b[0m\u001b[0;34m)\u001b[0m\u001b[0;34m\u001b[0m\u001b[0;34m\u001b[0m\u001b[0m\n\u001b[0m\u001b[1;32m    423\u001b[0m         \u001b[0mown_fid\u001b[0m \u001b[0;34m=\u001b[0m \u001b[0;32mTrue\u001b[0m\u001b[0;34m\u001b[0m\u001b[0;34m\u001b[0m\u001b[0m\n\u001b[1;32m    424\u001b[0m \u001b[0;34m\u001b[0m\u001b[0m\n",
            "\u001b[0;31mFileNotFoundError\u001b[0m: [Errno 2] No such file or directory: 'x_normf.npy'"
          ]
        }
      ]
    },
    {
      "cell_type": "code",
      "metadata": {
        "id": "V_uEBJroRLrU",
        "colab_type": "code",
        "colab": {}
      },
      "source": [
        "for i in range(10):\n",
        "  vars()['xf'+str(i)]=x_normf[5421*i:(5421*(i+1)-1)]\n",
        "  np.save(\"xf\"+str(i)+\".npy\", vars()['xf'+str(i)]"
      ],
      "execution_count": 0,
      "outputs": []
    },
    {
      "cell_type": "code",
      "metadata": {
        "id": "tushDLuWDdzK",
        "colab_type": "code",
        "colab": {}
      },
      "source": [
        "for i in range(10):\n",
        "  "
      ],
      "execution_count": 0,
      "outputs": []
    },
    {
      "cell_type": "code",
      "metadata": {
        "colab_type": "code",
        "id": "_QwNUGrHCIaj",
        "colab": {}
      },
      "source": [
        "pip install evm"
      ],
      "execution_count": 0,
      "outputs": []
    },
    {
      "cell_type": "code",
      "metadata": {
        "colab_type": "code",
        "id": "cWqcROXzCIax",
        "colab": {}
      },
      "source": [
        "import EVM, numpy, scipy\n",
        "evmf1 = EVM.EVM(tailsize=10, cover_threshold = 0.7, distance_function=scipy.spatial.distance.euclidean)"
      ],
      "execution_count": 0,
      "outputs": []
    },
    {
      "cell_type": "code",
      "metadata": {
        "colab_type": "code",
        "id": "Qgh8e2CfCIa1",
        "colab": {}
      },
      "source": [
        "evmf1.train(positives = xf4 , negatives = numpy.concatenate((xf7,xf9)))"
      ],
      "execution_count": 0,
      "outputs": []
    },
    {
      "cell_type": "code",
      "metadata": {
        "colab_type": "code",
        "id": "PfMEev-TCIa4",
        "colab": {}
      },
      "source": [
        "import pickle\n",
        "#evmf1 tailsize 10\n",
        "#evmf2 tailsize 100\n",
        "#evmf3 tailsize 1000\n",
        "#evmf4 tailsize 10000\n",
        "#evmf5 tailsize 100000"
      ],
      "execution_count": 0,
      "outputs": []
    },
    {
      "cell_type": "code",
      "metadata": {
        "colab_type": "code",
        "id": "Pu3EYcMDCIa7",
        "colab": {}
      },
      "source": [
        "pickle.dump(evmf1, open('evmf1', 'wb'))"
      ],
      "execution_count": 0,
      "outputs": []
    },
    {
      "cell_type": "code",
      "metadata": {
        "colab_type": "code",
        "id": "df2PH9tUCIbB",
        "colab": {}
      },
      "source": [
        "evmf1 = pickle.load(open('evm2', 'rb'))"
      ],
      "execution_count": 0,
      "outputs": []
    },
    {
      "cell_type": "code",
      "metadata": {
        "id": "bguBzP3wk0_j",
        "colab_type": "code",
        "colab": {}
      },
      "source": [
        "pf=[]\n",
        "for i in x_normf:\n",
        "  probability, evm_index= evmf1.max_probabilities([i])\n",
        "  pf = np.append(pf,probability)\n",
        "np.save(\"pf.npy\",pf)\n"
      ],
      "execution_count": 0,
      "outputs": []
    },
    {
      "cell_type": "code",
      "metadata": {
        "id": "4OHMwJE4imn-",
        "colab_type": "code",
        "colab": {}
      },
      "source": [
        "for i in range(10):\n",
        " vars()['xt'+str(i)]= np.load(\"xt\"+str(i)+\".npy\")\n",
        " vars()['xt'+str(i)] = vars()['xt'+str(i)].reshape(vars()['xt'+str(i)].shape[0],28,28)"
      ],
      "execution_count": 0,
      "outputs": []
    },
    {
      "cell_type": "code",
      "metadata": {
        "id": "Lv5igGYmimlO",
        "colab_type": "code",
        "colab": {}
      },
      "source": [
        "x_normt = []\n",
        "for i in range(10):\n",
        "  x_normt = np.append(x_normt, vars()['xt'+str(i)])"
      ],
      "execution_count": 0,
      "outputs": []
    },
    {
      "cell_type": "code",
      "metadata": {
        "id": "J0hM8VC9lUF0",
        "colab_type": "code",
        "colab": {}
      },
      "source": [
        "x_normt = x_normt.reshape(x_normt.shape[0]//784,28,28)"
      ],
      "execution_count": 0,
      "outputs": []
    },
    {
      "cell_type": "code",
      "metadata": {
        "id": "3SJLXiWzkuJL",
        "colab_type": "code",
        "colab": {}
      },
      "source": [
        "np.save(\"x_normt.npy\",x_normt)"
      ],
      "execution_count": 0,
      "outputs": []
    },
    {
      "cell_type": "code",
      "metadata": {
        "id": "OphnnDfwkuG9",
        "colab_type": "code",
        "colab": {}
      },
      "source": [
        "#x_normtf = np.load(\"x_normtf.npy\")\n",
        "layer_outputs = [layer.output for layer in model_train.layers[:8]]\n",
        "activation_model = models.Model(inputs=model_train.input, outputs=layer_outputs)\n",
        "x=[]\n",
        "for i in x_normt:\n",
        "  activations = activation_model.predict(i.reshape(1,28,28,1))\n",
        "  x=np.append(x,activations[4])\n",
        "x = x.reshape(x_normt.shape[0],x.shape[0]//x_normt.shape[0])\n",
        "x_normtf = x #f -> flatten\n",
        "np.save(\"x_normtf.npy\",x_normtf)"
      ],
      "execution_count": 0,
      "outputs": []
    },
    {
      "cell_type": "code",
      "metadata": {
        "id": "JXZPGpaFkuE0",
        "colab_type": "code",
        "colab": {}
      },
      "source": [
        "ptf=[]\n",
        "for i in x_normtf:\n",
        "  probability, evm_index= evmf1.max_probabilities([i])\n",
        "  ptf = np.append(ptf,probability)\n",
        "np.save(\"ptf.npy\",ptf)\n"
      ],
      "execution_count": 0,
      "outputs": []
    },
    {
      "cell_type": "markdown",
      "metadata": {
        "id": "yE3zvfJ1L7g6",
        "colab_type": "text"
      },
      "source": [
        "# **Testing and Training using Adversarial Autoencoder**"
      ]
    },
    {
      "cell_type": "code",
      "metadata": {
        "id": "yRjCSRpgkuAn",
        "colab_type": "code",
        "colab": {}
      },
      "source": [
        "import numpy as np\n",
        "import keras as ke\n",
        "import pandas as pd\n",
        "import matplotlib.pyplot as plt\n",
        "(x_train, y_train), (x_test, y_test) = mnist.load_data()\n",
        "\n",
        "x_train = x_train.reshape(x_train.shape[0], 28, 28, 1)\n",
        "x_train = x_train.astype(float)\n",
        "x_train /= 255.0"
      ],
      "execution_count": 0,
      "outputs": []
    },
    {
      "cell_type": "code",
      "metadata": {
        "id": "MNTpmzoumQeB",
        "colab_type": "code",
        "outputId": "522cee7a-ff1d-4108-8529-6320187ff97d",
        "colab": {
          "base_uri": "https://localhost:8080/",
          "height": 35
        }
      },
      "source": [
        "x0.shape"
      ],
      "execution_count": 0,
      "outputs": [
        {
          "output_type": "execute_result",
          "data": {
            "text/plain": [
              "(5421, 28, 28, 1)"
            ]
          },
          "metadata": {
            "tags": []
          },
          "execution_count": 7
        }
      ]
    },
    {
      "cell_type": "code",
      "metadata": {
        "id": "yyyU9nYcmJyc",
        "colab_type": "code",
        "outputId": "2e985852-0e52-4343-f77d-eaae44696cc8",
        "colab": {
          "base_uri": "https://localhost:8080/",
          "height": 1000
        }
      },
      "source": [
        "def build_model_enc():\n",
        "    model = ke.models.Sequential()\n",
        "    model.add(ke.layers.Conv2D(32, (5,5), padding=\"same\", activation=\"relu\", input_shape=(28, 28, 1)))\n",
        "    model.add(ke.layers.Conv2D(64, (5,5), strides=(2,2), activation=\"relu\", padding=\"same\"))\n",
        "    model.add(ke.layers.Conv2D(128, (5,5), strides=(2,2), activation=\"relu\", padding=\"same\"))\n",
        "    model.add(ke.layers.Flatten())\n",
        "    model.add(ke.layers.Dense(4, activation=\"linear\"))\n",
        "\n",
        "    return model\n",
        "\n",
        "def build_model_dec():\n",
        "    model = ke.models.Sequential()\n",
        "    model.add(ke.layers.Dense(6272, input_shape=(4,)))\n",
        "    model.add(ke.layers.Reshape((7, 7, 128)))\n",
        "    model.add(ke.layers.Conv2D(64, (5,5), activation=\"relu\", padding=\"same\"))\n",
        "    model.add(ke.layers.UpSampling2D())\n",
        "    model.add(ke.layers.Conv2D(32, (5,5), activation=\"relu\", padding=\"same\"))\n",
        "    model.add(ke.layers.UpSampling2D())\n",
        "    model.add(ke.layers.Conv2D(1, (5,5), activation=\"sigmoid\", padding=\"same\"))\n",
        "\n",
        "    return model\n",
        "\n",
        "def build_model_disc():\n",
        "    model = ke.models.Sequential()\n",
        "    model.add(ke.layers.Dense(32, activation=\"relu\", input_shape=(4,)))\n",
        "    model.add(ke.layers.Dense(32, activation=\"relu\"))\n",
        "    model.add(ke.layers.Dense(1, activation=\"sigmoid\"))\n",
        "    return model\n",
        "  \n",
        "def build_model_aae():\n",
        "    model_enc = build_model_enc()\n",
        "    model_dec = build_model_dec()\n",
        "    model_disc = build_model_disc()\n",
        "    \n",
        "    model_ae = ke.models.Sequential()\n",
        "    model_ae.add(model_enc)\n",
        "    model_ae.add(model_dec)\n",
        "    \n",
        "    model_enc_disc = ke.models.Sequential()\n",
        "    model_enc_disc.add(model_enc)\n",
        "    model_enc_disc.add(model_disc)\n",
        "    \n",
        "    return model_enc, model_dec, model_disc, model_ae, model_enc_disc\n",
        "\n",
        "model_enc, model_dec, model_disc, model_ae, model_enc_disc = build_model_aae()\n",
        "\n",
        "model_enc.summary()\n",
        "model_dec.summary()\n",
        "model_disc.summary()\n",
        "model_ae.summary()\n",
        "model_enc_disc.summary()\n",
        "\n",
        "model_disc.compile(optimizer=ke.optimizers.Adam(lr=1e-4), loss=\"binary_crossentropy\")\n",
        "model_enc_disc.compile(optimizer=ke.optimizers.Adam(lr=1e-4), loss=\"binary_crossentropy\")\n",
        "model_ae.compile(optimizer=ke.optimizers.Adam(lr=1e-3), loss=\"binary_crossentropy\")"
      ],
      "execution_count": 0,
      "outputs": [
        {
          "output_type": "stream",
          "text": [
            "WARNING: Logging before flag parsing goes to stderr.\n",
            "W0722 08:02:59.651538 140099073099648 deprecation_wrapper.py:119] From /usr/local/lib/python3.6/dist-packages/keras/backend/tensorflow_backend.py:74: The name tf.get_default_graph is deprecated. Please use tf.compat.v1.get_default_graph instead.\n",
            "\n",
            "W0722 08:02:59.691274 140099073099648 deprecation_wrapper.py:119] From /usr/local/lib/python3.6/dist-packages/keras/backend/tensorflow_backend.py:517: The name tf.placeholder is deprecated. Please use tf.compat.v1.placeholder instead.\n",
            "\n",
            "W0722 08:02:59.697906 140099073099648 deprecation_wrapper.py:119] From /usr/local/lib/python3.6/dist-packages/keras/backend/tensorflow_backend.py:4138: The name tf.random_uniform is deprecated. Please use tf.random.uniform instead.\n",
            "\n",
            "W0722 08:02:59.810437 140099073099648 deprecation_wrapper.py:119] From /usr/local/lib/python3.6/dist-packages/keras/backend/tensorflow_backend.py:2018: The name tf.image.resize_nearest_neighbor is deprecated. Please use tf.compat.v1.image.resize_nearest_neighbor instead.\n",
            "\n",
            "W0722 08:02:59.971228 140099073099648 deprecation_wrapper.py:119] From /usr/local/lib/python3.6/dist-packages/keras/optimizers.py:790: The name tf.train.Optimizer is deprecated. Please use tf.compat.v1.train.Optimizer instead.\n",
            "\n",
            "W0722 08:02:59.980782 140099073099648 deprecation_wrapper.py:119] From /usr/local/lib/python3.6/dist-packages/keras/backend/tensorflow_backend.py:3376: The name tf.log is deprecated. Please use tf.math.log instead.\n",
            "\n",
            "W0722 08:02:59.988238 140099073099648 deprecation.py:323] From /usr/local/lib/python3.6/dist-packages/tensorflow/python/ops/nn_impl.py:180: add_dispatch_support.<locals>.wrapper (from tensorflow.python.ops.array_ops) is deprecated and will be removed in a future version.\n",
            "Instructions for updating:\n",
            "Use tf.where in 2.0, which has the same broadcast rule as np.where\n"
          ],
          "name": "stderr"
        },
        {
          "output_type": "stream",
          "text": [
            "_________________________________________________________________\n",
            "Layer (type)                 Output Shape              Param #   \n",
            "=================================================================\n",
            "conv2d_1 (Conv2D)            (None, 28, 28, 32)        832       \n",
            "_________________________________________________________________\n",
            "conv2d_2 (Conv2D)            (None, 14, 14, 64)        51264     \n",
            "_________________________________________________________________\n",
            "conv2d_3 (Conv2D)            (None, 7, 7, 128)         204928    \n",
            "_________________________________________________________________\n",
            "flatten_1 (Flatten)          (None, 6272)              0         \n",
            "_________________________________________________________________\n",
            "dense_1 (Dense)              (None, 4)                 25092     \n",
            "=================================================================\n",
            "Total params: 282,116\n",
            "Trainable params: 282,116\n",
            "Non-trainable params: 0\n",
            "_________________________________________________________________\n",
            "_________________________________________________________________\n",
            "Layer (type)                 Output Shape              Param #   \n",
            "=================================================================\n",
            "dense_2 (Dense)              (None, 6272)              31360     \n",
            "_________________________________________________________________\n",
            "reshape_1 (Reshape)          (None, 7, 7, 128)         0         \n",
            "_________________________________________________________________\n",
            "conv2d_4 (Conv2D)            (None, 7, 7, 64)          204864    \n",
            "_________________________________________________________________\n",
            "up_sampling2d_1 (UpSampling2 (None, 14, 14, 64)        0         \n",
            "_________________________________________________________________\n",
            "conv2d_5 (Conv2D)            (None, 14, 14, 32)        51232     \n",
            "_________________________________________________________________\n",
            "up_sampling2d_2 (UpSampling2 (None, 28, 28, 32)        0         \n",
            "_________________________________________________________________\n",
            "conv2d_6 (Conv2D)            (None, 28, 28, 1)         801       \n",
            "=================================================================\n",
            "Total params: 288,257\n",
            "Trainable params: 288,257\n",
            "Non-trainable params: 0\n",
            "_________________________________________________________________\n",
            "_________________________________________________________________\n",
            "Layer (type)                 Output Shape              Param #   \n",
            "=================================================================\n",
            "dense_3 (Dense)              (None, 32)                160       \n",
            "_________________________________________________________________\n",
            "dense_4 (Dense)              (None, 32)                1056      \n",
            "_________________________________________________________________\n",
            "dense_5 (Dense)              (None, 1)                 33        \n",
            "=================================================================\n",
            "Total params: 1,249\n",
            "Trainable params: 1,249\n",
            "Non-trainable params: 0\n",
            "_________________________________________________________________\n",
            "_________________________________________________________________\n",
            "Layer (type)                 Output Shape              Param #   \n",
            "=================================================================\n",
            "sequential_1 (Sequential)    (None, 4)                 282116    \n",
            "_________________________________________________________________\n",
            "sequential_2 (Sequential)    (None, 28, 28, 1)         288257    \n",
            "=================================================================\n",
            "Total params: 570,373\n",
            "Trainable params: 570,373\n",
            "Non-trainable params: 0\n",
            "_________________________________________________________________\n",
            "_________________________________________________________________\n",
            "Layer (type)                 Output Shape              Param #   \n",
            "=================================================================\n",
            "sequential_1 (Sequential)    (None, 4)                 282116    \n",
            "_________________________________________________________________\n",
            "sequential_3 (Sequential)    (None, 1)                 1249      \n",
            "=================================================================\n",
            "Total params: 283,365\n",
            "Trainable params: 283,365\n",
            "Non-trainable params: 0\n",
            "_________________________________________________________________\n"
          ],
          "name": "stdout"
        }
      ]
    },
    {
      "cell_type": "code",
      "metadata": {
        "id": "ypcfTwbuimgx",
        "colab_type": "code",
        "colab": {}
      },
      "source": [
        "def imagegrid(dec, epochnumber):        \n",
        "        fig = plt.figure(figsize=[20, 20])\n",
        "        \n",
        "        for i in range(-5, 5):\n",
        "            for j in range(-5,5):\n",
        "                topred = np.array((i*0.5,j*0.5))\n",
        "                topred = topred.reshape((1, 2))\n",
        "                img = dec.predict(topred)\n",
        "                img = img.reshape((28, 28))\n",
        "                ax = fig.add_subplot(10, 10, (i+5)*10+j+5+1)\n",
        "                ax.set_axis_off()\n",
        "                ax.imshow(img, cmap=\"gray\")\n",
        "        \n",
        "        fig.savefig(str(epochnumber)+\".png\")\n",
        "        plt.show()\n",
        "        plt.close(fig)\n",
        "        \n",
        "def settrainable(model, toset):\n",
        "    for layer in model.layers:\n",
        "        layer.trainable = toset\n",
        "    model.trainable = toset"
      ],
      "execution_count": 0,
      "outputs": []
    },
    {
      "cell_type": "code",
      "metadata": {
        "id": "tjJZuQT8oqxi",
        "colab_type": "code",
        "colab": {}
      },
      "source": [
        "x_train = np.append(x0,np.append(x8,x3))"
      ],
      "execution_count": 0,
      "outputs": []
    },
    {
      "cell_type": "code",
      "metadata": {
        "id": "yAg3Blqos8Wl",
        "colab_type": "code",
        "colab": {}
      },
      "source": [
        "x_train = x_train.reshape(x_train.shape[0]//784,28,28,1)"
      ],
      "execution_count": 0,
      "outputs": []
    },
    {
      "cell_type": "code",
      "metadata": {
        "id": "foaeBz2Fimb-",
        "colab_type": "code",
        "outputId": "9674103e-af55-47f1-f8a0-32ee1a83a667",
        "colab": {
          "base_uri": "https://localhost:8080/",
          "height": 1000
        }
      },
      "source": [
        "batchsize=50\n",
        "#Set Number of Epochs to 10-20 or higher.\n",
        "for epochnumber in range(50):\n",
        "    np.random.shuffle(x_train)\n",
        "    \n",
        "    for i in range(int(len(x_train) / batchsize)):\n",
        "        settrainable(model_ae, True)\n",
        "        settrainable(model_enc, True)\n",
        "        settrainable(model_dec, True)\n",
        "        \n",
        "        batch = x_train[i*batchsize:i*batchsize+batchsize]\n",
        "        model_ae.train_on_batch(batch, batch)\n",
        "        \n",
        "        settrainable(model_disc, True)\n",
        "        batchpred = model_enc.predict(batch)\n",
        "        fakepred = np.random.standard_normal((batchsize,4))\n",
        "        discbatch_x = np.concatenate([batchpred, fakepred])\n",
        "        discbatch_y = np.concatenate([np.zeros(batchsize), np.ones(batchsize)])\n",
        "        model_disc.train_on_batch(discbatch_x, discbatch_y)\n",
        "        \n",
        "        settrainable(model_enc_disc, True)\n",
        "        settrainable(model_enc, True)\n",
        "        settrainable(model_disc, False)\n",
        "        model_enc_disc.train_on_batch(batch, np.ones(batchsize))\n",
        "    \n",
        "    print (\"Reconstruction Loss:\", model_ae.evaluate(x_train, x_train, verbose=0))\n",
        "    print (\"Adverserial Loss:\", model_enc_disc.evaluate(x_train, np.ones(len(x_train)), verbose=0))\n",
        "    \n",
        "    \n",
        "   # imagegrid(model_dec, epochnumber)"
      ],
      "execution_count": 0,
      "outputs": [
        {
          "output_type": "stream",
          "text": [
            "W0722 08:03:50.137666 140099073099648 deprecation_wrapper.py:119] From /usr/local/lib/python3.6/dist-packages/keras/backend/tensorflow_backend.py:986: The name tf.assign_add is deprecated. Please use tf.compat.v1.assign_add instead.\n",
            "\n",
            "/usr/local/lib/python3.6/dist-packages/keras/engine/training.py:490: UserWarning: Discrepancy between trainable weights and collected trainable weights, did you set `model.trainable` without calling `model.compile` after ?\n",
            "  'Discrepancy between trainable weights and collected trainable'\n",
            "/usr/local/lib/python3.6/dist-packages/keras/engine/training.py:490: UserWarning: Discrepancy between trainable weights and collected trainable weights, did you set `model.trainable` without calling `model.compile` after ?\n",
            "  'Discrepancy between trainable weights and collected trainable'\n"
          ],
          "name": "stderr"
        },
        {
          "output_type": "stream",
          "text": [
            "Reconstruction Loss: 0.18503802265070068\n",
            "Adverserial Loss: 0.05120265971353146\n",
            "Reconstruction Loss: 0.1789127736532372\n",
            "Adverserial Loss: 0.05897991836422859\n",
            "Reconstruction Loss: 0.17520319306178997\n",
            "Adverserial Loss: 0.05287024424910318\n",
            "Reconstruction Loss: 0.17345071570746304\n",
            "Adverserial Loss: 0.05023861914361849\n",
            "Reconstruction Loss: 0.17084949969519683\n",
            "Adverserial Loss: 0.048426199911999146\n",
            "Reconstruction Loss: 0.168961041631759\n",
            "Adverserial Loss: 0.048016445267440894\n",
            "Reconstruction Loss: 0.16620295293721254\n",
            "Adverserial Loss: 0.0459272689172579\n",
            "Reconstruction Loss: 0.16500215346171965\n",
            "Adverserial Loss: 0.04078688796224581\n",
            "Reconstruction Loss: 0.1636128884736795\n",
            "Adverserial Loss: 0.04445647015321931\n",
            "Reconstruction Loss: 0.16231759896392292\n",
            "Adverserial Loss: 0.04107423517276922\n",
            "Reconstruction Loss: 0.16245078698945048\n",
            "Adverserial Loss: 0.04359507751026046\n",
            "Reconstruction Loss: 0.16207516529566246\n",
            "Adverserial Loss: 0.04073528027443592\n",
            "Reconstruction Loss: 0.16130520538167234\n",
            "Adverserial Loss: 0.0406997485242888\n",
            "Reconstruction Loss: 0.15953771770275335\n",
            "Adverserial Loss: 0.04174384705320093\n",
            "Reconstruction Loss: 0.15949841533072692\n",
            "Adverserial Loss: 0.044318091349696526\n",
            "Reconstruction Loss: 0.1591257972723296\n",
            "Adverserial Loss: 0.043746438852318874\n",
            "Reconstruction Loss: 0.1586165380534347\n",
            "Adverserial Loss: 0.04755513687201006\n",
            "Reconstruction Loss: 0.1584050656180463\n",
            "Adverserial Loss: 0.046987706776665986\n",
            "Reconstruction Loss: 0.1589174696077597\n",
            "Adverserial Loss: 0.043831541071421606\n",
            "Reconstruction Loss: 0.1583505081641515\n",
            "Adverserial Loss: 0.05060613425501795\n",
            "Reconstruction Loss: 0.15787803089714708\n",
            "Adverserial Loss: 0.051392168831463886\n",
            "Reconstruction Loss: 0.15752717568093264\n",
            "Adverserial Loss: 0.050582449453954056\n",
            "Reconstruction Loss: 0.15751713630051833\n",
            "Adverserial Loss: 0.04753980446408275\n",
            "Reconstruction Loss: 0.15775385134786593\n",
            "Adverserial Loss: 0.055266805801753416\n",
            "Reconstruction Loss: 0.15818164957439754\n",
            "Adverserial Loss: 0.04907369122233498\n",
            "Reconstruction Loss: 0.15642680663163977\n",
            "Adverserial Loss: 0.0463457506548352\n",
            "Reconstruction Loss: 0.15715843277840144\n",
            "Adverserial Loss: 0.05021081654689251\n",
            "Reconstruction Loss: 0.15569160621463685\n",
            "Adverserial Loss: 0.05372156578322908\n",
            "Reconstruction Loss: 0.15630761602832655\n",
            "Adverserial Loss: 0.05445523280129254\n",
            "Reconstruction Loss: 0.15568416486354228\n",
            "Adverserial Loss: 0.05209897831574835\n",
            "Reconstruction Loss: 0.15542293644303992\n",
            "Adverserial Loss: 0.06048869716958396\n",
            "Reconstruction Loss: 0.15514962889003495\n",
            "Adverserial Loss: 0.05867473963421993\n",
            "Reconstruction Loss: 0.15522805216757637\n",
            "Adverserial Loss: 0.059062959789984236\n",
            "Reconstruction Loss: 0.15552444021922301\n",
            "Adverserial Loss: 0.052227815334836156\n",
            "Reconstruction Loss: 0.15409880826788136\n",
            "Adverserial Loss: 0.05780550243825129\n",
            "Reconstruction Loss: 0.15452219112449514\n",
            "Adverserial Loss: 0.05214924011948708\n",
            "Reconstruction Loss: 0.15504641224264418\n",
            "Adverserial Loss: 0.05977524889328746\n",
            "Reconstruction Loss: 0.15363005340311908\n",
            "Adverserial Loss: 0.05647733320364622\n",
            "Reconstruction Loss: 0.15464620879785254\n",
            "Adverserial Loss: 0.052955944724447396\n",
            "Reconstruction Loss: 0.15416213264582906\n",
            "Adverserial Loss: 0.06083961428705268\n",
            "Reconstruction Loss: 0.1532682986137561\n",
            "Adverserial Loss: 0.06272216426868438\n",
            "Reconstruction Loss: 0.15385960365458842\n",
            "Adverserial Loss: 0.05791435602917\n",
            "Reconstruction Loss: 0.1535371154123425\n",
            "Adverserial Loss: 0.05593330435940922\n",
            "Reconstruction Loss: 0.15440973946435832\n",
            "Adverserial Loss: 0.061847531950533156\n",
            "Reconstruction Loss: 0.15459136284160738\n",
            "Adverserial Loss: 0.06158527538839143\n",
            "Reconstruction Loss: 0.15235671024073874\n",
            "Adverserial Loss: 0.062239340777421125\n",
            "Reconstruction Loss: 0.15428328771935115\n",
            "Adverserial Loss: 0.06359588286747742\n",
            "Reconstruction Loss: 0.15298347624822464\n",
            "Adverserial Loss: 0.06770780015479579\n",
            "Reconstruction Loss: 0.1529162443694627\n",
            "Adverserial Loss: 0.07063489646399394\n",
            "Reconstruction Loss: 0.15363832612136027\n",
            "Adverserial Loss: 0.06898478014196614\n"
          ],
          "name": "stdout"
        }
      ]
    },
    {
      "cell_type": "code",
      "metadata": {
        "id": "6xsTmZjUZ8G8",
        "colab_type": "code",
        "colab": {}
      },
      "source": [
        "enc = ke.models.Sequential()\n",
        "enc.add(ke.layers.Conv2D(32, (5,5), padding=\"same\", activation=\"relu\", input_shape=(28, 28, 1),weights = model_enc.layers[0].get_weights()))\n",
        "enc.add(ke.layers.Conv2D(64, (5,5), strides=(2,2), activation=\"relu\", padding=\"same\",weights = model_enc.layers[1].get_weights()))\n",
        "enc.add(ke.layers.Conv2D(128, (5,5), strides=(2,2), activation=\"relu\", padding=\"same\",weights = model_enc.layers[2].get_weights()))\n",
        "enc.add(ke.layers.Flatten(weights = model_enc.layers[3].get_weights()))\n",
        "enc.add(ke.layers.Dense(4, activation=\"linear\",weights = model_enc.layers[4].get_weights()))"
      ],
      "execution_count": 0,
      "outputs": []
    },
    {
      "cell_type": "code",
      "metadata": {
        "id": "y4PmGxL1hno7",
        "colab_type": "code",
        "colab": {}
      },
      "source": [
        "enc.save(\"enc083.h5\")"
      ],
      "execution_count": 0,
      "outputs": []
    },
    {
      "cell_type": "code",
      "metadata": {
        "id": "5N7TkzmVlBuO",
        "colab_type": "code",
        "outputId": "081bd1f5-4c97-4453-c347-1c7dc7d1ccf8",
        "colab": {
          "base_uri": "https://localhost:8080/",
          "height": 269
        }
      },
      "source": [
        "enc = load_model(\"enc16.h5\")"
      ],
      "execution_count": 0,
      "outputs": [
        {
          "output_type": "stream",
          "text": [
            "WARNING: Logging before flag parsing goes to stderr.\n",
            "W0708 05:15:42.794146 140665454229376 deprecation_wrapper.py:119] From /usr/local/lib/python3.6/dist-packages/keras/backend/tensorflow_backend.py:517: The name tf.placeholder is deprecated. Please use tf.compat.v1.placeholder instead.\n",
            "\n",
            "W0708 05:15:42.842335 140665454229376 deprecation_wrapper.py:119] From /usr/local/lib/python3.6/dist-packages/keras/backend/tensorflow_backend.py:4138: The name tf.random_uniform is deprecated. Please use tf.random.uniform instead.\n",
            "\n",
            "W0708 05:15:42.943841 140665454229376 deprecation_wrapper.py:119] From /usr/local/lib/python3.6/dist-packages/keras/backend/tensorflow_backend.py:174: The name tf.get_default_session is deprecated. Please use tf.compat.v1.get_default_session instead.\n",
            "\n",
            "W0708 05:15:42.945059 140665454229376 deprecation_wrapper.py:119] From /usr/local/lib/python3.6/dist-packages/keras/backend/tensorflow_backend.py:181: The name tf.ConfigProto is deprecated. Please use tf.compat.v1.ConfigProto instead.\n",
            "\n",
            "W0708 05:15:42.945831 140665454229376 deprecation_wrapper.py:119] From /usr/local/lib/python3.6/dist-packages/keras/backend/tensorflow_backend.py:186: The name tf.Session is deprecated. Please use tf.compat.v1.Session instead.\n",
            "\n",
            "/usr/local/lib/python3.6/dist-packages/keras/engine/saving.py:292: UserWarning: No training configuration found in save file: the model was *not* compiled. Compile it manually.\n",
            "  warnings.warn('No training configuration found in save file: '\n"
          ],
          "name": "stderr"
        }
      ]
    },
    {
      "cell_type": "code",
      "metadata": {
        "id": "6QwfpHz9Bp52",
        "colab_type": "code",
        "colab": {}
      },
      "source": [
        "x_norm = []\n",
        "for i in range(10):\n",
        "  x_norm = np.append(x_norm, vars()['x'+str(i)])\n",
        " "
      ],
      "execution_count": 0,
      "outputs": []
    },
    {
      "cell_type": "code",
      "metadata": {
        "id": "jvGfYUSRxLpQ",
        "colab_type": "code",
        "colab": {}
      },
      "source": [
        "x_norm = x_norm.reshape(x_norm.shape[0]//784,28,28,1)"
      ],
      "execution_count": 0,
      "outputs": []
    },
    {
      "cell_type": "code",
      "metadata": {
        "id": "EKR_VHvtxnPl",
        "colab_type": "code",
        "colab": {}
      },
      "source": [
        "np.save(\"x_norm.npy\",x_norm)"
      ],
      "execution_count": 0,
      "outputs": []
    },
    {
      "cell_type": "code",
      "metadata": {
        "id": "8ve2vyKhxH3_",
        "colab_type": "code",
        "colab": {}
      },
      "source": [
        "x_norm = np.load(\"x_norm.npy\")\n",
        "x=[]\n",
        "for i in x_norm:\n",
        "  x = np.append(x,enc.predict(i.reshape(1,28,28,1))) "
      ],
      "execution_count": 0,
      "outputs": []
    },
    {
      "cell_type": "code",
      "metadata": {
        "id": "HoSBnlS6wUrS",
        "colab_type": "code",
        "colab": {}
      },
      "source": [
        "x_normn083 = x.reshape(54210,4)\n",
        "np.save(\"x_normn083.npy\",x_normn083)"
      ],
      "execution_count": 0,
      "outputs": []
    },
    {
      "cell_type": "code",
      "metadata": {
        "id": "-3F5hDFSDkGP",
        "colab_type": "code",
        "colab": {}
      },
      "source": [
        "x_norme = np.load(\"x_norme.npy\")"
      ],
      "execution_count": 0,
      "outputs": []
    },
    {
      "cell_type": "code",
      "metadata": {
        "id": "Q_ANnU7AukRP",
        "colab_type": "code",
        "outputId": "835a8d8e-48f2-45fe-c39c-e7b430aac05b",
        "colab": {
          "base_uri": "https://localhost:8080/",
          "height": 35
        }
      },
      "source": [
        "x_normn4.shape"
      ],
      "execution_count": 0,
      "outputs": [
        {
          "output_type": "execute_result",
          "data": {
            "text/plain": [
              "(54210, 4)"
            ]
          },
          "metadata": {
            "tags": []
          },
          "execution_count": 56
        }
      ]
    },
    {
      "cell_type": "code",
      "metadata": {
        "id": "iWabRqJCZ8Ep",
        "colab_type": "code",
        "outputId": "7c4a51f6-f760-4b31-b70a-751c11e3aa62",
        "colab": {
          "base_uri": "https://localhost:8080/",
          "height": 394
        }
      },
      "source": [
        "pip install evm"
      ],
      "execution_count": 0,
      "outputs": [
        {
          "output_type": "stream",
          "text": [
            "Collecting evm\n",
            "  Downloading https://files.pythonhosted.org/packages/a5/ee/187044f9158fcfd4cf808a5ca58115a987f79228b76bf230e1abac0c2636/EVM-0.1.2.zip\n",
            "Collecting libmr>=0.1.8 (from evm)\n",
            "  Downloading https://files.pythonhosted.org/packages/f3/48/f9d43abb742cbebec15933a052042da84d682da2142e803a0c1fa4524210/libmr-0.1.9.zip\n",
            "Requirement already satisfied: h5py in /usr/local/lib/python3.6/dist-packages (from evm) (2.8.0)\n",
            "Requirement already satisfied: scipy in /usr/local/lib/python3.6/dist-packages (from evm) (1.3.0)\n",
            "Requirement already satisfied: sklearn in /usr/local/lib/python3.6/dist-packages (from evm) (0.0)\n",
            "Requirement already satisfied: cython in /usr/local/lib/python3.6/dist-packages (from libmr>=0.1.8->evm) (0.29.12)\n",
            "Requirement already satisfied: numpy in /usr/local/lib/python3.6/dist-packages (from libmr>=0.1.8->evm) (1.16.4)\n",
            "Requirement already satisfied: six in /usr/local/lib/python3.6/dist-packages (from h5py->evm) (1.12.0)\n",
            "Requirement already satisfied: scikit-learn in /usr/local/lib/python3.6/dist-packages (from sklearn->evm) (0.21.2)\n",
            "Requirement already satisfied: joblib>=0.11 in /usr/local/lib/python3.6/dist-packages (from scikit-learn->sklearn->evm) (0.13.2)\n",
            "Building wheels for collected packages: evm, libmr\n",
            "  Building wheel for evm (setup.py) ... \u001b[?25l\u001b[?25hdone\n",
            "  Stored in directory: /root/.cache/pip/wheels/9d/d3/fb/342ec9af3d8b3d0d7159081e8205a70404d3d324a402d911d0\n",
            "  Building wheel for libmr (setup.py) ... \u001b[?25l\u001b[?25hdone\n",
            "  Stored in directory: /root/.cache/pip/wheels/68/59/1a/9f120c43e08929ccf17ed7aa1d38b86b55f82787ceecddb7ae\n",
            "Successfully built evm libmr\n",
            "Installing collected packages: libmr, evm\n",
            "Successfully installed evm-0.1.2 libmr-0.1.9\n"
          ],
          "name": "stdout"
        }
      ]
    },
    {
      "cell_type": "code",
      "metadata": {
        "id": "48ntNBjzZ8Bf",
        "colab_type": "code",
        "colab": {}
      },
      "source": [
        "import EVM, numpy, scipy"
      ],
      "execution_count": 0,
      "outputs": []
    },
    {
      "cell_type": "code",
      "metadata": {
        "id": "sTWS88VzOHu9",
        "colab_type": "code",
        "colab": {}
      },
      "source": [
        "evm083 = EVM.EVM(tailsize=10, cover_threshold = 0.7, distance_function=scipy.spatial.distance.euclidean)"
      ],
      "execution_count": 0,
      "outputs": []
    },
    {
      "cell_type": "code",
      "metadata": {
        "id": "coEewHgdZ78a",
        "colab_type": "code",
        "colab": {}
      },
      "source": [
        "evm083.train(positives = x_normn083[0:5421], negatives = numpy.concatenate((x_normn083[43368:48789], x_normn083[16263:21684])))"
      ],
      "execution_count": 0,
      "outputs": []
    },
    {
      "cell_type": "code",
      "metadata": {
        "colab_type": "code",
        "id": "xup0lghuEmwc",
        "colab": {}
      },
      "source": [
        "import pickle"
      ],
      "execution_count": 0,
      "outputs": []
    },
    {
      "cell_type": "code",
      "metadata": {
        "colab_type": "code",
        "id": "67hpEA12Emwh",
        "colab": {}
      },
      "source": [
        "pickle.dump(evm083, open('evm083', 'wb'))"
      ],
      "execution_count": 0,
      "outputs": []
    },
    {
      "cell_type": "code",
      "metadata": {
        "colab_type": "code",
        "id": "LjiqWI6bEmwm",
        "colab": {}
      },
      "source": [
        "evmn1 = pickle.load(open('evmn1', 'rb'))"
      ],
      "execution_count": 0,
      "outputs": []
    },
    {
      "cell_type": "code",
      "metadata": {
        "id": "OKHC6NXJPG8h",
        "colab_type": "code",
        "colab": {}
      },
      "source": [
        "#evme encoded dimension 2"
      ],
      "execution_count": 0,
      "outputs": []
    },
    {
      "cell_type": "code",
      "metadata": {
        "id": "TqMT5T8FEgjc",
        "colab_type": "code",
        "colab": {}
      },
      "source": [
        "p083 = []\n",
        "for i in x_normn083:\n",
        "  probability, evm_index= evm083.max_probabilities([i])\n",
        "  p083 = np.append(p083,probability)\n",
        "np.save(\"p083.npy\",p083)\n",
        "#evme8 means encoded dimension is 8"
      ],
      "execution_count": 0,
      "outputs": []
    },
    {
      "cell_type": "code",
      "metadata": {
        "id": "7oqkbQ63lkY_",
        "colab_type": "code",
        "colab": {}
      },
      "source": [
        "x_normt = np.load(\"x_normt.npy\").reshape(8920,28,28,1)\n",
        "x=[]\n",
        "for i in x_normt:\n",
        "  x = np.append(x,enc.predict(i.reshape(1,28,28,1))) \n",
        "x_normnt083 = x.reshape(8920,4)"
      ],
      "execution_count": 0,
      "outputs": []
    },
    {
      "cell_type": "code",
      "metadata": {
        "colab_type": "code",
        "id": "Q_nqc7dOINtu",
        "colab": {}
      },
      "source": [
        "np.save(\"x_normnt083.npy\",x_normnt083)"
      ],
      "execution_count": 0,
      "outputs": []
    },
    {
      "cell_type": "code",
      "metadata": {
        "id": "8uMz2wsWTtDt",
        "colab_type": "code",
        "colab": {}
      },
      "source": [
        "x_normet8 = np.load(\"x_normet8.npy\")"
      ],
      "execution_count": 0,
      "outputs": []
    },
    {
      "cell_type": "code",
      "metadata": {
        "id": "t0gkkSSjWdP9",
        "colab_type": "code",
        "colab": {}
      },
      "source": [
        "x_normnt1 = np.load(\"x_normnt1.npy\")\n",
        "pnt1 = []\n",
        "for i in x_normnt1:\n",
        "  probability, evm_index= evmn1.max_probabilities([i])\n",
        "  pnt1 = np.append(pnt1,probability)\n",
        "np.save(\"pnt1.npy\",pnt1)\n"
      ],
      "execution_count": 0,
      "outputs": []
    },
    {
      "cell_type": "code",
      "metadata": {
        "id": "MY0uxbG3GZfu",
        "colab_type": "code",
        "outputId": "10242786-65c7-4e5e-c445-82866268e65f",
        "colab": {
          "base_uri": "https://localhost:8080/",
          "height": 1000
        }
      },
      "source": [
        "pn1 = np.load(\"pn1.npy\")\n",
        "for i in range(10):\n",
        "  #plt.plot(p,color='red',marker='.', linestyle='dashed',linewidth =0.1, markersize=2)\n",
        "  plt.hist(pn1[5421*i:5421*(i+1)],color='orange',edgecolor = 'white',bins=50)\n",
        "  plt.title(\"EVM-(Mnist)\")\n",
        "  plt.xlabel(\"Images-\\\"\"+str(i)+\"\\\"\")\n",
        "  plt.ylabel(\"Probabilities of belonging to Images-\\\"1\\\"\")\n",
        "  #plt.text(2500,-0.08, 'EVM trained using Images-\"4\" as positive and Images-\"7\" and Images-\"9\" as negatives',horizontalalignment='center',verticalalignment='center')\n",
        "  plt.savefig(\"Graphs/Graphsencoder/\"+'xn1'+str(i)+\".png\")\n",
        "  plt.show()\n",
        "  #xet8 means encoder dimension is 8\n",
        "  #xxt was for tailsize = 100\n",
        "  #xxxt was for tailsize = 1000\n",
        "  #xxxxt was for tailsize = 10000\n",
        "  #xxxxxt was for tailsize = 100000"
      ],
      "execution_count": 0,
      "outputs": [
        {
          "output_type": "display_data",
          "data": {
            "image/png": "[encoded data removed]",
            "text/plain": [
              "<Figure size 432x288 with 1 Axes>"
            ]
          },
          "metadata": {
            "tags": []
          }
        },
        {
          "output_type": "display_data",
          "data": {
            "image/png": "[encoded data removed]",
            "text/plain": [
              "<Figure size 432x288 with 1 Axes>"
            ]
          },
          "metadata": {
            "tags": []
          }
        },
        {
          "output_type": "display_data",
          "data": {
            "image/png": "[encoded data removed]",
            "text/plain": [
              "<Figure size 432x288 with 1 Axes>"
            ]
          },
          "metadata": {
            "tags": []
          }
        },
        {
          "output_type": "display_data",
          "data": {
            "image/png": "[encoded data removed]",
            "text/plain": [
              "<Figure size 432x288 with 1 Axes>"
            ]
          },
          "metadata": {
            "tags": []
          }
        },
        {
          "output_type": "display_data",
          "data": {
            "image/png": "[encoded data removed]",
            "text/plain": [
              "<Figure size 432x288 with 1 Axes>"
            ]
          },
          "metadata": {
            "tags": []
          }
        },
        {
          "output_type": "display_data",
          "data": {
            "image/png": "[encoded data removed]",
            "text/plain": [
              "<Figure size 432x288 with 1 Axes>"
            ]
          },
          "metadata": {
            "tags": []
          }
        },
        {
          "output_type": "display_data",
          "data": {
            "image/png": "[encoded data removed]",
            "text/plain": [
              "<Figure size 432x288 with 1 Axes>"
            ]
          },
          "metadata": {
            "tags": []
          }
        },
        {
          "output_type": "display_data",
          "data": {
            "image/png": "[encoded data removed]",
            "text/plain": [
              "<Figure size 432x288 with 1 Axes>"
            ]
          },
          "metadata": {
            "tags": []
          }
        },
        {
          "output_type": "display_data",
          "data": {
            "image/png": "[encoded data removed]",
            "text/plain": [
              "<Figure size 432x288 with 1 Axes>"
            ]
          },
          "metadata": {
            "tags": []
          }
        },
        {
          "output_type": "display_data",
          "data": {
            "image/png": "[encoded data removed]",
            "text/plain": [
              "<Figure size 432x288 with 1 Axes>"
            ]
          },
          "metadata": {
            "tags": []
          }
        }
      ]
    },
    {
      "cell_type": "code",
      "metadata": {
        "id": "h1F3LvPGGZZx",
        "colab_type": "code",
        "outputId": "950a936b-3f2c-40db-f0f8-31873fdac773",
        "colab": {
          "base_uri": "https://localhost:8080/",
          "height": 35
        }
      },
      "source": [
        "x_normt.shape"
      ],
      "execution_count": 0,
      "outputs": [
        {
          "output_type": "execute_result",
          "data": {
            "text/plain": [
              "(8920, 28, 28, 1)"
            ]
          },
          "metadata": {
            "tags": []
          },
          "execution_count": 69
        }
      ]
    },
    {
      "cell_type": "code",
      "metadata": {
        "id": "Z_eQxjslJgyn",
        "colab_type": "code",
        "outputId": "6e0bbee0-fbce-4e0e-b5ce-2caf37133587",
        "colab": {
          "base_uri": "https://localhost:8080/",
          "height": 1000
        }
      },
      "source": [
        "pnt1 = np.load(\"pnt1.npy\")\n",
        "for i in range(10):\n",
        "  #plt.plot(p,color='red',marker='.', linestyle='dashed',linewidth =0.1, markersize=2)\n",
        "  plt.hist(pnt1[892*i:892*(i+1)],color='orange',edgecolor = 'white',bins=50)\n",
        "  plt.title(\"EVM-(Mnist)\")\n",
        "  plt.xlabel(\"Images-\\\"\"+str(i)+\"\\\"\")\n",
        "  plt.ylabel(\"Probabilities of belonging to Images-\\\"1\\\"\")\n",
        "  #plt.text(2500,-0.08, 'EVM trained using Images-\"4\" as positive and Images-\"7\" and Images-\"9\" as negatives',horizontalalignment='center',verticalalignment='center')\n",
        "  plt.savefig(\"Graphs/Graphsencoder/\"+'xnt1'+str(i)+\".png\")\n",
        "  plt.show()\n",
        "  #xet8 means encoder dimension is 8\n",
        "  #xxt was for tailsize = 100\n",
        "  #xxxt was for tailsize = 1000\n",
        "  #xxxxt was for tailsize = 10000\n",
        "  #xxxxxt was for tailsize = 100000"
      ],
      "execution_count": 0,
      "outputs": [
        {
          "output_type": "display_data",
          "data": {
            "image/png": "[encoded data removed]",
            "text/plain": [
              "<Figure size 432x288 with 1 Axes>"
            ]
          },
          "metadata": {
            "tags": []
          }
        },
        {
          "output_type": "display_data",
          "data": {
            "image/png": "[encoded data removed]",
            "text/plain": [
              "<Figure size 432x288 with 1 Axes>"
            ]
          },
          "metadata": {
            "tags": []
          }
        },
        {
          "output_type": "display_data",
          "data": {
            "image/png": "[encoded data removed]",
            "text/plain": [
              "<Figure size 432x288 with 1 Axes>"
            ]
          },
          "metadata": {
            "tags": []
          }
        },
        {
          "output_type": "display_data",
          "data": {
            "image/png": "[encoded data removed]",
            "text/plain": [
              "<Figure size 432x288 with 1 Axes>"
            ]
          },
          "metadata": {
            "tags": []
          }
        },
        {
          "output_type": "display_data",
          "data": {
            "image/png": "[encoded data removed]",
            "text/plain": [
              "<Figure size 432x288 with 1 Axes>"
            ]
          },
          "metadata": {
            "tags": []
          }
        },
        {
          "output_type": "display_data",
          "data": {
            "image/png": "[encoded data removed]",
            "text/plain": [
              "<Figure size 432x288 with 1 Axes>"
            ]
          },
          "metadata": {
            "tags": []
          }
        },
        {
          "output_type": "display_data",
          "data": {
            "image/png": "[encoded data removed]",
            "text/plain": [
              "<Figure size 432x288 with 1 Axes>"
            ]
          },
          "metadata": {
            "tags": []
          }
        },
        {
          "output_type": "display_data",
          "data": {
            "image/png": "[encoded data removed]",
            "text/plain": [
              "<Figure size 432x288 with 1 Axes>"
            ]
          },
          "metadata": {
            "tags": []
          }
        },
        {
          "output_type": "display_data",
          "data": {
            "image/png": "[encoded data removed]",
            "text/plain": [
              "<Figure size 432x288 with 1 Axes>"
            ]
          },
          "metadata": {
            "tags": []
          }
        },
        {
          "output_type": "display_data",
          "data": {
            "image/png": "[encoded data removed]",
            "text/plain": [
              "<Figure size 432x288 with 1 Axes>"
            ]
          },
          "metadata": {
            "tags": []
          }
        }
      ]
    },
    {
      "cell_type": "code",
      "metadata": {
        "id": "_dWZuutMJgwI",
        "colab_type": "code",
        "colab": {}
      },
      "source": [
        ""
      ],
      "execution_count": 0,
      "outputs": []
    },
    {
      "cell_type": "code",
      "metadata": {
        "id": "Iw66gIfVJgtY",
        "colab_type": "code",
        "colab": {}
      },
      "source": [
        ""
      ],
      "execution_count": 0,
      "outputs": []
    },
    {
      "cell_type": "code",
      "metadata": {
        "id": "eMEtLvs_Jgq2",
        "colab_type": "code",
        "colab": {}
      },
      "source": [
        ""
      ],
      "execution_count": 0,
      "outputs": []
    },
    {
      "cell_type": "code",
      "metadata": {
        "id": "MRH9oyzgJgoC",
        "colab_type": "code",
        "colab": {}
      },
      "source": [
        ""
      ],
      "execution_count": 0,
      "outputs": []
    },
    {
      "cell_type": "code",
      "metadata": {
        "id": "aJW1WGQ2JglU",
        "colab_type": "code",
        "colab": {}
      },
      "source": [
        ""
      ],
      "execution_count": 0,
      "outputs": []
    },
    {
      "cell_type": "code",
      "metadata": {
        "id": "oQeXeFCyJgi5",
        "colab_type": "code",
        "colab": {}
      },
      "source": [
        ""
      ],
      "execution_count": 0,
      "outputs": []
    },
    {
      "cell_type": "code",
      "metadata": {
        "id": "3HO6jQWuJgf_",
        "colab_type": "code",
        "colab": {}
      },
      "source": [
        ""
      ],
      "execution_count": 0,
      "outputs": []
    },
    {
      "cell_type": "code",
      "metadata": {
        "id": "A6TnDbohJgdj",
        "colab_type": "code",
        "colab": {}
      },
      "source": [
        ""
      ],
      "execution_count": 0,
      "outputs": []
    },
    {
      "cell_type": "code",
      "metadata": {
        "id": "SIEVqSv3JgbA",
        "colab_type": "code",
        "colab": {}
      },
      "source": [
        ""
      ],
      "execution_count": 0,
      "outputs": []
    },
    {
      "cell_type": "code",
      "metadata": {
        "id": "d_Abxjt-JgYQ",
        "colab_type": "code",
        "colab": {}
      },
      "source": [
        ""
      ],
      "execution_count": 0,
      "outputs": []
    },
    {
      "cell_type": "code",
      "metadata": {
        "id": "CY_nipROJgVg",
        "colab_type": "code",
        "colab": {}
      },
      "source": [
        ""
      ],
      "execution_count": 0,
      "outputs": []
    },
    {
      "cell_type": "code",
      "metadata": {
        "id": "XGvND75LJgSx",
        "colab_type": "code",
        "colab": {}
      },
      "source": [
        ""
      ],
      "execution_count": 0,
      "outputs": []
    },
    {
      "cell_type": "code",
      "metadata": {
        "id": "rhPSql1VJgP-",
        "colab_type": "code",
        "colab": {}
      },
      "source": [
        ""
      ],
      "execution_count": 0,
      "outputs": []
    },
    {
      "cell_type": "code",
      "metadata": {
        "id": "ENkvepUIJgLv",
        "colab_type": "code",
        "colab": {}
      },
      "source": [
        ""
      ],
      "execution_count": 0,
      "outputs": []
    },
    {
      "cell_type": "code",
      "metadata": {
        "id": "sPCCFpp6JgFa",
        "colab_type": "code",
        "colab": {}
      },
      "source": [
        ""
      ],
      "execution_count": 0,
      "outputs": []
    },
    {
      "cell_type": "code",
      "metadata": {
        "id": "VMWIp5TTzOrJ",
        "colab_type": "code",
        "colab": {}
      },
      "source": [
        "layer_outputs = [layer.output for layer in model0.layers[:8]]\n",
        "activation_model = models.Model(inputs=model0.input, outputs=layer_outputs)"
      ],
      "execution_count": 0,
      "outputs": []
    },
    {
      "cell_type": "code",
      "metadata": {
        "id": "DyWZRwgIrS4Z",
        "colab_type": "code",
        "colab": {}
      },
      "source": [
        "xx0, model0 = flatten_layer(x0,np.full(x0.shape[0],1,dtype='uint8'))\n",
        "xx1, model1 = flatten_layer(x1,np.full(x1.shape[0],1,dtype='uint8'))\n",
        "xx2, model2 = flatten_layer(x2,np.full(x2.shape[0],1,dtype='uint8'))\n",
        "xx3, model3 = flatten_layer(x3,np.full(x3.shape[0],1,dtype='uint8'))\n",
        "xx4, model4 = flatten_layer(x4,np.full(x4.shape[0],1,dtype='uint8'))\n",
        "xx5, model5 = flatten_layer(x5,np.full(x5.shape[0],1,dtype='uint8'))\n",
        "xx6, model6 = flatten_layer(x6,np.full(x6.shape[0],1,dtype='uint8'))\n",
        "xx7, model7 = flatten_layer(x7,np.full(x7.shape[0],1,dtype='uint8'))\n",
        "xx8, model8 = flatten_layer(x8,np.full(x8.shape[0],1,dtype='uint8'))\n",
        "xx9, model9 = flatten_layer(x9,np.full(x9.shape[0],1,dtype='uint8'))"
      ],
      "execution_count": 0,
      "outputs": []
    },
    {
      "cell_type": "code",
      "metadata": {
        "id": "3q4ogYU_t_Pe",
        "colab_type": "code",
        "colab": {}
      },
      "source": [
        "np.save(\"xx0.npy\",xx0)\n",
        "np.save(\"xx1.npy\",xx1)\n",
        "np.save(\"xx2.npy\",xx2)\n",
        "np.save(\"xx3.npy\",xx3)\n",
        "np.save(\"xx4.npy\",xx4)\n",
        "np.save(\"xx5.npy\",xx5)\n",
        "np.save(\"xx6.npy\",xx6)\n",
        "np.save(\"xx7.npy\",xx7)\n",
        "np.save(\"xx8.npy\",xx8)\n",
        "np.save(\"xx9.npy\",xx9)"
      ],
      "execution_count": 0,
      "outputs": []
    },
    {
      "cell_type": "code",
      "metadata": {
        "id": "6ionGji0gs-u",
        "colab_type": "code",
        "colab": {}
      },
      "source": [
        "xx0 = np.load(\"xx0.npy\")\n",
        "xx1 = np.load(\"xx1.npy\")\n",
        "xx2 = np.load(\"xx2.npy\")\n",
        "xx3 = np.load(\"xx3.npy\")\n",
        "xx4 = np.load(\"xx4.npy\")\n",
        "xx5 = np.load(\"xx5.npy\")\n",
        "xx6 = np.load(\"xx6.npy\")\n",
        "xx7 = np.load(\"xx7.npy\")\n",
        "xx8 = np.load(\"xx8.npy\")\n",
        "xx9 = np.load(\"xx9.npy\")"
      ],
      "execution_count": 0,
      "outputs": []
    },
    {
      "cell_type": "markdown",
      "metadata": {
        "id": "HQb3__DIw2Rv",
        "colab_type": "text"
      },
      "source": [
        "# **Saving and Loading Model using Pickle**\n",
        "\n",
        "---\n",
        "\n"
      ]
    },
    {
      "cell_type": "markdown",
      "metadata": {
        "id": "3ZwlpixnANyF",
        "colab_type": "text"
      },
      "source": [
        "# New Section"
      ]
    },
    {
      "cell_type": "code",
      "metadata": {
        "id": "-vJFY4NKuD19",
        "colab_type": "code",
        "colab": {}
      },
      "source": [
        "import pickle"
      ],
      "execution_count": 0,
      "outputs": []
    },
    {
      "cell_type": "code",
      "metadata": {
        "id": "2s32Jd2aK3Br",
        "colab_type": "code",
        "colab": {}
      },
      "source": [
        "pickle.dump(evm, open('evm', 'wb'))"
      ],
      "execution_count": 0,
      "outputs": []
    },
    {
      "cell_type": "code",
      "metadata": {
        "id": "qLyCQggVwaQe",
        "colab_type": "code",
        "colab": {}
      },
      "source": [
        "loaded_model = pickle.load(open('evm', 'rb'))"
      ],
      "execution_count": 0,
      "outputs": []
    },
    {
      "cell_type": "code",
      "metadata": {
        "id": "xZDtS0evyMYD",
        "colab_type": "code",
        "outputId": "5d49a21d-e06c-4507-d19f-dad44d325ffb",
        "colab": {
          "base_uri": "https://localhost:8080/",
          "height": 394
        }
      },
      "source": [
        "pip install evm"
      ],
      "execution_count": 0,
      "outputs": [
        {
          "output_type": "stream",
          "text": [
            "Collecting evm\n",
            "  Downloading https://files.pythonhosted.org/packages/a5/ee/187044f9158fcfd4cf808a5ca58115a987f79228b76bf230e1abac0c2636/EVM-0.1.2.zip\n",
            "Collecting libmr>=0.1.8 (from evm)\n",
            "  Downloading https://files.pythonhosted.org/packages/f3/48/f9d43abb742cbebec15933a052042da84d682da2142e803a0c1fa4524210/libmr-0.1.9.zip\n",
            "Requirement already satisfied: h5py in /usr/local/lib/python3.6/dist-packages (from evm) (2.8.0)\n",
            "Requirement already satisfied: scipy in /usr/local/lib/python3.6/dist-packages (from evm) (1.3.0)\n",
            "Requirement already satisfied: sklearn in /usr/local/lib/python3.6/dist-packages (from evm) (0.0)\n",
            "Requirement already satisfied: cython in /usr/local/lib/python3.6/dist-packages (from libmr>=0.1.8->evm) (0.29.10)\n",
            "Requirement already satisfied: numpy in /usr/local/lib/python3.6/dist-packages (from libmr>=0.1.8->evm) (1.16.4)\n",
            "Requirement already satisfied: six in /usr/local/lib/python3.6/dist-packages (from h5py->evm) (1.12.0)\n",
            "Requirement already satisfied: scikit-learn in /usr/local/lib/python3.6/dist-packages (from sklearn->evm) (0.21.2)\n",
            "Requirement already satisfied: joblib>=0.11 in /usr/local/lib/python3.6/dist-packages (from scikit-learn->sklearn->evm) (0.13.2)\n",
            "Building wheels for collected packages: evm, libmr\n",
            "  Building wheel for evm (setup.py) ... \u001b[?25l\u001b[?25hdone\n",
            "  Stored in directory: /root/.cache/pip/wheels/9d/d3/fb/342ec9af3d8b3d0d7159081e8205a70404d3d324a402d911d0\n",
            "  Building wheel for libmr (setup.py) ... \u001b[?25l\u001b[?25hdone\n",
            "  Stored in directory: /root/.cache/pip/wheels/68/59/1a/9f120c43e08929ccf17ed7aa1d38b86b55f82787ceecddb7ae\n",
            "Successfully built evm libmr\n",
            "Installing collected packages: libmr, evm\n",
            "Successfully installed evm-0.1.2 libmr-0.1.9\n"
          ],
          "name": "stdout"
        }
      ]
    },
    {
      "cell_type": "code",
      "metadata": {
        "id": "-swKVrkJyOVb",
        "colab_type": "code",
        "colab": {}
      },
      "source": [
        "import EVM, numpy, scipy\n",
        "evm = EVM.EVM(tailsize=10, cover_threshold = 0.7, distance_function=scipy.spatial.distance.euclidean)"
      ],
      "execution_count": 0,
      "outputs": []
    },
    {
      "cell_type": "code",
      "metadata": {
        "id": "1UXcwRDBEGE_",
        "colab_type": "code",
        "outputId": "38afcd79-8934-4f09-8876-8a25c5f82970",
        "colab": {
          "base_uri": "https://localhost:8080/",
          "height": 318
        }
      },
      "source": [
        "evm.train(positives = x_train[:98], negatives = numpy.concatenate((x_train[98:])))"
      ],
      "execution_count": 0,
      "outputs": [
        {
          "output_type": "error",
          "ename": "ValueError",
          "evalue": "ignored",
          "traceback": [
            "\u001b[0;31m---------------------------------------------------------------------------\u001b[0m",
            "\u001b[0;31mValueError\u001b[0m                                Traceback (most recent call last)",
            "\u001b[0;32m<ipython-input-30-2ba6172e4a85>\u001b[0m in \u001b[0;36m<module>\u001b[0;34m()\u001b[0m\n\u001b[0;32m----> 1\u001b[0;31m \u001b[0mevm\u001b[0m\u001b[0;34m.\u001b[0m\u001b[0mtrain\u001b[0m\u001b[0;34m(\u001b[0m\u001b[0mpositives\u001b[0m \u001b[0;34m=\u001b[0m \u001b[0mx_train\u001b[0m\u001b[0;34m[\u001b[0m\u001b[0;34m:\u001b[0m\u001b[0;36m98\u001b[0m\u001b[0;34m]\u001b[0m\u001b[0;34m,\u001b[0m \u001b[0mnegatives\u001b[0m \u001b[0;34m=\u001b[0m \u001b[0mnumpy\u001b[0m\u001b[0;34m.\u001b[0m\u001b[0mconcatenate\u001b[0m\u001b[0;34m(\u001b[0m\u001b[0;34m(\u001b[0m\u001b[0mx_train\u001b[0m\u001b[0;34m[\u001b[0m\u001b[0;36m98\u001b[0m\u001b[0;34m:\u001b[0m\u001b[0;34m]\u001b[0m\u001b[0;34m)\u001b[0m\u001b[0;34m)\u001b[0m\u001b[0;34m)\u001b[0m\u001b[0;34m\u001b[0m\u001b[0;34m\u001b[0m\u001b[0m\n\u001b[0m",
            "\u001b[0;32m/usr/local/lib/python3.6/dist-packages/EVM/EVM.py\u001b[0m in \u001b[0;36mtrain\u001b[0;34m(self, positives, negatives, distances, parallel)\u001b[0m\n\u001b[1;32m    274\u001b[0m     \u001b[0;32melse\u001b[0m\u001b[0;34m:\u001b[0m\u001b[0;34m\u001b[0m\u001b[0;34m\u001b[0m\u001b[0m\n\u001b[1;32m    275\u001b[0m       \u001b[0;31m# first, train the weibull models for each positive point\u001b[0m\u001b[0;34m\u001b[0m\u001b[0;34m\u001b[0m\u001b[0;34m\u001b[0m\u001b[0m\n\u001b[0;32m--> 276\u001b[0;31m       \u001b[0mdistances\u001b[0m \u001b[0;34m=\u001b[0m \u001b[0mself\u001b[0m\u001b[0;34m.\u001b[0m\u001b[0m_distances\u001b[0m\u001b[0;34m(\u001b[0m\u001b[0mnegatives\u001b[0m\u001b[0;34m,\u001b[0m \u001b[0mparallel\u001b[0m\u001b[0;34m)\u001b[0m\u001b[0;34m\u001b[0m\u001b[0;34m\u001b[0m\u001b[0m\n\u001b[0m\u001b[1;32m    277\u001b[0m \u001b[0;34m\u001b[0m\u001b[0m\n\u001b[1;32m    278\u001b[0m     \u001b[0;31m# compute weibulls from distances\u001b[0m\u001b[0;34m\u001b[0m\u001b[0;34m\u001b[0m\u001b[0;34m\u001b[0m\u001b[0m\n",
            "\u001b[0;32m/usr/local/lib/python3.6/dist-packages/EVM/EVM.py\u001b[0m in \u001b[0;36m_distances\u001b[0;34m(self, negatives, parallel)\u001b[0m\n\u001b[1;32m    126\u001b[0m     \u001b[0;32mif\u001b[0m \u001b[0mparallel\u001b[0m \u001b[0;32mis\u001b[0m \u001b[0;32mNone\u001b[0m\u001b[0;34m:\u001b[0m\u001b[0;34m\u001b[0m\u001b[0;34m\u001b[0m\u001b[0m\n\u001b[1;32m    127\u001b[0m       \u001b[0mself\u001b[0m\u001b[0;34m.\u001b[0m\u001b[0mlog\u001b[0m\u001b[0;34m(\u001b[0m\u001b[0;34m\"Computing %d distances between %d positive and %d negative points\"\u001b[0m\u001b[0;34m,\u001b[0m \u001b[0mlen\u001b[0m\u001b[0;34m(\u001b[0m\u001b[0mself\u001b[0m\u001b[0;34m.\u001b[0m\u001b[0m_positives\u001b[0m\u001b[0;34m)\u001b[0m \u001b[0;34m*\u001b[0m \u001b[0mlen\u001b[0m\u001b[0;34m(\u001b[0m\u001b[0mnegatives\u001b[0m\u001b[0;34m)\u001b[0m\u001b[0;34m,\u001b[0m \u001b[0mlen\u001b[0m\u001b[0;34m(\u001b[0m\u001b[0mself\u001b[0m\u001b[0;34m.\u001b[0m\u001b[0m_positives\u001b[0m\u001b[0;34m)\u001b[0m\u001b[0;34m,\u001b[0m \u001b[0mlen\u001b[0m\u001b[0;34m(\u001b[0m\u001b[0mnegatives\u001b[0m\u001b[0;34m)\u001b[0m\u001b[0;34m)\u001b[0m\u001b[0;34m\u001b[0m\u001b[0;34m\u001b[0m\u001b[0m\n\u001b[0;32m--> 128\u001b[0;31m       \u001b[0mdistances\u001b[0m \u001b[0;34m=\u001b[0m \u001b[0;34m[\u001b[0m\u001b[0m_distance\u001b[0m\u001b[0;34m(\u001b[0m\u001b[0mp\u001b[0m\u001b[0;34m,\u001b[0m \u001b[0mnegatives\u001b[0m\u001b[0;34m,\u001b[0m \u001b[0mself\u001b[0m\u001b[0;34m.\u001b[0m\u001b[0mdistance_function\u001b[0m\u001b[0;34m)\u001b[0m \u001b[0;32mfor\u001b[0m \u001b[0mp\u001b[0m \u001b[0;32min\u001b[0m \u001b[0mself\u001b[0m\u001b[0;34m.\u001b[0m\u001b[0m_positives\u001b[0m\u001b[0;34m]\u001b[0m\u001b[0;34m\u001b[0m\u001b[0;34m\u001b[0m\u001b[0m\n\u001b[0m\u001b[1;32m    129\u001b[0m     \u001b[0;32melse\u001b[0m\u001b[0;34m:\u001b[0m\u001b[0;34m\u001b[0m\u001b[0;34m\u001b[0m\u001b[0m\n\u001b[1;32m    130\u001b[0m       \u001b[0;32mglobal\u001b[0m \u001b[0m_positives\u001b[0m\u001b[0;34m,\u001b[0m \u001b[0m_negatives\u001b[0m\u001b[0;34m\u001b[0m\u001b[0;34m\u001b[0m\u001b[0m\n",
            "\u001b[0;32m/usr/local/lib/python3.6/dist-packages/EVM/EVM.py\u001b[0m in \u001b[0;36m<listcomp>\u001b[0;34m(.0)\u001b[0m\n\u001b[1;32m    126\u001b[0m     \u001b[0;32mif\u001b[0m \u001b[0mparallel\u001b[0m \u001b[0;32mis\u001b[0m \u001b[0;32mNone\u001b[0m\u001b[0;34m:\u001b[0m\u001b[0;34m\u001b[0m\u001b[0;34m\u001b[0m\u001b[0m\n\u001b[1;32m    127\u001b[0m       \u001b[0mself\u001b[0m\u001b[0;34m.\u001b[0m\u001b[0mlog\u001b[0m\u001b[0;34m(\u001b[0m\u001b[0;34m\"Computing %d distances between %d positive and %d negative points\"\u001b[0m\u001b[0;34m,\u001b[0m \u001b[0mlen\u001b[0m\u001b[0;34m(\u001b[0m\u001b[0mself\u001b[0m\u001b[0;34m.\u001b[0m\u001b[0m_positives\u001b[0m\u001b[0;34m)\u001b[0m \u001b[0;34m*\u001b[0m \u001b[0mlen\u001b[0m\u001b[0;34m(\u001b[0m\u001b[0mnegatives\u001b[0m\u001b[0;34m)\u001b[0m\u001b[0;34m,\u001b[0m \u001b[0mlen\u001b[0m\u001b[0;34m(\u001b[0m\u001b[0mself\u001b[0m\u001b[0;34m.\u001b[0m\u001b[0m_positives\u001b[0m\u001b[0;34m)\u001b[0m\u001b[0;34m,\u001b[0m \u001b[0mlen\u001b[0m\u001b[0;34m(\u001b[0m\u001b[0mnegatives\u001b[0m\u001b[0;34m)\u001b[0m\u001b[0;34m)\u001b[0m\u001b[0;34m\u001b[0m\u001b[0;34m\u001b[0m\u001b[0m\n\u001b[0;32m--> 128\u001b[0;31m       \u001b[0mdistances\u001b[0m \u001b[0;34m=\u001b[0m \u001b[0;34m[\u001b[0m\u001b[0m_distance\u001b[0m\u001b[0;34m(\u001b[0m\u001b[0mp\u001b[0m\u001b[0;34m,\u001b[0m \u001b[0mnegatives\u001b[0m\u001b[0;34m,\u001b[0m \u001b[0mself\u001b[0m\u001b[0;34m.\u001b[0m\u001b[0mdistance_function\u001b[0m\u001b[0;34m)\u001b[0m \u001b[0;32mfor\u001b[0m \u001b[0mp\u001b[0m \u001b[0;32min\u001b[0m \u001b[0mself\u001b[0m\u001b[0;34m.\u001b[0m\u001b[0m_positives\u001b[0m\u001b[0;34m]\u001b[0m\u001b[0;34m\u001b[0m\u001b[0;34m\u001b[0m\u001b[0m\n\u001b[0m\u001b[1;32m    129\u001b[0m     \u001b[0;32melse\u001b[0m\u001b[0;34m:\u001b[0m\u001b[0;34m\u001b[0m\u001b[0;34m\u001b[0m\u001b[0m\n\u001b[1;32m    130\u001b[0m       \u001b[0;32mglobal\u001b[0m \u001b[0m_positives\u001b[0m\u001b[0;34m,\u001b[0m \u001b[0m_negatives\u001b[0m\u001b[0;34m\u001b[0m\u001b[0;34m\u001b[0m\u001b[0m\n",
            "\u001b[0;32m/usr/local/lib/python3.6/dist-packages/EVM/EVM.py\u001b[0m in \u001b[0;36m_distance\u001b[0;34m(positive, negatives, distance_function)\u001b[0m\n\u001b[1;32m     12\u001b[0m \u001b[0;34m\u001b[0m\u001b[0m\n\u001b[1;32m     13\u001b[0m \u001b[0;32mdef\u001b[0m \u001b[0m_distance\u001b[0m\u001b[0;34m(\u001b[0m\u001b[0mpositive\u001b[0m\u001b[0;34m,\u001b[0m \u001b[0mnegatives\u001b[0m\u001b[0;34m,\u001b[0m \u001b[0mdistance_function\u001b[0m\u001b[0;34m)\u001b[0m\u001b[0;34m:\u001b[0m\u001b[0;34m\u001b[0m\u001b[0;34m\u001b[0m\u001b[0m\n\u001b[0;32m---> 14\u001b[0;31m   \u001b[0;32mreturn\u001b[0m \u001b[0;34m[\u001b[0m\u001b[0mdistance_function\u001b[0m\u001b[0;34m(\u001b[0m\u001b[0mpositive\u001b[0m\u001b[0;34m,\u001b[0m \u001b[0mn\u001b[0m\u001b[0;34m)\u001b[0m \u001b[0;32mfor\u001b[0m \u001b[0mn\u001b[0m \u001b[0;32min\u001b[0m \u001b[0mnegatives\u001b[0m\u001b[0;34m]\u001b[0m\u001b[0;34m\u001b[0m\u001b[0;34m\u001b[0m\u001b[0m\n\u001b[0m\u001b[1;32m     15\u001b[0m \u001b[0;34m\u001b[0m\u001b[0m\n\u001b[1;32m     16\u001b[0m \u001b[0;32mdef\u001b[0m \u001b[0m_distance_parallel\u001b[0m\u001b[0;34m(\u001b[0m\u001b[0margs\u001b[0m\u001b[0;34m)\u001b[0m\u001b[0;34m:\u001b[0m\u001b[0;34m\u001b[0m\u001b[0;34m\u001b[0m\u001b[0m\n",
            "\u001b[0;32m/usr/local/lib/python3.6/dist-packages/EVM/EVM.py\u001b[0m in \u001b[0;36m<listcomp>\u001b[0;34m(.0)\u001b[0m\n\u001b[1;32m     12\u001b[0m \u001b[0;34m\u001b[0m\u001b[0m\n\u001b[1;32m     13\u001b[0m \u001b[0;32mdef\u001b[0m \u001b[0m_distance\u001b[0m\u001b[0;34m(\u001b[0m\u001b[0mpositive\u001b[0m\u001b[0;34m,\u001b[0m \u001b[0mnegatives\u001b[0m\u001b[0;34m,\u001b[0m \u001b[0mdistance_function\u001b[0m\u001b[0;34m)\u001b[0m\u001b[0;34m:\u001b[0m\u001b[0;34m\u001b[0m\u001b[0;34m\u001b[0m\u001b[0m\n\u001b[0;32m---> 14\u001b[0;31m   \u001b[0;32mreturn\u001b[0m \u001b[0;34m[\u001b[0m\u001b[0mdistance_function\u001b[0m\u001b[0;34m(\u001b[0m\u001b[0mpositive\u001b[0m\u001b[0;34m,\u001b[0m \u001b[0mn\u001b[0m\u001b[0;34m)\u001b[0m \u001b[0;32mfor\u001b[0m \u001b[0mn\u001b[0m \u001b[0;32min\u001b[0m \u001b[0mnegatives\u001b[0m\u001b[0;34m]\u001b[0m\u001b[0;34m\u001b[0m\u001b[0;34m\u001b[0m\u001b[0m\n\u001b[0m\u001b[1;32m     15\u001b[0m \u001b[0;34m\u001b[0m\u001b[0m\n\u001b[1;32m     16\u001b[0m \u001b[0;32mdef\u001b[0m \u001b[0m_distance_parallel\u001b[0m\u001b[0;34m(\u001b[0m\u001b[0margs\u001b[0m\u001b[0;34m)\u001b[0m\u001b[0;34m:\u001b[0m\u001b[0;34m\u001b[0m\u001b[0;34m\u001b[0m\u001b[0m\n",
            "\u001b[0;32m/usr/local/lib/python3.6/dist-packages/scipy/spatial/distance.py\u001b[0m in \u001b[0;36meuclidean\u001b[0;34m(u, v, w)\u001b[0m\n\u001b[1;32m    618\u001b[0m \u001b[0;34m\u001b[0m\u001b[0m\n\u001b[1;32m    619\u001b[0m     \"\"\"\n\u001b[0;32m--> 620\u001b[0;31m     \u001b[0;32mreturn\u001b[0m \u001b[0mminkowski\u001b[0m\u001b[0;34m(\u001b[0m\u001b[0mu\u001b[0m\u001b[0;34m,\u001b[0m \u001b[0mv\u001b[0m\u001b[0;34m,\u001b[0m \u001b[0mp\u001b[0m\u001b[0;34m=\u001b[0m\u001b[0;36m2\u001b[0m\u001b[0;34m,\u001b[0m \u001b[0mw\u001b[0m\u001b[0;34m=\u001b[0m\u001b[0mw\u001b[0m\u001b[0;34m)\u001b[0m\u001b[0;34m\u001b[0m\u001b[0;34m\u001b[0m\u001b[0m\n\u001b[0m\u001b[1;32m    621\u001b[0m \u001b[0;34m\u001b[0m\u001b[0m\n\u001b[1;32m    622\u001b[0m \u001b[0;34m\u001b[0m\u001b[0m\n",
            "\u001b[0;32m/usr/local/lib/python3.6/dist-packages/scipy/spatial/distance.py\u001b[0m in \u001b[0;36mminkowski\u001b[0;34m(u, v, p, w)\u001b[0m\n\u001b[1;32m    506\u001b[0m \u001b[0;34m\u001b[0m\u001b[0m\n\u001b[1;32m    507\u001b[0m     \"\"\"\n\u001b[0;32m--> 508\u001b[0;31m     \u001b[0mu\u001b[0m \u001b[0;34m=\u001b[0m \u001b[0m_validate_vector\u001b[0m\u001b[0;34m(\u001b[0m\u001b[0mu\u001b[0m\u001b[0;34m)\u001b[0m\u001b[0;34m\u001b[0m\u001b[0;34m\u001b[0m\u001b[0m\n\u001b[0m\u001b[1;32m    509\u001b[0m     \u001b[0mv\u001b[0m \u001b[0;34m=\u001b[0m \u001b[0m_validate_vector\u001b[0m\u001b[0;34m(\u001b[0m\u001b[0mv\u001b[0m\u001b[0;34m)\u001b[0m\u001b[0;34m\u001b[0m\u001b[0;34m\u001b[0m\u001b[0m\n\u001b[1;32m    510\u001b[0m     \u001b[0;32mif\u001b[0m \u001b[0mp\u001b[0m \u001b[0;34m<\u001b[0m \u001b[0;36m1\u001b[0m\u001b[0;34m:\u001b[0m\u001b[0;34m\u001b[0m\u001b[0;34m\u001b[0m\u001b[0m\n",
            "\u001b[0;32m/usr/local/lib/python3.6/dist-packages/scipy/spatial/distance.py\u001b[0m in \u001b[0;36m_validate_vector\u001b[0;34m(u, dtype)\u001b[0m\n\u001b[1;32m    336\u001b[0m     \u001b[0mu\u001b[0m \u001b[0;34m=\u001b[0m \u001b[0mnp\u001b[0m\u001b[0;34m.\u001b[0m\u001b[0matleast_1d\u001b[0m\u001b[0;34m(\u001b[0m\u001b[0mu\u001b[0m\u001b[0;34m)\u001b[0m\u001b[0;34m\u001b[0m\u001b[0;34m\u001b[0m\u001b[0m\n\u001b[1;32m    337\u001b[0m     \u001b[0;32mif\u001b[0m \u001b[0mu\u001b[0m\u001b[0;34m.\u001b[0m\u001b[0mndim\u001b[0m \u001b[0;34m>\u001b[0m \u001b[0;36m1\u001b[0m\u001b[0;34m:\u001b[0m\u001b[0;34m\u001b[0m\u001b[0;34m\u001b[0m\u001b[0m\n\u001b[0;32m--> 338\u001b[0;31m         \u001b[0;32mraise\u001b[0m \u001b[0mValueError\u001b[0m\u001b[0;34m(\u001b[0m\u001b[0;34m\"Input vector should be 1-D.\"\u001b[0m\u001b[0;34m)\u001b[0m\u001b[0;34m\u001b[0m\u001b[0;34m\u001b[0m\u001b[0m\n\u001b[0m\u001b[1;32m    339\u001b[0m     \u001b[0;32mreturn\u001b[0m \u001b[0mu\u001b[0m\u001b[0;34m\u001b[0m\u001b[0;34m\u001b[0m\u001b[0m\n\u001b[1;32m    340\u001b[0m \u001b[0;34m\u001b[0m\u001b[0m\n",
            "\u001b[0;31mValueError\u001b[0m: Input vector should be 1-D."
          ]
        }
      ]
    },
    {
      "cell_type": "code",
      "metadata": {
        "id": "0dnKi0QplRPx",
        "colab_type": "code",
        "colab": {}
      },
      "source": [
        "import pickle"
      ],
      "execution_count": 0,
      "outputs": []
    },
    {
      "cell_type": "code",
      "metadata": {
        "id": "MjhAMLjmlRyG",
        "colab_type": "code",
        "colab": {}
      },
      "source": [
        "pickle.dump(evm, open('evm', 'wb'))"
      ],
      "execution_count": 0,
      "outputs": []
    },
    {
      "cell_type": "code",
      "metadata": {
        "colab_type": "code",
        "id": "fPige25TJJPW",
        "colab": {}
      },
      "source": [
        "evm = pickle.load(open('evm', 'rb'))"
      ],
      "execution_count": 0,
      "outputs": []
    },
    {
      "cell_type": "code",
      "metadata": {
        "id": "8kbLlRTbY3yI",
        "colab_type": "code",
        "colab": {}
      },
      "source": [
        "probabilities0=indexes0=[]\n",
        "for i in range(xx0.shape[0]):\n",
        "  p,i = evm.max_probabilities([xx0[i]])\n",
        "  probabilities0 = np.append(probabilities0,p)\n",
        "  index0 = np.append(index0,i)"
      ],
      "execution_count": 0,
      "outputs": []
    },
    {
      "cell_type": "code",
      "metadata": {
        "id": "kLv7LT9rxhtD",
        "colab_type": "code",
        "colab": {}
      },
      "source": [
        "probabilities1=indexes1=[]\n",
        "for i in range(xx1.shape[0]):\n",
        "  p,i = evm.max_probabilities([xx1[i]])\n",
        "  probabilities1 = np.append(probabilities1,p)\n",
        "  index1 = np.append(index1,i)"
      ],
      "execution_count": 0,
      "outputs": []
    },
    {
      "cell_type": "code",
      "metadata": {
        "id": "jiVz_GfZZZCx",
        "colab_type": "code",
        "colab": {}
      },
      "source": [
        "probabilities2=indexes2=[]\n",
        "for i in range(xx2.shape[0]):\n",
        "  p,i = evm.max_probabilities([xx2[i]])\n",
        "  probabilities2 = np.append(probabilities2,p)\n",
        "  index2 = np.append(index2,i)"
      ],
      "execution_count": 0,
      "outputs": []
    },
    {
      "cell_type": "code",
      "metadata": {
        "id": "FOWevJaZoR89",
        "colab_type": "code",
        "colab": {}
      },
      "source": [
        "probabilities3=indexes3=[]\n",
        "for i in range(xx3.shape[0]):\n",
        "  p,i = evm.max_probabilities([xx3[i]])\n",
        "  probabilities3 = np.append(probabilities3,p)\n",
        "  index3 = np.append(index3,i)"
      ],
      "execution_count": 0,
      "outputs": []
    },
    {
      "cell_type": "code",
      "metadata": {
        "id": "YzBO0IqpoSrv",
        "colab_type": "code",
        "colab": {}
      },
      "source": [
        "probabilities4=indexes4=[]\n",
        "for i in range(xx4.shape[0]):\n",
        "  p,i = evm.max_probabilities([xx4[i]])\n",
        "  probabilities4 = np.append(probabilities4,p)\n",
        "  index4 = np.append(index4,i)"
      ],
      "execution_count": 0,
      "outputs": []
    },
    {
      "cell_type": "code",
      "metadata": {
        "id": "x41szbeqoTLu",
        "colab_type": "code",
        "colab": {}
      },
      "source": [
        "probabilities5=indexes5=[]\n",
        "for i in range(xx5.shape[0]):\n",
        "  p,i = evm.max_probabilities([xx5[i]])\n",
        "  probabilities5 = np.append(probabilities5,p)\n",
        "  index5 = np.append(index5,i)"
      ],
      "execution_count": 0,
      "outputs": []
    },
    {
      "cell_type": "code",
      "metadata": {
        "id": "6u1eVXOpoTgg",
        "colab_type": "code",
        "colab": {}
      },
      "source": [
        "probabilities6=indexes6=[]\n",
        "for i in range(xx6.shape[0]):\n",
        "  p,i = evm.max_probabilities([xx6[i]])\n",
        "  probabilities6 = np.append(probabilities6,p)\n",
        "  index6 = np.append(index6,i)"
      ],
      "execution_count": 0,
      "outputs": []
    },
    {
      "cell_type": "code",
      "metadata": {
        "id": "e2rbt2AsoT2z",
        "colab_type": "code",
        "colab": {}
      },
      "source": [
        "probabilities6=indexes6=[]\n",
        "for i in range(xx6.shape[0]):\n",
        "  p,i = evm.max_probabilities([xx6[i]])\n",
        "  probabilities6 = np.append(probabilities6,p)\n",
        "  index6 = np.append(index6,i)"
      ],
      "execution_count": 0,
      "outputs": []
    },
    {
      "cell_type": "code",
      "metadata": {
        "id": "CEwdp1_0oUKq",
        "colab_type": "code",
        "colab": {}
      },
      "source": [
        "probabilities0=indexes0=[]\n",
        "for i in range(xx0.shape[0]):\n",
        "  p,i = evm.max_probabilities([xx0[i]])\n",
        "  probabilities0 = np.append(probabilities0,p)\n",
        "  index0 = np.append(index0,i)"
      ],
      "execution_count": 0,
      "outputs": []
    },
    {
      "cell_type": "code",
      "metadata": {
        "id": "ORBhfkWGoUfg",
        "colab_type": "code",
        "colab": {}
      },
      "source": [
        "probabilities0=indexes0=[]\n",
        "for i in range(xx0.shape[0]):\n",
        "  p,i = evm.max_probabilities([xx0[i]])\n",
        "  probabilities0 = np.append(probabilities0,p)\n",
        "  index0 = np.append(index0,i)"
      ],
      "execution_count": 0,
      "outputs": []
    },
    {
      "cell_type": "code",
      "metadata": {
        "id": "9GjHPE_Ie0bF",
        "colab_type": "code",
        "colab": {}
      },
      "source": [
        "for i in range(xx0.shape[0]):\n",
        "  probabilities, indexes = mevm.max_probabilities([xx0[i]])\n",
        "  print(probabilities,'\\n')  \n",
        "for i in range(xx1.shape[0]):\n",
        "  probabilities, indexes = mevm.max_probabilities([xx1[i]])\n",
        "  print(probabilities,'\\n')  \n",
        "for i in range(xx2.shape[0]):\n",
        "  probabilities, indexes = mevm.max_probabilities([xx2[i]])\n",
        "  print(probabilities,'\\n')\n",
        "for i in range(xx3.shape[0]):\n",
        "  probabilities, indexes = mevm.max_probabilities([xx3[i]])\n",
        "  print(probabilities,'\\n')\n",
        "for i in range(xx4.shape[0]):\n",
        "  probabilities, indexes = mevm.max_probabilities([xx4[i]])\n",
        "  print(probabilities,'\\n')"
      ],
      "execution_count": 0,
      "outputs": []
    },
    {
      "cell_type": "code",
      "metadata": {
        "id": "_qy0d27pnZJB",
        "colab_type": "code",
        "colab": {}
      },
      "source": [
        "import pickle"
      ],
      "execution_count": 0,
      "outputs": []
    },
    {
      "cell_type": "code",
      "metadata": {
        "id": "fn61bLl0neXD",
        "colab_type": "code",
        "colab": {}
      },
      "source": [
        "pickle.dump(mevm, open('mevm', 'wb'))"
      ],
      "execution_count": 0,
      "outputs": []
    },
    {
      "cell_type": "code",
      "metadata": {
        "id": "WGIo20rzneDn",
        "colab_type": "code",
        "colab": {}
      },
      "source": [
        "mevm = pickle.load(open('mevm', 'rb'))"
      ],
      "execution_count": 0,
      "outputs": []
    },
    {
      "cell_type": "code",
      "metadata": {
        "colab_type": "code",
        "id": "DokAYECZCpn8",
        "colab": {}
      },
      "source": [
        "xt0=xt1=xt2=xt3=xt4=xt5=xt6=xt7=xt8=xt9=[]\n",
        "for i in range(10000):\n",
        "    if(y_test[i]==0):\n",
        "     xt0 = np.append(xt0,x_test[i])\n",
        "    elif(y_test[i]==1):\n",
        "     xt1 = np.append(xt1,x_test[i])\n",
        "    elif(y_test[i]==2):\n",
        "     xt2 = np.append(xt2,x_test[i])\n",
        "    elif(y_test[i]==3):\n",
        "     xt3 = np.append(xt3,x_test[i])\n",
        "    elif(y_test[i]==4):\n",
        "     xt4 = np.append(xt4,x_test[i])\n",
        "    elif(y_test[i]==5):\n",
        "     xt5 = np.append(xt5,x_test[i])\n",
        "    elif(y_test[i]==6):\n",
        "     xt6 = np.append(xt6,x_test[i])\n",
        "    elif(y_test[i]==7):\n",
        "     xt7 = np.append(xt7,x_test[i])\n",
        "    elif(y_test[i]==8):\n",
        "     xt8 = np.append(xt8,x_test[i])\n",
        "    elif(y_test[i]==9):\n",
        "     xt9 = np.append(xt9,x_test[i])"
      ],
      "execution_count": 0,
      "outputs": []
    },
    {
      "cell_type": "code",
      "metadata": {
        "id": "5N58r-O1t2_-",
        "colab_type": "code",
        "colab": {}
      },
      "source": [
        "xt0 = xt0.reshape(xt0.shape[0]//784,28,28,1)\n",
        "xt1 = xt1.reshape(xt1.shape[0]//784,28,28,1)\n",
        "xt2 = xt2.reshape(xt2.shape[0]//784,28,28,1)\n",
        "xt3 = xt3.reshape(xt3.shape[0]//784,28,28,1)\n",
        "xt4 = xt4.reshape(xt4.shape[0]//784,28,28,1)\n",
        "xt5 = xt5.reshape(xt5.shape[0]//784,28,28,1)\n",
        "xt6 = xt6.reshape(xt6.shape[0]//784,28,28,1)\n",
        "xt7 = xt7.reshape(xt7.shape[0]//784,28,28,1)\n",
        "xt8 = xt8.reshape(xt8.shape[0]//784,28,28,1)\n",
        "xt9 = xt9.reshape(xt9.shape[0]//784,28,28,1)"
      ],
      "execution_count": 0,
      "outputs": []
    },
    {
      "cell_type": "code",
      "metadata": {
        "id": "YlSK8UsT6Kj3",
        "colab_type": "code",
        "outputId": "8f768633-b49d-41bc-f5f2-8116714028c0",
        "colab": {
          "base_uri": "https://localhost:8080/",
          "height": 169
        }
      },
      "source": [
        "xt0"
      ],
      "execution_count": 0,
      "outputs": [
        {
          "output_type": "error",
          "ename": "NameError",
          "evalue": "ignored",
          "traceback": [
            "\u001b[0;31m---------------------------------------------------------------------------\u001b[0m",
            "\u001b[0;31mNameError\u001b[0m                                 Traceback (most recent call last)",
            "\u001b[0;32m<ipython-input-1-cd6e4e1383e9>\u001b[0m in \u001b[0;36m<module>\u001b[0;34m()\u001b[0m\n\u001b[0;32m----> 1\u001b[0;31m \u001b[0mxt0\u001b[0m\u001b[0;34m\u001b[0m\u001b[0;34m\u001b[0m\u001b[0m\n\u001b[0m",
            "\u001b[0;31mNameError\u001b[0m: name 'xt0' is not defined"
          ]
        }
      ]
    },
    {
      "cell_type": "code",
      "metadata": {
        "id": "alygWtGACkUG",
        "colab_type": "code",
        "colab": {}
      },
      "source": [
        "from keras.preprocessing.image import ImageDataGenerator"
      ],
      "execution_count": 0,
      "outputs": []
    },
    {
      "cell_type": "code",
      "metadata": {
        "id": "ZIlJEQLzCkRZ",
        "colab_type": "code",
        "colab": {}
      },
      "source": [
        "datagen = ImageDataGenerator(\n",
        "    featurewise_center=True,\n",
        "    featurewise_std_normalization=True,\n",
        "    rotation_range=20,\n",
        "    width_shift_range=0.2,\n",
        "    height_shift_range=0.2,\n",
        "    horizontal_flip=True)"
      ],
      "execution_count": 0,
      "outputs": []
    },
    {
      "cell_type": "code",
      "metadata": {
        "id": "IwUCMfFSCkL1",
        "colab_type": "code",
        "colab": {}
      },
      "source": [
        "#flatten layer with Image Augmentation\n",
        "def flatten_layert(x_train,y_train):\n",
        "  batch_size = 128\n",
        "  num_classes = 1\n",
        "  epochs = 50\n",
        "  img_rows, img_cols = 28, 28\n",
        "  if K.image_data_format() == 'channels_first':\n",
        "    x_train = x_train.reshape(x_train.shape[0], 1, img_rows, img_cols)\n",
        "    input_shape = (1, img_rows, img_cols)\n",
        "  else:\n",
        "    x_train = x_train.reshape(x_train.shape[0], img_rows, img_cols, 1)\n",
        "    input_shape = (img_rows, img_cols, 1)\n",
        "\n",
        "  x_train = x_train.astype('float32')\n",
        "  x_train /= 255\n",
        "  datagen.fit(x_train)\n",
        "  model = Sequential()\n",
        "  model.add(Conv2D(32, kernel_size=(3, 3),\n",
        "                 activation='relu',\n",
        "                 input_shape=input_shape))\n",
        "  model.add(Conv2D(64, (3, 3), activation='relu'))\n",
        "  model.add(MaxPooling2D(pool_size=(2, 2)))\n",
        "  model.add(Dropout(0.25))\n",
        "  model.add(Flatten())\n",
        "  model.add(Dense(128, activation='relu'))\n",
        "  model.add(Dropout(0.5))\n",
        "  model.add(Dense(num_classes, activation='softmax'))\n",
        "\n",
        "  model.compile(loss=keras.losses.categorical_crossentropy,\n",
        "              optimizer=keras.optimizers.Adadelta(),\n",
        "              metrics=['accuracy'])\n",
        "\n",
        "  model.fit_generator(datagen.flow(x_train, y_train, batch_size=batch_size),\n",
        "                    steps_per_epoch=len(x_train) / batch_size, epochs=epochs)\n",
        "  \n",
        "  layer_outputs = [layer.output for layer in model.layers[:8]]\n",
        "  activation_model = models.Model(inputs=model.input, outputs=layer_outputs)\n",
        "  x=[]\n",
        "  for i in range(x_train.shape[0]):\n",
        "    activations = activation_model.predict(x_train[i].reshape(1,28,28,1))\n",
        "    x=np.append(x,activations[4])\n",
        "  x = x.reshape(x_train.shape[0],x.shape[0]//x_train.shape[0])\n",
        "  return x, model"
      ],
      "execution_count": 0,
      "outputs": []
    },
    {
      "cell_type": "code",
      "metadata": {
        "id": "j2XIrowY_4ay",
        "colab_type": "code",
        "colab": {}
      },
      "source": [
        "xxt0, modelt0 = flatten_layert(xt0,np.full(xt0.shape[0],1,dtype='uint8'))\n",
        "xxt1, modelt1 = flatten_layert(xt1,np.full(xt1.shape[0],1,dtype='uint8'))\n",
        "xxt2, modelt2 = flatten_layert(xt2,np.full(xt2.shape[0],1,dtype='uint8'))\n",
        "xxt3, modelt3 = flatten_layert(xt3,np.full(xt3.shape[0],1,dtype='uint8'))\n",
        "xxt4, modelt4 = flatten_layert(xt4,np.full(xt4.shape[0],1,dtype='uint8'))\n",
        "xxt5, modelt5 = flatten_layert(xt5,np.full(xt5.shape[0],1,dtype='uint8'))\n",
        "xxt6, modelt6 = flatten_layert(xt6,np.full(xt6.shape[0],1,dtype='uint8'))\n",
        "xxt7, modelt7 = flatten_layert(xt7,np.full(xt7.shape[0],1,dtype='uint8'))\n",
        "xxt8, modelt8 = flatten_layert(xt8,np.full(xt8.shape[0],1,dtype='uint8'))\n",
        "xxt9, modelt9 = flatten_layert(xt9,np.full(xt9.shape[0],1,dtype='uint8'))"
      ],
      "execution_count": 0,
      "outputs": []
    },
    {
      "cell_type": "code",
      "metadata": {
        "id": "DXcwFXrK_xTU",
        "colab_type": "code",
        "colab": {}
      },
      "source": [
        "probability, evm_index = evm.max_probabilities([xxt1[345]])\n",
        "print(probability)\n",
        "probability, evm_index = evm.max_probabilities([xx8[345]])\n",
        "print(probability)\n",
        "probability, evm_index = evm.max_probabilities([xx9[345]])\n",
        "print(probability)\n",
        "probability, evm_index = evm.max_probabilities([xxt8[345]])\n",
        "print(probability)\n",
        "probability, evm_index = evm.max_probabilities([xxt9[345]])\n",
        "print(probability)\n",
        "probability, evm_index = evm.max_probabilities([xxt3[345]])\n",
        "print(probability)"
      ],
      "execution_count": 0,
      "outputs": []
    },
    {
      "cell_type": "code",
      "metadata": {
        "id": "qVkQBz2neqOj",
        "colab_type": "code",
        "colab": {}
      },
      "source": [
        ""
      ],
      "execution_count": 0,
      "outputs": []
    },
    {
      "cell_type": "code",
      "metadata": {
        "id": "ZbBRGzroibm-",
        "colab_type": "code",
        "colab": {}
      },
      "source": [
        ""
      ],
      "execution_count": 0,
      "outputs": []
    },
    {
      "cell_type": "code",
      "metadata": {
        "id": "Gx6R97xAloeo",
        "colab_type": "code",
        "colab": {}
      },
      "source": [
        ""
      ],
      "execution_count": 0,
      "outputs": []
    },
    {
      "cell_type": "code",
      "metadata": {
        "id": "VyCA1_NCjPK-",
        "colab_type": "code",
        "colab": {}
      },
      "source": [
        ""
      ],
      "execution_count": 0,
      "outputs": []
    },
    {
      "cell_type": "code",
      "metadata": {
        "id": "gLdsnCrujPPR",
        "colab_type": "code",
        "colab": {}
      },
      "source": [
        ""
      ],
      "execution_count": 0,
      "outputs": []
    },
    {
      "cell_type": "code",
      "metadata": {
        "id": "6hXfD1GSjPUj",
        "colab_type": "code",
        "colab": {}
      },
      "source": [
        ""
      ],
      "execution_count": 0,
      "outputs": []
    },
    {
      "cell_type": "code",
      "metadata": {
        "id": "c-ReaowdjPaj",
        "colab_type": "code",
        "colab": {}
      },
      "source": [
        ""
      ],
      "execution_count": 0,
      "outputs": []
    },
    {
      "cell_type": "code",
      "metadata": {
        "id": "pD6BiD85s9dP",
        "colab_type": "code",
        "colab": {}
      },
      "source": [
        ""
      ],
      "execution_count": 0,
      "outputs": []
    },
    {
      "cell_type": "code",
      "metadata": {
        "id": "3YWzA6FzoPGn",
        "colab_type": "code",
        "colab": {}
      },
      "source": [
        ""
      ],
      "execution_count": 0,
      "outputs": []
    },
    {
      "cell_type": "code",
      "metadata": {
        "id": "4Ef6l4xIoPD7",
        "colab_type": "code",
        "colab": {}
      },
      "source": [
        ""
      ],
      "execution_count": 0,
      "outputs": []
    },
    {
      "cell_type": "code",
      "metadata": {
        "id": "ypXEuOz9oO-u",
        "colab_type": "code",
        "colab": {}
      },
      "source": [
        ""
      ],
      "execution_count": 0,
      "outputs": []
    },
    {
      "cell_type": "code",
      "metadata": {
        "id": "1ez2ozsEY_6T",
        "colab_type": "code",
        "colab": {}
      },
      "source": [
        ""
      ],
      "execution_count": 0,
      "outputs": []
    },
    {
      "cell_type": "code",
      "metadata": {
        "id": "ILthuiA2n6Ap",
        "colab_type": "code",
        "colab": {}
      },
      "source": [
        ""
      ],
      "execution_count": 0,
      "outputs": []
    },
    {
      "cell_type": "code",
      "metadata": {
        "id": "IdjTMdWnn6Xh",
        "colab_type": "code",
        "colab": {}
      },
      "source": [
        ""
      ],
      "execution_count": 0,
      "outputs": []
    },
    {
      "cell_type": "code",
      "metadata": {
        "id": "aculpyQisvyQ",
        "colab_type": "code",
        "colab": {}
      },
      "source": [
        ""
      ],
      "execution_count": 0,
      "outputs": []
    },
    {
      "cell_type": "code",
      "metadata": {
        "id": "s0TZFVA73vN3",
        "colab_type": "code",
        "colab": {}
      },
      "source": [
        "evm.train(positives = x0, negatives = numpy.concatenate((x1,x2,x3,x4,x5,x6,x7,x8,x9)))"
      ],
      "execution_count": 0,
      "outputs": []
    },
    {
      "cell_type": "code",
      "metadata": {
        "id": "YYKepIuL3vUc",
        "colab_type": "code",
        "outputId": "8202053b-b90e-4b6c-d251-960dcdd4c768",
        "colab": {
          "base_uri": "https://localhost:8080/",
          "height": 19806
        }
      },
      "source": [
        "x=[]\n",
        "for i in range(10000):\n",
        "  if y_test[i]==1:\n",
        "    probability, evm_index = evm.max_probabilities([x_test[i].reshape(1,784)])\n",
        "    print(probability[0],\" \",i)\n",
        "    x = np.append(x,[probability[0],i])\n",
        "   "
      ],
      "execution_count": 0,
      "outputs": [
        {
          "output_type": "stream",
          "text": [
            "0.9993020320734837   2\n",
            "0.9998738676314837   5\n",
            "0.9227641268682205   14\n",
            "0.9998399231781466   29\n",
            "0.9830717464655606   31\n",
            "0.9999999999999998   37\n",
            "0.9948849745108884   39\n",
            "0.9998369743139767   40\n",
            "0.1911053294436139   46\n",
            "0.9989021979577373   57\n",
            "0.9999999653533811   74\n",
            "0.6822735477905475   89\n",
            "0.7146680178213487   94\n",
            "0.0   96\n",
            "0.43439211958618873   107\n",
            "0.9998579715118561   135\n",
            "0.9422964701208941   137\n",
            "0.9999764864944592   143\n",
            "0.9865266972183567   145\n",
            "0.999999914287155   154\n",
            "0.999999998735187   168\n",
            "0.9992039115421635   176\n",
            "0.9999999997228396   178\n",
            "0.9982459355694774   180\n",
            "0.9685805817092668   189\n",
            "0.463792379162162   190\n",
            "0.9998444509200457   191\n",
            "0.9999999942528198   196\n",
            "0.9990597097384514   202\n",
            "0.9948653283314357   203\n",
            "0.9996828327420152   204\n",
            "0.7103574838643976   224\n",
            "0.999761507785471   228\n",
            "0.9999998113856662   239\n",
            "0.2905921193747292   251\n",
            "0.9999276465630497   265\n",
            "0.999995512686973   267\n",
            "0.9999951410190605   272\n",
            "0.9996354520304909   276\n",
            "0.9995400743362082   279\n",
            "0.9999897698745001   288\n",
            "0.9999999996057227   302\n",
            "0.9826315238077243   314\n",
            "0.9999999381864348   329\n",
            "0.9998994290716339   330\n",
            "0.9999944883927121   332\n",
            "0.9998468422921964   342\n",
            "0.9991229519179226   345\n",
            "0.8638323262723754   348\n",
            "0.9680159651495249   350\n",
            "0.9919442664796063   354\n",
            "0.9982100797587571   357\n",
            "0.9932301368769314   377\n",
            "0.919153936843981   378\n",
            "0.9996009119884385   385\n",
            "0.9871406424155164   388\n",
            "0.8366188328198018   393\n",
            "0.0   409\n",
            "0.9998525481007875   416\n",
            "0.9996222595819535   419\n",
            "0.9998930283566514   427\n",
            "0.9999993906341228   430\n",
            "0.9990970625066294   455\n",
            "0.9774654844659258   473\n",
            "0.9933518902240613   476\n",
            "0.38495464243478783   480\n",
            "0.9997545361743314   489\n",
            "0.9996319275849409   504\n",
            "0.9814241410922077   506\n",
            "0.919545237760122   523\n",
            "0.9997225166473488   529\n",
            "0.9999833265902396   537\n",
            "0.8030017471943292   584\n",
            "0.0   615\n",
            "0.0   619\n",
            "0.9965977602804844   640\n",
            "0.9951261948864748   647\n",
            "0.998383382890697   652\n",
            "0.9999644190163404   663\n",
            "0.998479778752195   672\n",
            "0.9996800067367143   675\n",
            "0.8298214121843297   682\n",
            "0.9998582019879703   695\n",
            "0.0   696\n",
            "0.9968167253461601   700\n",
            "0.0   716\n",
            "0.9988680087405074   725\n",
            "0.9999988686704441   735\n",
            "0.9998996899495232   745\n",
            "0.9991597337715209   749\n",
            "0.9999999411148895   754\n",
            "0.9994253140628159   755\n",
            "0.8967465415057423   767\n",
            "0.9994376871440921   768\n",
            "0.9994963365934203   772\n",
            "0.9999280038508035   777\n",
            "0.9999998422516476   783\n",
            "0.8950973962513881   790\n",
            "0.9709448302283502   798\n",
            "0.9993669176705263   809\n",
            "0.9916638091898108   818\n",
            "0.8420735016806202   824\n",
            "0.9996594347309997   826\n",
            "0.7760477738903897   831\n",
            "0.9997789035941431   835\n",
            "0.9999948818683548   836\n",
            "0.889537744989651   840\n",
            "0.9999509770487212   848\n",
            "0.9991485107993665   850\n",
            "0.9995491586539816   889\n",
            "0.0   900\n",
            "0.9430239676172404   907\n",
            "0.9891605221032986   918\n",
            "0.9999995357822491   920\n",
            "0.9997795403544489   929\n",
            "0.9999090857692025   948\n",
            "0.987379563253077   949\n",
            "0.0   956\n",
            "0.9995673279817869   963\n",
            "0.9286804825808644   964\n",
            "0.9999271288188286   967\n",
            "0.0   977\n",
            "0.9995319748843521   979\n",
            "0.9995678214445746   984\n",
            "0.9229706557260255   988\n",
            "0.9752876206049766   994\n",
            "0.9985203865899649   1004\n",
            "0.9999933382905495   1008\n",
            "0.9999999999894778   1011\n",
            "0.9921834203301194   1019\n",
            "0.9999999991258884   1025\n",
            "0.9999056819413016   1027\n",
            "0.9999999635576543   1030\n",
            "0.994719117178991   1037\n",
            "0.999999345479084   1038\n",
            "0.9989718743539868   1040\n",
            "0.9966167890635197   1054\n",
            "0.9999730264837255   1075\n",
            "0.9999209606276566   1083\n",
            "0.9979702821044817   1097\n",
            "0.9974002232986884   1129\n",
            "0.9936896995601551   1136\n",
            "0.9622755959447103   1137\n",
            "0.9997432243576448   1139\n",
            "0.9999987261462915   1179\n",
            "0.9999996383822469   1180\n",
            "0.9999993048139949   1189\n",
            "0.9975501280343217   1193\n",
            "0.989395686096858   1201\n",
            "0.9975964436068389   1211\n",
            "0.9984884235697973   1213\n",
            "0.753573074509022   1214\n",
            "0.9910004660026822   1236\n",
            "0.9999998310904825   1238\n",
            "0.4560942097412731   1240\n",
            "0.9997023323081038   1254\n",
            "0.9568517358648368   1257\n",
            "0.999919675423817   1280\n",
            "0.999670895958328   1295\n",
            "0.9821195961480922   1302\n",
            "0.9999999996016992   1305\n",
            "0.9999999651787767   1316\n",
            "0.984629663740032   1318\n",
            "0.9989954257093018   1329\n",
            "0.9999799059648011   1338\n",
            "0.999999960533662   1350\n",
            "0.9848330091338454   1351\n",
            "0.9905356384932481   1358\n",
            "0.999955397127199   1360\n",
            "0.99933719829711   1368\n",
            "0.9967402850260618   1392\n",
            "0.41535094976986375   1397\n",
            "0.0   1403\n",
            "0.9999993174288938   1424\n",
            "0.9999992249496291   1430\n",
            "0.9947828232933897   1434\n",
            "0.9999999984790254   1448\n",
            "0.9999999999995679   1483\n",
            "0.9991607192019172   1484\n",
            "0.9999541358893993   1515\n",
            "0.0   1527\n",
            "0.9981596950352419   1528\n",
            "0.9999977123795385   1548\n",
            "0.9983905655595754   1555\n",
            "0.9844938535918106   1582\n",
            "0.9999996292590532   1603\n",
            "0.9972600806635054   1630\n",
            "0.999999287541826   1633\n",
            "0.9998503398229357   1643\n",
            "0.9920409239364245   1646\n",
            "0.986238480702166   1657\n",
            "0.9997660929724566   1659\n",
            "0.0   1667\n",
            "0.6202371753815906   1673\n",
            "0.999707403329906   1674\n",
            "0.9919691586653914   1691\n",
            "0.977495939626838   1704\n",
            "0.9275432296946369   1707\n",
            "0.9998049973740253   1715\n",
            "0.9999999999955926   1728\n",
            "0.9155442450568178   1729\n",
            "0.9999664415746077   1736\n",
            "0.9999995418584465   1753\n",
            "0.9999999999970365   1760\n",
            "0.9914643025025496   1766\n",
            "0.9997223533513148   1773\n",
            "0.999386455029281   1780\n",
            "0.7769943950301   1785\n",
            "0.9999999999999998   1791\n",
            "0.9976866211736487   1820\n",
            "0.9999999994994362   1829\n",
            "0.9995468650922092   1830\n",
            "0.9980715988621761   1834\n",
            "0.9995455268548821   1835\n",
            "0.999983250550813   1836\n",
            "0.0   1838\n",
            "0.9956471812645245   1844\n",
            "0.9928503776302982   1861\n",
            "0.9999985172053136   1867\n",
            "0.0   1868\n",
            "0.9999731915988419   1876\n",
            "0.9082451133999474   1884\n",
            "0.0   1885\n",
            "0.9966843735379144   1897\n",
            "0.0   1900\n",
            "0.0   1909\n",
            "0.9986254817535091   1922\n",
            "0.9999999999234593   1934\n",
            "0.9999223853688987   1939\n",
            "0.8309358646716505   1945\n",
            "0.9999987982987928   1986\n",
            "0.0   1988\n",
            "0.0   1993\n",
            "0.7447098886481884   1994\n",
            "0.9993163971730279   2010\n",
            "0.9831444578550185   2013\n",
            "0.999999994603425   2015\n",
            "0.9994235552690136   2017\n",
            "0.0   2018\n",
            "0.9818434408904398   2027\n",
            "0.999834787194108   2034\n",
            "0.9999999999796693   2041\n",
            "0.9999112379739656   2051\n",
            "0.9370627633455436   2071\n",
            "0.9996775262729922   2136\n",
            "0.9999999896193944   2137\n",
            "0.999307673998134   2154\n",
            "0.9950855177918324   2164\n",
            "0.9825696894000117   2166\n",
            "0.9939635027289607   2171\n",
            "0.9815140144989021   2175\n",
            "0.0   2182\n",
            "0.5103856772186357   2221\n",
            "0.9832093771066348   2228\n",
            "0.9999564463265789   2235\n",
            "0.9975797931465352   2239\n",
            "0.9831068038733758   2245\n",
            "0.0   2258\n",
            "0.9734511118969335   2261\n",
            "0.0   2266\n",
            "0.9541046983519476   2273\n",
            "0.48543401305129674   2276\n",
            "0.9707592700195853   2277\n",
            "0.9006012027853288   2283\n",
            "0.9999999981592689   2287\n",
            "0.9438708182970736   2302\n",
            "0.999831643314816   2315\n",
            "0.9999999999999974   2316\n",
            "0.9973411198130328   2324\n",
            "0.9999889654551579   2335\n",
            "0.7658679449680666   2343\n",
            "0.0   2355\n",
            "0.999948693719741   2356\n",
            "0.9999842041204852   2357\n",
            "0.0   2358\n",
            "0.9990354183512109   2359\n",
            "0.735096530149874   2366\n",
            "0.9740061487698106   2379\n",
            "0.5077316184920225   2398\n",
            "0.0   2409\n",
            "0.9993601214618398   2411\n",
            "0.875749125547823   2416\n",
            "0.9998963522345241   2418\n",
            "0.9703037365346355   2421\n",
            "0.7491605077084127   2434\n",
            "0.9995275820744403   2444\n",
            "0.9993731137868508   2473\n",
            "0.9759768536446463   2504\n",
            "0.8919206950091647   2510\n",
            "0.9999993097087126   2519\n",
            "0.9934469097512579   2524\n",
            "0.9954646279336647   2529\n",
            "0.9999999998717152   2541\n",
            "0.9948415251120365   2553\n",
            "0.9988161304135662   2576\n",
            "0.9996118440094697   2590\n",
            "0.9993078257712448   2599\n",
            "0.9984862387632717   2612\n",
            "0.9996672815671049   2626\n",
            "0.9998930874852114   2655\n",
            "0.9981606171549647   2661\n",
            "0.9999935223000652   2674\n",
            "0.8904009631501109   2676\n",
            "0.9999945347507467   2688\n",
            "0.9993245742746515   2693\n",
            "0.999999996921611   2704\n",
            "0.0   2705\n",
            "0.9999786436131313   2706\n",
            "0.9919673977431211   2719\n",
            "0.9231962189257941   2722\n",
            "0.999994501218916   2725\n",
            "0.0   2734\n",
            "0.9999735704107454   2746\n",
            "0.0   2753\n",
            "0.9996511927922533   2757\n",
            "0.9999983975445407   2786\n",
            "0.9835268323449727   2788\n",
            "0.9369727284926513   2789\n",
            "0.40065127683287205   2803\n",
            "0.9544405129782505   2815\n",
            "0.9998844010189564   2816\n",
            "0.8911820236571006   2822\n",
            "0.0   2825\n",
            "0.9987150498942569   2827\n",
            "0.9909474743646394   2867\n",
            "0.9996236059085324   2868\n",
            "0.9999981801581933   2878\n",
            "0.9999999444415921   2880\n",
            "0.9869831490169801   2885\n",
            "0.9015649145591776   2902\n",
            "0.9975274207472782   2912\n",
            "0.9999998084427542   2928\n",
            "0.0   2943\n",
            "0.9595083872454242   2946\n",
            "0.9918279252086059   2950\n",
            "0.9951671141087919   2965\n",
            "0.9705502061277802   2974\n",
            "0.9999425533713141   2982\n",
            "0.9999998372914793   2984\n",
            "0.999999995122597   2997\n",
            "0.9999941409243872   3003\n",
            "0.996224441033053   3014\n",
            "0.9998069129586279   3019\n",
            "0.0   3026\n",
            "0.983043856301962   3027\n",
            "0.9645763648423789   3039\n",
            "0.9999982184172781   3050\n",
            "0.9999997950179559   3070\n",
            "0.0   3073\n",
            "0.9230221713918256   3092\n",
            "0.9936133039555978   3097\n",
            "0.9962912773778514   3099\n",
            "0.9955063108391692   3124\n",
            "0.9998735871973838   3126\n",
            "0.0   3132\n",
            "0.985614412925341   3143\n",
            "0.9999970688310421   3148\n",
            "0.9999938268196721   3152\n",
            "0.9996698452751017   3175\n",
            "0.9988761195137744   3196\n",
            "0.99973234073866   3203\n",
            "0.7374721876474934   3211\n",
            "0.9998380471594028   3214\n",
            "0.8399989326655428   3227\n",
            "0.9999996011296608   3230\n",
            "0.9999999679260474   3231\n",
            "0.546320621655991   3237\n",
            "0.9864959739237174   3244\n",
            "0.9990499527515899   3253\n",
            "0.33603758510077286   3255\n",
            "0.9998834447950488   3259\n",
            "0.9767578413754456   3264\n",
            "0.9999999907172619   3268\n",
            "0.999991771999091   3272\n",
            "0.9997794730816506   3276\n",
            "0.9956449006670212   3281\n",
            "0.9999978350443666   3314\n",
            "0.9971261286734977   3320\n",
            "0.05773903762987331   3351\n",
            "0.9989811343788095   3353\n",
            "0.9960616841596199   3354\n",
            "0.9999999992110589   3379\n",
            "0.9999273072559686   3380\n",
            "0.9982100072989206   3386\n",
            "0.999999999999801   3419\n",
            "0.9997688846375089   3420\n",
            "0.9872264842603022   3421\n",
            "0.9601023064337918   3430\n",
            "0.9999969307362144   3433\n",
            "0.9724897663857003   3434\n",
            "0.9999964338544234   3438\n",
            "0.9750558344086893   3452\n",
            "0.9999999999980417   3454\n",
            "0.9999997028745389   3455\n",
            "0.0   3457\n",
            "0.9299801824310173   3464\n",
            "0.9432648087022003   3471\n",
            "0.9848191825210589   3480\n",
            "0.9991946429587208   3532\n",
            "0.9939883881233863   3546\n",
            "0.9994839531136593   3562\n",
            "0.996123925960971   3582\n",
            "0.5261060950114915   3586\n",
            "0.9999771353775645   3593\n",
            "0.0   3598\n",
            "0.0   3601\n",
            "0.9998234137653962   3605\n",
            "0.6706972823961648   3606\n",
            "0.9770905758234341   3625\n",
            "0.9980744953725981   3638\n",
            "0.998783314013481   3639\n",
            "0.9999997238382918   3641\n",
            "0.9998503377018387   3648\n",
            "0.9911323699019229   3649\n",
            "0.9993028628756189   3651\n",
            "0.9899264873823148   3652\n",
            "0.9999999999999979   3669\n",
            "0.998960186229265   3673\n",
            "0.9999949262757336   3679\n",
            "0.9999607462362208   3689\n",
            "0.9995054799580068   3699\n",
            "0.9998532419852378   3733\n",
            "0.9966004333152798   3741\n",
            "0.9999648937180216   3745\n",
            "0.9993327721869179   3747\n",
            "0.9725182462723244   3761\n",
            "0.9998878458255996   3765\n",
            "0.9995806796279579   3777\n",
            "0.999960535659142   3779\n",
            "0.9999999999733523   3784\n",
            "0.9739833429977438   3786\n",
            "0.8488955443227686   3789\n",
            "0.9753496172013232   3809\n",
            "0.9999694094330828   3815\n",
            "0.9998751172419327   3843\n",
            "0.9971665887659358   3851\n",
            "0.6870682218467119   3852\n",
            "0.9999921717249969   3858\n",
            "0.9945538654157151   3866\n",
            "0.9999681852674445   3894\n",
            "0.9998860880108594   3900\n",
            "0.0   3906\n",
            "0.9999999350092561   3919\n",
            "0.0   3922\n",
            "0.9739635219062284   3925\n",
            "0.9980373177366463   3930\n",
            "0.9996091333534463   3937\n",
            "0.9825507927003865   3974\n",
            "0.9999999723200422   3983\n",
            "0.9946788476966567   3990\n",
            "0.9936035525415489   4005\n",
            "0.9843934335328726   4006\n",
            "0.9975064545471293   4010\n",
            "0.0   4013\n",
            "0.9998428706966446   4014\n",
            "0.9947570887580738   4021\n",
            "0.9915325363569575   4025\n",
            "0.9749393718250092   4032\n",
            "0.99946810564432   4035\n",
            "0.9968250799249785   4036\n",
            "0.9997751591130055   4039\n",
            "0.9997567734469018   4050\n",
            "0.9999989623214665   4057\n",
            "0.9999999828741626   4069\n",
            "0.9869355562181479   4074\n",
            "0.9995593469453131   4077\n",
            "0.9999999999989123   4085\n",
            "0.9964264620381413   4104\n",
            "0.9998684281656274   4105\n",
            "0.9996559860007407   4110\n",
            "0.9999993466457506   4138\n",
            "0.9999999483821217   4144\n",
            "0.0   4147\n",
            "0.9999859578423865   4153\n",
            "0.9999247368417866   4168\n",
            "0.9718463203799559   4169\n",
            "0.9980055172641975   4170\n",
            "0.9998187522305115   4171\n",
            "0.625344015289041   4178\n",
            "0.9999790610216579   4179\n",
            "0.9982596249491216   4181\n",
            "0.8851374176534118   4185\n",
            "0.9907438115533349   4190\n",
            "0.9983747443226367   4191\n",
            "0.4496339839592136   4195\n",
            "0.0   4201\n",
            "0.0   4212\n",
            "0.9170029152630622   4216\n",
            "0.992626181688626   4232\n",
            "0.9999999999305647   4249\n",
            "0.9938775905502466   4262\n",
            "0.9999999110792593   4264\n",
            "0.9996853320502791   4267\n",
            "0.9999857866262346   4273\n",
            "0.9999673884160101   4292\n",
            "0.999999628731026   4303\n",
            "0.9949777583884761   4304\n",
            "0.9946866753588407   4308\n",
            "0.9403028110059051   4318\n",
            "0.9999911991550168   4328\n",
            "0.9982555778447637   4331\n",
            "0.9989449715144645   4337\n",
            "0.074344844636687   4349\n",
            "0.999999982608336   4386\n",
            "0.9999999999202186   4409\n",
            "0.9998084213801669   4428\n",
            "0.9999284490462693   4450\n",
            "0.7825015508637889   4491\n",
            "0.0   4507\n",
            "0.9924282044010925   4516\n",
            "0.9989343849518274   4524\n",
            "0.9992148328786862   4525\n",
            "0.9880460651472249   4533\n",
            "0.9999303494746796   4538\n",
            "0.0   4563\n",
            "0.9154795265361041   4564\n",
            "0.9289046959200473   4574\n",
            "0.9972537463266711   4580\n",
            "0.9997075462190984   4588\n",
            "0.8032637063525866   4589\n",
            "0.9999766832057807   4595\n",
            "0.9999999825002819   4597\n",
            "0.99981356258185   4602\n",
            "0.9999711545948614   4603\n",
            "0.9999907878401129   4606\n",
            "0.9995574564272839   4643\n",
            "0.9957761242809721   4646\n",
            "0.9999156433704122   4651\n",
            "0.9262724108501824   4653\n",
            "0.9999998869959936   4655\n",
            "0.999991437557073   4670\n",
            "0.0   4674\n",
            "0.9901415468650532   4676\n",
            "0.996712660335237   4685\n",
            "0.9993019648370114   4687\n",
            "0.9630231103831798   4691\n",
            "0.9994051479742841   4708\n",
            "0.9999991698001286   4717\n",
            "0.9954307831341362   4719\n",
            "0.9759991106000044   4729\n",
            "0.9776575728129389   4732\n",
            "0.9944415866993328   4733\n",
            "0.9999999999994156   4754\n",
            "0.0   4759\n",
            "0.8749410949903719   4764\n",
            "0.994518692449409   4774\n",
            "0.9714048710941211   4778\n",
            "0.9999999999900229   4806\n",
            "0.9907336304166274   4847\n",
            "0.9807336683477267   4853\n",
            "0.9999998848014972   4858\n",
            "0.993272340285787   4859\n",
            "0.9670096402226215   4864\n",
            "0.9996409870531183   4869\n",
            "0.9954548360599969   4871\n",
            "0.9963785660045525   4872\n",
            "0.8859686513077785   4877\n",
            "0.9103377469292931   4903\n",
            "0.9599902712621208   4909\n",
            "0.9999853387998464   4917\n",
            "0.0   4924\n",
            "0.998838962174985   4927\n",
            "0.8454565259746476   4930\n",
            "0.9941858764880531   4931\n",
            "0.9999974956571726   4932\n",
            "0.9798104118175682   4949\n",
            "0.022768300451381673   4951\n",
            "0.9999797299473535   4953\n",
            "0.9999428900572759   4972\n",
            "0.9982795523076673   4977\n",
            "0.9766970906084049   4984\n",
            "0.9999970086603617   5005\n",
            "0.9868128400124359   5013\n",
            "0.9997394032436062   5014\n",
            "0.9996624884792652   5025\n",
            "0.997610885938045   5036\n",
            "0.9754834168205745   5044\n",
            "0.9999999999940794   5052\n",
            "0.9890432901724879   5072\n",
            "0.9978328474496159   5081\n",
            "0.9736633113263748   5090\n",
            "0.5780656359575749   5091\n",
            "0.7540825975166878   5092\n",
            "0.8983179347972341   5093\n",
            "0.9992798682911915   5112\n",
            "0.9999999636332587   5113\n",
            "0.9999999977418508   5128\n",
            "0.9995283123400088   5132\n",
            "0.999999961966146   5148\n",
            "0.7858640580049279   5156\n",
            "0.9918727540170441   5166\n",
            "0.9899776248500975   5186\n",
            "0.9979597722508883   5193\n",
            "0.9043196651665558   5203\n",
            "0.9992020821964074   5208\n",
            "0.9999888404335762   5211\n",
            "0.9959284149813761   5227\n",
            "0.9999534254227083   5232\n",
            "0.9994461363036901   5252\n",
            "0.999999805903491   5254\n",
            "0.9837808588049749   5258\n",
            "0.9183244440999833   5271\n",
            "0.996057237888143   5281\n",
            "0.9744094271149   5291\n",
            "0.9096984756708723   5314\n",
            "0.9999998836714772   5316\n",
            "0.999999999617504   5318\n",
            "0.9983765425729221   5323\n",
            "0.9999555637670635   5327\n",
            "0.0   5331\n",
            "0.9999819168827095   5350\n",
            "0.999985692446589   5361\n",
            "1.0   5370\n",
            "0.9763147130216537   5384\n",
            "0.9999977913253583   5399\n",
            "0.9999979103517997   5406\n",
            "0.5886322649716738   5416\n",
            "0.9369386971312714   5431\n",
            "0.9999999715280778   5442\n",
            "0.9888667606590423   5453\n",
            "0.0   5457\n",
            "0.9930278118174956   5460\n",
            "0.9999997718560351   5461\n",
            "0.999999999999741   5477\n",
            "0.9995114584505392   5486\n",
            "0.9999999079224419   5490\n",
            "0.9981625314764849   5499\n",
            "0.9999981461773122   5506\n",
            "0.9834000922606807   5514\n",
            "0.9997848643639642   5520\n",
            "0.9999998715345665   5524\n",
            "0.9941067418133608   5534\n",
            "0.9983110890795903   5535\n",
            "0.99946860116389   5544\n",
            "0.999975401709806   5550\n",
            "0.8603939180082191   5552\n",
            "0.9991163752060958   5553\n",
            "0.9810672275759156   5566\n",
            "0.9996764600171223   5588\n",
            "0.9855665792306928   5590\n",
            "0.0   5594\n",
            "0.9975829187294342   5604\n",
            "0.9999981879760733   5614\n",
            "0.9980533165797896   5630\n",
            "0.9999999999999997   5637\n",
            "0.0   5642\n",
            "0.9905690057781669   5646\n",
            "0.9996913241968092   5651\n",
            "0.0   5661\n",
            "0.9998539933638845   5666\n",
            "0.9991577287397325   5679\n",
            "0.9998754760527101   5689\n",
            "0.9995899925736118   5699\n",
            "0.9999566440694775   5722\n",
            "0.3368514812147254   5732\n",
            "0.9992584171585943   5738\n",
            "0.0   5746\n",
            "0.9177972300316909   5759\n",
            "0.993178423129042   5762\n",
            "0.9998181451977713   5776\n",
            "0.9966663009066976   5783\n",
            "0.9999834963633446   5786\n",
            "0.9991538018085422   5794\n",
            "0.9998792533344767   5809\n",
            "0.9999999949312222   5811\n",
            "0.9832135601271788   5831\n",
            "0.9841633054854751   5839\n",
            "0.9984671178943311   5848\n",
            "0.9999995882811243   5859\n",
            "0.9360335851786776   5872\n",
            "0.9997326040514259   5873\n",
            "0.9999989242290841   5880\n",
            "0.9999255029080403   5889\n",
            "0.9999999648994077   5893\n",
            "0.999999999999999   5896\n",
            "0.9998773091503049   5902\n",
            "0.9993138176419022   5915\n",
            "0.9971863417601147   5917\n",
            "0.9988338167385377   5933\n",
            "0.9282398119320677   5943\n",
            "0.9992955655835287   5953\n",
            "0.9974429358415171   5970\n",
            "0.999989567500424   5978\n",
            "0.9999987802536955   5984\n",
            "0.9999966955514646   5991\n",
            "0.8561559713570024   5998\n",
            "0.998551823071713   6005\n",
            "0.9996964702165052   6008\n",
            "0.9997236315134529   6012\n",
            "0.999996904451686   6044\n",
            "0.999996251715502   6058\n",
            "0.9978777635219893   6060\n",
            "0.6574633256719302   6063\n",
            "0.0   6073\n",
            "0.8739344161004141   6083\n",
            "0.9998967625395488   6092\n",
            "0.0   6101\n",
            "0.8752193163170571   6108\n",
            "0.9440611934948183   6110\n",
            "0.9311419866639955   6115\n",
            "0.9999979103926923   6125\n",
            "0.9999914871863592   6135\n",
            "0.9905081736552818   6141\n",
            "0.9533262500054138   6159\n",
            "0.954395631198809   6162\n",
            "0.9999995718413693   6182\n",
            "0.9879845223098456   6192\n",
            "0.9791773746575845   6202\n",
            "0.9980838412079439   6222\n",
            "0.9999958926820236   6224\n",
            "0.9909085060166297   6231\n",
            "0.9990300823158994   6232\n",
            "0.9974437161451362   6233\n",
            "0.989763705303685   6239\n",
            "0.9999590358825685   6254\n",
            "0.9999999861484229   6276\n",
            "0.9468306507095915   6278\n",
            "0.9934253670588653   6308\n",
            "0.9832685100552162   6310\n",
            "0.9999886597070782   6320\n",
            "0.9999347641611487   6329\n",
            "0.9999456448720017   6338\n",
            "0.825636822299314   6356\n",
            "0.9999881264834694   6374\n",
            "0.9999982456085268   6375\n",
            "0.9998700168755567   6397\n",
            "0.9999999999991032   6407\n",
            "0.9999999999999998   6408\n",
            "0.9803700734012741   6419\n",
            "0.9999999999954966   6430\n",
            "0.9984378207549627   6438\n",
            "0.9998317634543805   6445\n",
            "0.9999999999998437   6456\n",
            "0.9945185792296584   6468\n",
            "0.9999963968242359   6472\n",
            "0.9999997150379454   6482\n",
            "0.9999999990852496   6484\n",
            "0.9999795090337412   6502\n",
            "0.9999936344138233   6506\n",
            "0.9989443759488094   6515\n",
            "0.9593481352622425   6527\n",
            "0.9989346418795451   6533\n",
            "0.9927396712486222   6540\n",
            "0.9962324900292983   6545\n",
            "0.9830586044175655   6556\n",
            "0.0   6572\n",
            "0.8777526203472128   6601\n",
            "0.9998795346652332   6604\n",
            "0.9600673037253161   6618\n",
            "0.9990529526156797   6622\n",
            "0.0   6623\n",
            "0.0   6628\n",
            "0.9999660726052969   6634\n",
            "0.9988138632709558   6644\n",
            "0.999943705948163   6652\n",
            "0.9821350443477755   6661\n",
            "0.9941378047139489   6670\n",
            "0.9959453142935816   6673\n",
            "0.9999984378786301   6678\n",
            "0.9999865838263226   6680\n",
            "0.9999094617953305   6683\n",
            "0.995350817881999   6688\n",
            "0.9481954318081922   6694\n",
            "0.972874836973047   6702\n",
            "0.9906350625700282   6712\n",
            "0.9415185447957616   6720\n",
            "0.9732030678447532   6726\n",
            "0.9999311499106204   6729\n",
            "0.9981269838224189   6733\n",
            "0.0   6743\n",
            "0.9995085982607073   6748\n",
            "0.9668327838711276   6751\n",
            "0.9956098877952773   6757\n",
            "0.30045284481758405   6758\n",
            "0.0   6783\n",
            "0.9999999977165536   6789\n",
            "0.9962131773901586   6799\n",
            "1.0   6809\n",
            "0.998591482717333   6819\n",
            "0.9956879607619747   6829\n",
            "0.9992707535792829   6848\n",
            "0.9879178956187912   6868\n",
            "0.9999999999999957   6869\n",
            "0.0   6883\n",
            "0.9999999886469975   6891\n",
            "0.9998219396935643   6901\n",
            "1.0   6902\n",
            "0.9994515237508945   6913\n",
            "0.9999925353178909   6917\n",
            "0.9782217391526407   6928\n",
            "0.9999998897926946   6938\n",
            "0.9859682974853426   6948\n",
            "0.9999340477590001   6961\n",
            "0.9999980276920668   6969\n",
            "0.9999999967590396   6976\n",
            "0.999845336459011   7000\n",
            "0.9999981146037337   7005\n",
            "0.9916019128217973   7014\n",
            "0.9999999978289767   7019\n",
            "0.9985844003964325   7023\n",
            "0.9999970449055184   7048\n",
            "0.9996512759359861   7053\n",
            "0.999989553417715   7063\n",
            "0.9999999999934821   7073\n",
            "0.9967330485190513   7087\n",
            "0.9999999977372757   7091\n",
            "0.985977229533757   7123\n",
            "0.9989601665819561   7138\n",
            "0.9999513465946034   7150\n",
            "0.999083805744144   7165\n",
            "0.9999953333128825   7167\n",
            "0.9981653770553709   7171\n",
            "0.9869827170240351   7173\n",
            "0.99992729893482   7176\n",
            "0.9989251239816901   7183\n",
            "0.9999930473322091   7191\n",
            "0.999999102676796   7217\n",
            "0.9999997836239761   7223\n",
            "0.9993669010597754   7226\n",
            "0.9984953257721109   7228\n",
            "0.9986634126071277   7232\n",
            "0.0   7247\n",
            "0.9950341236042972   7253\n",
            "0.9601570642555519   7262\n",
            "0.9999994367453461   7270\n",
            "0.9993046782164775   7280\n",
            "0.9999999999999941   7290\n",
            "0.9999999890924475   7299\n",
            "0.9999999904381823   7303\n",
            "0.9998033165495057   7319\n",
            "0.9953062759128922   7323\n",
            "0.233510877682636   7325\n",
            "0.9999999999803779   7340\n",
            "0.9970882338458668   7344\n",
            "0.9999522971299487   7353\n",
            "0.9962609250296309   7373\n",
            "0.9971281164224362   7395\n",
            "0.9999915767838723   7399\n",
            "0.7267701109972533   7405\n",
            "0.9989466863613837   7411\n",
            "0.9994980590402401   7418\n",
            "0.9992096990131358   7422\n",
            "0.9999997512988497   7424\n",
            "0.9993420211935983   7442\n",
            "0.9541951595616192   7447\n",
            "0.9980974407406311   7453\n",
            "0.996324206642114   7463\n",
            "1.0   7468\n",
            "0.996863422076194   7480\n",
            "0.7360240033859105   7507\n",
            "0.9890743929832615   7517\n",
            "0.975503825674345   7527\n",
            "0.9859827900637198   7556\n",
            "0.9942720284777775   7561\n",
            "0.9952127356891708   7563\n",
            "0.9993240083673622   7567\n",
            "0.9989058991338333   7581\n",
            "0.9636115102592203   7582\n",
            "0.9999983900973485   7591\n",
            "0.9999846323433427   7600\n",
            "0.9999633179644071   7608\n",
            "0.9999848302630807   7618\n",
            "0.9987043161437968   7626\n",
            "0.9936834893121114   7636\n",
            "0.5584458332133673   7638\n",
            "0.9989439629402019   7658\n",
            "0.995410827647525   7661\n",
            "0.8947178840608343   7665\n",
            "0.9993820753037874   7686\n",
            "0.9952325379696302   7708\n",
            "0.9684372276775134   7717\n",
            "0.9999630262088585   7722\n",
            "0.9984786416386864   7725\n",
            "0.9999798606944467   7728\n",
            "0.9851890954578554   7738\n",
            "0.9938920897502106   7748\n",
            "0.0   7783\n",
            "0.9993163457739623   7784\n",
            "0.66144480766082   7790\n",
            "0.8988093865911968   7802\n",
            "0.6261306809382965   7806\n",
            "0.012967992586119248   7811\n",
            "0.0   7812\n",
            "0.0   7822\n",
            "0.9996551763131107   7832\n",
            "0.7358728324370185   7839\n",
            "0.0   7847\n",
            "0.5764463308014547   7856\n",
            "0.8328660494104297   7869\n",
            "0.9990010867040536   7881\n",
            "0.9387772907140719   7890\n",
            "0.6977995215767139   7896\n",
            "0.0   7899\n",
            "0.8955159525955486   7900\n",
            "0.9128456606801912   7911\n",
            "0.5240605128888682   7916\n",
            "0.46052940808606335   7920\n",
            "0.0   7928\n",
            "0.0   7934\n",
            "0.9915021483678449   7944\n",
            "0.900999649273184   7954\n",
            "0.9997857859770335   7969\n",
            "0.9681952960223865   7973\n",
            "0.9988812190198596   7980\n",
            "0.7347624278944662   7990\n",
            "0.0   8004\n",
            "0.9943212091247924   8005\n",
            "0.0   8020\n",
            "0.9881276708053727   8022\n",
            "0.9390485229487265   8045\n",
            "0.976265727475628   8048\n",
            "0.7968127650150887   8058\n",
            "0.9846831368560655   8068\n",
            "0.9097166845067339   8078\n",
            "0.9997885412337886   8086\n",
            "0.8839676836276433   8088\n",
            "0.9676266596601896   8090\n",
            "0.9641569304497996   8099\n",
            "0.9996303611187053   8100\n",
            "0.9979491789896114   8113\n",
            "0.9830189673819072   8118\n",
            "0.0   8128\n",
            "0.18743163945613261   8138\n",
            "0.9770313634118887   8159\n",
            "0.0   8164\n",
            "0.9927663832969865   8166\n",
            "0.9276053543765044   8187\n",
            "0.9986633792775829   8219\n",
            "0.9975251133863637   8229\n",
            "0.6298846362572903   8231\n",
            "0.9999944911195112   8233\n",
            "0.0   8239\n",
            "0.0   8244\n",
            "0.9936712290311802   8252\n",
            "0.9708966751331463   8261\n",
            "0.9978417268589358   8268\n",
            "0.0   8286\n",
            "0.998755118674189   8289\n",
            "0.9530728833779489   8303\n",
            "0.9678733427074147   8305\n",
            "0.8599615942447197   8306\n",
            "0.9926230115046879   8324\n",
            "0.9991493879320134   8340\n",
            "0.9718244524329982   8344\n",
            "0.9947519014308339   8352\n",
            "0.99715012012141   8360\n",
            "0.9999999954899441   8367\n",
            "0.0   8376\n",
            "0.9947569835408965   8390\n",
            "0.9959583060920822   8396\n",
            "0.9852568015844658   8418\n",
            "0.9999994953426773   8420\n",
            "0.9999027341674058   8427\n",
            "0.9999999870016629   8432\n",
            "0.8940140682022344   8439\n",
            "0.9999427412693435   8443\n",
            "0.9999980887828549   8449\n",
            "0.999941784702722   8459\n",
            "0.0   8469\n",
            "0.994397250286308   8488\n",
            "0.0   8491\n",
            "0.9741944310349471   8493\n",
            "0.9281918158095483   8509\n",
            "0.9997057924075705   8526\n",
            "0.9999999948151508   8536\n",
            "0.9960167118586675   8538\n",
            "0.9993861478986769   8540\n",
            "0.999660341798831   8543\n",
            "0.9998250699988015   8545\n",
            "0.9999990744403713   8549\n",
            "0.9643342815459119   8559\n",
            "0.9978776509973538   8568\n",
            "0.9958975428768259   8575\n",
            "0.9999988155574295   8586\n",
            "0.9960603039983184   8600\n",
            "0.9401150538824501   8604\n",
            "0.20823764679731838   8633\n",
            "0.9999214861700318   8636\n",
            "0.9948660815317665   8650\n",
            "0.9999374340567477   8658\n",
            "0.9956439503187027   8659\n",
            "0.8835549950754287   8666\n",
            "0.9906757234555226   8672\n",
            "0.9907697176333098   8682\n",
            "0.9909058838583009   8692\n",
            "0.9825049037285818   8708\n",
            "0.9998609562611457   8715\n",
            "0.9999961964963229   8720\n",
            "0.9999999999930794   8724\n",
            "0.9805177559273194   8729\n",
            "0.9998305585036141   8740\n",
            "0.9999999999999996   8745\n",
            "0.9999999999999997   8758\n",
            "0.9999998946100814   8768\n",
            "0.9977899358704314   8776\n",
            "0.9925372507304262   8799\n",
            "0.9915744090040006   8809\n",
            "0.9999938945405519   8819\n",
            "0.9931018870062148   8850\n",
            "0.9999984372000718   8862\n",
            "0.9999999993428308   8873\n",
            "0.9999975271380052   8875\n",
            "0.9999999999631903   8887\n",
            "0.9999982322944378   8892\n",
            "0.9936877471086631   8905\n",
            "0.9872275734918223   8914\n",
            "0.9999998012317568   8922\n",
            "0.9966870750865354   8930\n",
            "0.9996447197627913   8938\n",
            "0.9735677349233375   8971\n",
            "0.9897597295297083   8976\n",
            "0.9994522468393943   8979\n",
            "0.9992355517352149   8980\n",
            "0.9999389297706747   8986\n",
            "1.0   8988\n",
            "0.9997124260692916   8995\n",
            "0.9999999999376921   9002\n",
            "0.9999340620446354   9003\n",
            "0.9780709453587726   9005\n",
            "0.9997669145855391   9017\n",
            "0.18320575583534293   9025\n",
            "0.9971448126155138   9030\n",
            "0.9783886630400171   9039\n",
            "0.9999865640980805   9049\n",
            "0.0   9051\n",
            "0.9330652584178214   9061\n",
            "0.09078518563945681   9071\n",
            "0.9906629459668028   9081\n",
            "0.9991855104130947   9090\n",
            "0.9999279555342109   9096\n",
            "0.9975653446447319   9112\n",
            "0.9958548186981527   9120\n",
            "0.894386710615511   9121\n",
            "0.9999979623240416   9124\n",
            "0.9999999999994085   9140\n",
            "0.9956833617098494   9143\n",
            "0.0   9155\n",
            "0.9999625472299839   9171\n",
            "0.8996846900006753   9180\n",
            "0.9999740957733543   9190\n",
            "0.9830274124477201   9200\n",
            "0.9999388321942259   9222\n",
            "0.9471475791112818   9233\n",
            "0.9438844040096687   9241\n",
            "0.9999780990196528   9249\n",
            "0.9987520439230483   9258\n",
            "0.9999049541823423   9265\n",
            "0.999972372049783   9274\n",
            "0.9991878346808845   9282\n",
            "0.9992977676393795   9291\n",
            "0.9965472452760987   9295\n",
            "0.9855231310425433   9301\n",
            "0.9995528767533288   9313\n",
            "0.9887343045089247   9324\n",
            "0.9999995645237733   9335\n",
            "0.9999999945281092   9336\n",
            "0.9989910395958055   9345\n",
            "0.9999999704686552   9348\n",
            "0.9889327768711833   9356\n",
            "0.9998794716604845   9368\n",
            "0.9957344472938604   9378\n",
            "0.8448322173570499   9388\n",
            "0.999880442522777   9395\n",
            "0.9994961161673489   9401\n",
            "0.9999998605335995   9407\n",
            "0.9999998946304892   9415\n",
            "0.9999765411752854   9434\n",
            "0.9999947150906103   9435\n",
            "0.9551435251426752   9438\n",
            "0.9999994198139646   9443\n",
            "0.9999933858256665   9444\n",
            "0.9999999931881774   9464\n",
            "0.9990959882636293   9485\n",
            "0.966886814837385   9489\n",
            "0.9999978310774886   9499\n",
            "0.0   9509\n",
            "0.9999879952698588   9518\n",
            "0.887887861421499   9520\n",
            "0.0   9540\n",
            "0.5943324311402256   9549\n",
            "0.0   9556\n",
            "0.9998349514870813   9570\n",
            "0.9685034059620127   9591\n",
            "0.9999333886137646   9593\n",
            "0.0   9594\n",
            "0.8859922078051811   9599\n",
            "0.9998943134348831   9602\n",
            "0.0   9612\n",
            "0.0   9622\n",
            "0.7958654295926957   9641\n",
            "0.0   9643\n",
            "0.0   9645\n",
            "0.9012022845395293   9649\n",
            "0.0   9653\n",
            "0.0   9657\n",
            "0.0   9661\n",
            "0.9093144186858866   9674\n",
            "0.9950852517293914   9682\n",
            "0.9933120768355492   9689\n",
            "0.0   9699\n",
            "1.0   9705\n",
            "0.9999892040727268   9715\n",
            "0.9999062099215811   9725\n",
            "0.9943511438878085   9737\n",
            "0.9961726634359138   9760\n",
            "0.99999969500442   9772\n",
            "0.8549430827971607   9774\n",
            "0.22598492161172012   9795\n",
            "0.9998549996499726   9796\n",
            "0.9995506942458471   9799\n",
            "0.9998966156685541   9802\n",
            "0.9997799518474882   9810\n",
            "0.9992560858930237   9819\n",
            "0.9996756902309464   9836\n",
            "0.9985345308498039   9838\n",
            "0.9881601443952799   9844\n",
            "0.9999986252496916   9845\n",
            "0.9999913956574644   9846\n",
            "0.9919433039500882   9848\n",
            "0.9904174469698604   9876\n",
            "0.999883052660795   9878\n",
            "0.9991250955711781   9896\n",
            "0.9999999923826339   9898\n",
            "0.99683541751498   9903\n",
            "0.9912819217622222   9912\n",
            "0.9999939966145971   9923\n",
            "0.9998752148833598   9931\n",
            "0.9998404138568606   9946\n",
            "0.9945054566726429   9950\n",
            "0.9661166838306652   9955\n",
            "0.9999999990642743   9956\n",
            "0.9996249802159766   9969\n",
            "0.9971394501203726   9978\n",
            "0.9999653633565465   9984\n",
            "0.9972383483126142   9994\n"
          ],
          "name": "stdout"
        }
      ]
    },
    {
      "cell_type": "code",
      "metadata": {
        "id": "Y3eOzQws3vR0",
        "colab_type": "code",
        "colab": {}
      },
      "source": [
        ""
      ],
      "execution_count": 0,
      "outputs": []
    },
    {
      "cell_type": "code",
      "metadata": {
        "id": "ULAiVJcJ3vMH",
        "colab_type": "code",
        "colab": {}
      },
      "source": [
        ""
      ],
      "execution_count": 0,
      "outputs": []
    },
    {
      "cell_type": "code",
      "metadata": {
        "id": "O3cvzi-H3t94",
        "colab_type": "code",
        "colab": {}
      },
      "source": [
        ""
      ],
      "execution_count": 0,
      "outputs": []
    },
    {
      "cell_type": "code",
      "metadata": {
        "id": "Mqeb3wzh3uDV",
        "colab_type": "code",
        "colab": {}
      },
      "source": [
        ""
      ],
      "execution_count": 0,
      "outputs": []
    },
    {
      "cell_type": "code",
      "metadata": {
        "id": "RziKViAb3uGz",
        "colab_type": "code",
        "colab": {}
      },
      "source": [
        ""
      ],
      "execution_count": 0,
      "outputs": []
    },
    {
      "cell_type": "code",
      "metadata": {
        "id": "GoJEVpQH3uJ0",
        "colab_type": "code",
        "colab": {}
      },
      "source": [
        ""
      ],
      "execution_count": 0,
      "outputs": []
    },
    {
      "cell_type": "code",
      "metadata": {
        "id": "px5ybq1c3uOw",
        "colab_type": "code",
        "colab": {}
      },
      "source": [
        ""
      ],
      "execution_count": 0,
      "outputs": []
    },
    {
      "cell_type": "code",
      "metadata": {
        "id": "vqAp4TXUQaqO",
        "colab_type": "code",
        "colab": {}
      },
      "source": [
        ""
      ],
      "execution_count": 0,
      "outputs": []
    },
    {
      "cell_type": "code",
      "metadata": {
        "id": "0blMpcT_eHIc",
        "colab_type": "code",
        "colab": {}
      },
      "source": [
        ""
      ],
      "execution_count": 0,
      "outputs": []
    },
    {
      "cell_type": "code",
      "metadata": {
        "id": "bFlsEUEVuP6r",
        "colab_type": "code",
        "colab": {}
      },
      "source": [
        ""
      ],
      "execution_count": 0,
      "outputs": []
    },
    {
      "cell_type": "code",
      "metadata": {
        "id": "HSbU0xYduPvh",
        "colab_type": "code",
        "colab": {}
      },
      "source": [
        ""
      ],
      "execution_count": 0,
      "outputs": []
    },
    {
      "cell_type": "code",
      "metadata": {
        "id": "kDaCsKylpqaX",
        "colab_type": "code",
        "colab": {}
      },
      "source": [
        ""
      ],
      "execution_count": 0,
      "outputs": []
    },
    {
      "cell_type": "code",
      "metadata": {
        "id": "zU6Qeva1pqeb",
        "colab_type": "code",
        "colab": {}
      },
      "source": [
        ""
      ],
      "execution_count": 0,
      "outputs": []
    },
    {
      "cell_type": "code",
      "metadata": {
        "id": "aMvoiAVrpqgQ",
        "colab_type": "code",
        "colab": {}
      },
      "source": [
        ""
      ],
      "execution_count": 0,
      "outputs": []
    },
    {
      "cell_type": "code",
      "metadata": {
        "id": "g3c2B-gZpqkx",
        "colab_type": "code",
        "colab": {}
      },
      "source": [
        ""
      ],
      "execution_count": 0,
      "outputs": []
    },
    {
      "cell_type": "code",
      "metadata": {
        "id": "p5TJZDLKpqm1",
        "colab_type": "code",
        "colab": {}
      },
      "source": [
        ""
      ],
      "execution_count": 0,
      "outputs": []
    }
  ]
}